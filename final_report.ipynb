{
 "cells": [
  {
   "cell_type": "markdown",
   "id": "def18bc9",
   "metadata": {},
   "source": [
    "# Wine Project\n",
    "\n",
    "## Project Description\n",
    "We are part of a data science team using the wine data set to develop a machine learning model that will help to predict the quality of wines. \n",
    "\n",
    "## Project Goals\n",
    "- To discover drivers of quality of wine\n",
    "- Use the drivers to develop a ML program that predicts the quality of wine\n",
    "- Deliver a report to a data science team"
   ]
  },
  {
   "cell_type": "code",
   "execution_count": 1,
   "id": "d9068d17",
   "metadata": {},
   "outputs": [],
   "source": [
    "import functions as f"
   ]
  },
  {
   "cell_type": "markdown",
   "id": "bf837c59",
   "metadata": {},
   "source": [
    "## Acquire\n",
    "\n",
    "- data gathered from the Wine dataset from DataWorld\n",
    "- each row represents a wine\n",
    "- each column represents a feature of the wine\n",
    "- the data gathered from the database started at 55,502 rows and 7 columns"
   ]
  },
  {
   "cell_type": "markdown",
   "id": "d185583d",
   "metadata": {},
   "source": [
    "## Prepare\n",
    "\n",
    "### Prepare Actions:\n",
    "\n",
    "- Removed columns that did not contain useful information\n",
    "- Checked that column data types were appropriate\n",
    "- Split data into train, validate and test (approx. 60/20/20), stratifying on 'quality'"
   ]
  },
  {
   "cell_type": "markdown",
   "id": "bbd82545",
   "metadata": {},
   "source": [
    "## Data Dictionary\n",
    "|Target Variable | Definition|\n",
    "|-----------------|-----------|\n",
    "| quality | The quality of the wine |\n",
    "\n",
    "| Feature  | Definition |\n",
    "|----------|------------|\n",
    "| fixed acidity |  The total amount of acids of the wine (g/L) |\n",
    "| volatile acidity |  The amount of organic acids that can be extracted through distillation (g/L) |\n",
    "| citric acid |  The amount of citric acid in the wine (g/mL) |\n",
    "| sugar |  The amount of sugar in the wine (g) |\n",
    "| chlorides | The amount of chloride and sodium in the wine (mg/mL) |\n",
    "| fso2 | The amount of Free Sulfur Dioxide in the wine (PPM) |\n",
    "| tso2 | The total amount of Sulfur Dioxide in the wine (PPM) |\n",
    "| density | g/mL of the wine |\n",
    "| pH | pH level of the wine |\n",
    "| alcohol | Alcohol percentage in the wine |\n",
    "| type | Red or white wine | "
   ]
  },
  {
   "cell_type": "code",
   "execution_count": null,
   "id": "e129bd18",
   "metadata": {},
   "outputs": [],
   "source": []
  }
 ],
 "metadata": {
  "kernelspec": {
   "display_name": "Python 3 (ipykernel)",
   "language": "python",
   "name": "python3"
  },
  "language_info": {
   "codemirror_mode": {
    "name": "ipython",
    "version": 3
   },
   "file_extension": ".py",
   "mimetype": "text/x-python",
   "name": "python",
   "nbconvert_exporter": "python",
   "pygments_lexer": "ipython3",
   "version": "3.9.13"
  }
 },
 "nbformat": 4,
 "nbformat_minor": 5
}
