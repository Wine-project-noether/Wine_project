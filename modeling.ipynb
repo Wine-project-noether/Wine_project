{
 "cells": [
  {
   "cell_type": "code",
   "execution_count": 114,
   "id": "20ad10e5",
   "metadata": {},
   "outputs": [],
   "source": [
    "import pandas as pd\n",
    "import numpy as np\n",
    "import matplotlib.pyplot as plt\n",
    "import seaborn as sns\n",
    "import prepare as prep\n",
    "\n",
    "import warnings\n",
    "warnings.filterwarnings('ignore')\n",
    "\n",
    "from scipy import stats\n",
    "\n",
    "from sklearn.tree import DecisionTreeClassifier, plot_tree\n",
    "from sklearn.metrics import classification_report\n",
    "from sklearn.metrics import confusion_matrix\n",
    "from sklearn.ensemble import RandomForestClassifier\n",
    "from sklearn.linear_model import LogisticRegression\n",
    "from sklearn.neighbors import KNeighborsClassifier"
   ]
  },
  {
   "cell_type": "code",
   "execution_count": 115,
   "id": "c4c059df",
   "metadata": {},
   "outputs": [],
   "source": [
    "df = pd.read_csv('wine_df.csv')\n",
    "df.drop(columns=['Unnamed: 0', 'Unnamed: 0.1', 'sulphates'], inplace=True)\n",
    "df.rename(columns={'fixed acidity':'fixed','volatile acidity':'volatile','citric acid':'citric',\n",
    "           'residual sugar':'sugar','free sulfur dioxide':'fso2','total sulfur dioxide':'tso2'}, inplace=True)"
   ]
  },
  {
   "cell_type": "code",
   "execution_count": 116,
   "id": "883833ae",
   "metadata": {},
   "outputs": [],
   "source": [
    "col_list = df.select_dtypes(include=['float64','int64']).columns[:-1]"
   ]
  },
  {
   "cell_type": "code",
   "execution_count": 117,
   "id": "965cd4c7",
   "metadata": {},
   "outputs": [
    {
     "name": "stdout",
     "output_type": "stream",
     "text": [
      "quality column ignored\n",
      "type column ignored\n"
     ]
    }
   ],
   "source": [
    "df, var_fences = p.remove_outliers(df)"
   ]
  },
  {
   "cell_type": "code",
   "execution_count": 118,
   "id": "6751fe57",
   "metadata": {},
   "outputs": [
    {
     "data": {
      "text/html": [
       "<div>\n",
       "<style scoped>\n",
       "    .dataframe tbody tr th:only-of-type {\n",
       "        vertical-align: middle;\n",
       "    }\n",
       "\n",
       "    .dataframe tbody tr th {\n",
       "        vertical-align: top;\n",
       "    }\n",
       "\n",
       "    .dataframe thead th {\n",
       "        text-align: right;\n",
       "    }\n",
       "</style>\n",
       "<table border=\"1\" class=\"dataframe\">\n",
       "  <thead>\n",
       "    <tr style=\"text-align: right;\">\n",
       "      <th></th>\n",
       "      <th>fixed</th>\n",
       "      <th>volatile</th>\n",
       "      <th>citric</th>\n",
       "      <th>sugar</th>\n",
       "      <th>chlorides</th>\n",
       "      <th>fso2</th>\n",
       "      <th>tso2</th>\n",
       "      <th>density</th>\n",
       "      <th>pH</th>\n",
       "      <th>alcohol</th>\n",
       "      <th>quality</th>\n",
       "      <th>type</th>\n",
       "    </tr>\n",
       "  </thead>\n",
       "  <tbody>\n",
       "    <tr>\n",
       "      <th>1</th>\n",
       "      <td>6.3</td>\n",
       "      <td>0.30</td>\n",
       "      <td>0.34</td>\n",
       "      <td>1.6</td>\n",
       "      <td>0.049</td>\n",
       "      <td>14.0</td>\n",
       "      <td>132.0</td>\n",
       "      <td>0.9940</td>\n",
       "      <td>3.30</td>\n",
       "      <td>9.5</td>\n",
       "      <td>6</td>\n",
       "      <td>white</td>\n",
       "    </tr>\n",
       "    <tr>\n",
       "      <th>2</th>\n",
       "      <td>8.1</td>\n",
       "      <td>0.28</td>\n",
       "      <td>0.40</td>\n",
       "      <td>6.9</td>\n",
       "      <td>0.050</td>\n",
       "      <td>30.0</td>\n",
       "      <td>97.0</td>\n",
       "      <td>0.9951</td>\n",
       "      <td>3.26</td>\n",
       "      <td>10.1</td>\n",
       "      <td>6</td>\n",
       "      <td>white</td>\n",
       "    </tr>\n",
       "    <tr>\n",
       "      <th>3</th>\n",
       "      <td>7.2</td>\n",
       "      <td>0.23</td>\n",
       "      <td>0.32</td>\n",
       "      <td>8.5</td>\n",
       "      <td>0.058</td>\n",
       "      <td>47.0</td>\n",
       "      <td>186.0</td>\n",
       "      <td>0.9956</td>\n",
       "      <td>3.19</td>\n",
       "      <td>9.9</td>\n",
       "      <td>6</td>\n",
       "      <td>white</td>\n",
       "    </tr>\n",
       "    <tr>\n",
       "      <th>4</th>\n",
       "      <td>7.2</td>\n",
       "      <td>0.23</td>\n",
       "      <td>0.32</td>\n",
       "      <td>8.5</td>\n",
       "      <td>0.058</td>\n",
       "      <td>47.0</td>\n",
       "      <td>186.0</td>\n",
       "      <td>0.9956</td>\n",
       "      <td>3.19</td>\n",
       "      <td>9.9</td>\n",
       "      <td>6</td>\n",
       "      <td>white</td>\n",
       "    </tr>\n",
       "    <tr>\n",
       "      <th>5</th>\n",
       "      <td>8.1</td>\n",
       "      <td>0.28</td>\n",
       "      <td>0.40</td>\n",
       "      <td>6.9</td>\n",
       "      <td>0.050</td>\n",
       "      <td>30.0</td>\n",
       "      <td>97.0</td>\n",
       "      <td>0.9951</td>\n",
       "      <td>3.26</td>\n",
       "      <td>10.1</td>\n",
       "      <td>6</td>\n",
       "      <td>white</td>\n",
       "    </tr>\n",
       "  </tbody>\n",
       "</table>\n",
       "</div>"
      ],
      "text/plain": [
       "   fixed  volatile  citric  sugar  chlorides  fso2   tso2  density    pH  \\\n",
       "1    6.3      0.30    0.34    1.6      0.049  14.0  132.0   0.9940  3.30   \n",
       "2    8.1      0.28    0.40    6.9      0.050  30.0   97.0   0.9951  3.26   \n",
       "3    7.2      0.23    0.32    8.5      0.058  47.0  186.0   0.9956  3.19   \n",
       "4    7.2      0.23    0.32    8.5      0.058  47.0  186.0   0.9956  3.19   \n",
       "5    8.1      0.28    0.40    6.9      0.050  30.0   97.0   0.9951  3.26   \n",
       "\n",
       "   alcohol  quality   type  \n",
       "1      9.5        6  white  \n",
       "2     10.1        6  white  \n",
       "3      9.9        6  white  \n",
       "4      9.9        6  white  \n",
       "5     10.1        6  white  "
      ]
     },
     "execution_count": 118,
     "metadata": {},
     "output_type": "execute_result"
    }
   ],
   "source": [
    "df.head()"
   ]
  },
  {
   "cell_type": "code",
   "execution_count": 119,
   "id": "7951e002",
   "metadata": {},
   "outputs": [],
   "source": [
    "df = df[(df['quality']!=3) & (df['quality']!=9)]"
   ]
  },
  {
   "cell_type": "code",
   "execution_count": 220,
   "id": "55a18f21",
   "metadata": {},
   "outputs": [
    {
     "data": {
      "text/plain": [
       "0.45057968166633916"
      ]
     },
     "execution_count": 220,
     "metadata": {},
     "output_type": "execute_result"
    }
   ],
   "source": [
    "(df['quality']==6).mean()"
   ]
  },
  {
   "cell_type": "code",
   "execution_count": 122,
   "id": "373c5f71",
   "metadata": {},
   "outputs": [],
   "source": [
    "df = pd.get_dummies(df, columns=['type'])"
   ]
  },
  {
   "cell_type": "code",
   "execution_count": 123,
   "id": "7e09cf91",
   "metadata": {},
   "outputs": [],
   "source": [
    "X_train, y_train, X_val, y_val, X_test, y_test= prep.x_y_split(df, 'quality')"
   ]
  },
  {
   "cell_type": "code",
   "execution_count": 124,
   "id": "87cd571b",
   "metadata": {},
   "outputs": [
    {
     "data": {
      "text/html": [
       "<div>\n",
       "<style scoped>\n",
       "    .dataframe tbody tr th:only-of-type {\n",
       "        vertical-align: middle;\n",
       "    }\n",
       "\n",
       "    .dataframe tbody tr th {\n",
       "        vertical-align: top;\n",
       "    }\n",
       "\n",
       "    .dataframe thead th {\n",
       "        text-align: right;\n",
       "    }\n",
       "</style>\n",
       "<table border=\"1\" class=\"dataframe\">\n",
       "  <thead>\n",
       "    <tr style=\"text-align: right;\">\n",
       "      <th></th>\n",
       "      <th>fixed</th>\n",
       "      <th>volatile</th>\n",
       "      <th>citric</th>\n",
       "      <th>sugar</th>\n",
       "      <th>chlorides</th>\n",
       "      <th>fso2</th>\n",
       "      <th>tso2</th>\n",
       "      <th>density</th>\n",
       "      <th>pH</th>\n",
       "      <th>alcohol</th>\n",
       "      <th>type_red</th>\n",
       "      <th>type_white</th>\n",
       "    </tr>\n",
       "  </thead>\n",
       "  <tbody>\n",
       "    <tr>\n",
       "      <th>3498</th>\n",
       "      <td>6.4</td>\n",
       "      <td>0.30</td>\n",
       "      <td>0.36</td>\n",
       "      <td>2.00</td>\n",
       "      <td>0.052</td>\n",
       "      <td>18.0</td>\n",
       "      <td>141.0</td>\n",
       "      <td>0.99273</td>\n",
       "      <td>3.38</td>\n",
       "      <td>10.5</td>\n",
       "      <td>0</td>\n",
       "      <td>1</td>\n",
       "    </tr>\n",
       "    <tr>\n",
       "      <th>2089</th>\n",
       "      <td>7.9</td>\n",
       "      <td>0.17</td>\n",
       "      <td>0.32</td>\n",
       "      <td>1.60</td>\n",
       "      <td>0.053</td>\n",
       "      <td>47.0</td>\n",
       "      <td>150.0</td>\n",
       "      <td>0.99480</td>\n",
       "      <td>3.29</td>\n",
       "      <td>9.6</td>\n",
       "      <td>0</td>\n",
       "      <td>1</td>\n",
       "    </tr>\n",
       "    <tr>\n",
       "      <th>4934</th>\n",
       "      <td>7.8</td>\n",
       "      <td>0.60</td>\n",
       "      <td>0.14</td>\n",
       "      <td>2.40</td>\n",
       "      <td>0.086</td>\n",
       "      <td>3.0</td>\n",
       "      <td>15.0</td>\n",
       "      <td>0.99750</td>\n",
       "      <td>3.42</td>\n",
       "      <td>10.8</td>\n",
       "      <td>1</td>\n",
       "      <td>0</td>\n",
       "    </tr>\n",
       "    <tr>\n",
       "      <th>446</th>\n",
       "      <td>5.8</td>\n",
       "      <td>0.28</td>\n",
       "      <td>0.27</td>\n",
       "      <td>2.60</td>\n",
       "      <td>0.054</td>\n",
       "      <td>30.0</td>\n",
       "      <td>156.0</td>\n",
       "      <td>0.99140</td>\n",
       "      <td>3.53</td>\n",
       "      <td>12.4</td>\n",
       "      <td>0</td>\n",
       "      <td>1</td>\n",
       "    </tr>\n",
       "    <tr>\n",
       "      <th>3392</th>\n",
       "      <td>6.7</td>\n",
       "      <td>0.38</td>\n",
       "      <td>0.26</td>\n",
       "      <td>9.55</td>\n",
       "      <td>0.036</td>\n",
       "      <td>35.0</td>\n",
       "      <td>91.0</td>\n",
       "      <td>0.99190</td>\n",
       "      <td>2.98</td>\n",
       "      <td>12.4</td>\n",
       "      <td>0</td>\n",
       "      <td>1</td>\n",
       "    </tr>\n",
       "  </tbody>\n",
       "</table>\n",
       "</div>"
      ],
      "text/plain": [
       "      fixed  volatile  citric  sugar  chlorides  fso2   tso2  density    pH  \\\n",
       "3498    6.4      0.30    0.36   2.00      0.052  18.0  141.0  0.99273  3.38   \n",
       "2089    7.9      0.17    0.32   1.60      0.053  47.0  150.0  0.99480  3.29   \n",
       "4934    7.8      0.60    0.14   2.40      0.086   3.0   15.0  0.99750  3.42   \n",
       "446     5.8      0.28    0.27   2.60      0.054  30.0  156.0  0.99140  3.53   \n",
       "3392    6.7      0.38    0.26   9.55      0.036  35.0   91.0  0.99190  2.98   \n",
       "\n",
       "      alcohol  type_red  type_white  \n",
       "3498     10.5         0           1  \n",
       "2089      9.6         0           1  \n",
       "4934     10.8         1           0  \n",
       "446      12.4         0           1  \n",
       "3392     12.4         0           1  "
      ]
     },
     "execution_count": 124,
     "metadata": {},
     "output_type": "execute_result"
    }
   ],
   "source": [
    "X_train.head()"
   ]
  },
  {
   "cell_type": "code",
   "execution_count": 207,
   "id": "dd5976d5",
   "metadata": {},
   "outputs": [],
   "source": [
    "tree_train = []\n",
    "tree_val = []\n",
    "depth = []\n",
    "for i in range(2, 21):\n",
    "    train_tree = DecisionTreeClassifier(max_depth=i, random_state=42)\n",
    "    train_tree = train_tree.fit(X_train, y_train)\n",
    "    \n",
    "    tree_train.append(train_tree.score(X_train, y_train))\n",
    "    tree_val.append(train_tree.score(X_val, y_val))\n",
    "    depth.append(i)"
   ]
  },
  {
   "cell_type": "code",
   "execution_count": 208,
   "id": "cafbebc5",
   "metadata": {},
   "outputs": [],
   "source": [
    "scores = pd.DataFrame({'score':tree_train,\n",
    "                       'type':'train',\n",
    "                       'depth':depth})"
   ]
  },
  {
   "cell_type": "code",
   "execution_count": 209,
   "id": "43d5130c",
   "metadata": {},
   "outputs": [],
   "source": [
    "val_scores = pd.DataFrame({'score':tree_val,\n",
    "                           'type':'val',\n",
    "                           'depth':depth})"
   ]
  },
  {
   "cell_type": "code",
   "execution_count": 210,
   "id": "2ddc4796",
   "metadata": {},
   "outputs": [],
   "source": [
    "scores = scores.append(val_scores)"
   ]
  },
  {
   "cell_type": "code",
   "execution_count": 211,
   "id": "f893482b",
   "metadata": {},
   "outputs": [
    {
     "data": {
      "image/png": "[encoded data removed]",
      "text/plain": [
       "<Figure size 640x480 with 1 Axes>"
      ]
     },
     "metadata": {},
     "output_type": "display_data"
    }
   ],
   "source": [
    "sns.scatterplot(x='depth', y='score', data=scores, hue='type')\n",
    "plt.xlabel('Depth')\n",
    "plt.ylabel('Score')\n",
    "plt.show()"
   ]
  },
  {
   "cell_type": "code",
   "execution_count": 212,
   "id": "6bc4aa80",
   "metadata": {},
   "outputs": [],
   "source": [
    "rfc_train = []\n",
    "rfc_val = []\n",
    "depth = []\n",
    "for i in range(2, 21):\n",
    "    rf = RandomForestClassifier(bootstrap=True, \n",
    "                                class_weight=None, \n",
    "                                criterion='gini',\n",
    "                                min_samples_leaf=3,\n",
    "                                n_estimators=100,\n",
    "                                max_depth=i, \n",
    "                                random_state=42)\n",
    "    \n",
    "    rf.fit(X_train, y_train)\n",
    "    \n",
    "    rfc_train.append(rf.score(X_train, y_train))\n",
    "    rfc_val.append(rf.score(X_val, y_val))\n",
    "    depth.append(i)"
   ]
  },
  {
   "cell_type": "code",
   "execution_count": 213,
   "id": "185bce77",
   "metadata": {},
   "outputs": [],
   "source": [
    "rfc_scores = pd.DataFrame({'score':rfc_train,\n",
    "                           'type':'train',\n",
    "                           'depth':depth})\n",
    "\n",
    "val_rfc_scores = pd.DataFrame({'score':rfc_val,\n",
    "                               'type':'val',\n",
    "                               'depth':depth})\n",
    "\n",
    "rfc_scores = rfc_scores.append(val_rfc_scores)"
   ]
  },
  {
   "cell_type": "code",
   "execution_count": 214,
   "id": "c98c1b1e",
   "metadata": {},
   "outputs": [
    {
     "data": {
      "image/png": "[encoded data removed]",
      "text/plain": [
       "<Figure size 640x480 with 1 Axes>"
      ]
     },
     "metadata": {},
     "output_type": "display_data"
    }
   ],
   "source": [
    "sns.scatterplot(x='depth', y='score', data=rfc_scores, hue='type')\n",
    "plt.xlabel('Depth')\n",
    "plt.ylabel('Score')\n",
    "plt.show()"
   ]
  },
  {
   "cell_type": "code",
   "execution_count": 132,
   "id": "0d947d93",
   "metadata": {},
   "outputs": [
    {
     "name": "stdout",
     "output_type": "stream",
     "text": [
      "lbfgs\n",
      "Train:  0.4716672125777923\n",
      "Val:  0.4548133595284872\n"
     ]
    }
   ],
   "source": [
    "logit = LogisticRegression(C=1, random_state=42, solver='lbfgs')\n",
    "logit.fit(X_train, y_train)\n",
    "y_pred = logit.predict(X_train)\n",
    "print('lbfgs')\n",
    "print('Train: ', logit.score(X_train, y_train))\n",
    "print('Val: ', logit.score(X_val, y_val))"
   ]
  },
  {
   "cell_type": "code",
   "execution_count": 135,
   "id": "5dc057a3",
   "metadata": {},
   "outputs": [
    {
     "name": "stdout",
     "output_type": "stream",
     "text": [
      "newton-cg\n",
      "Train:  0.5450376678676712\n",
      "Val:  0.5275049115913556\n"
     ]
    }
   ],
   "source": [
    "logit = LogisticRegression(C=1, random_state=42, solver='newton-cg')\n",
    "logit.fit(X_train, y_train)\n",
    "y_pred = logit.predict(X_train)\n",
    "print('newton-cg')\n",
    "print('Train: ', logit.score(X_train, y_train))\n",
    "print('Val: ', logit.score(X_val, y_val))"
   ]
  },
  {
   "cell_type": "code",
   "execution_count": 140,
   "id": "ee8dfeb9",
   "metadata": {},
   "outputs": [
    {
     "name": "stdout",
     "output_type": "stream",
     "text": [
      "liblinear\n",
      "Train:  0.53422862757943\n",
      "Val:  0.537328094302554\n"
     ]
    }
   ],
   "source": [
    "logit = LogisticRegression(C=2, random_state=42, solver='liblinear')\n",
    "logit.fit(X_train, y_train)\n",
    "y_pred = logit.predict(X_train)\n",
    "print('liblinear')\n",
    "print('Train: ', logit.score(X_train, y_train))\n",
    "print('Val: ', logit.score(X_val, y_val))"
   ]
  },
  {
   "cell_type": "code",
   "execution_count": 138,
   "id": "96c1bec2",
   "metadata": {},
   "outputs": [
    {
     "name": "stdout",
     "output_type": "stream",
     "text": [
      "sag\n",
      "Train:  0.4818211595152309\n",
      "Val:  0.4538310412573674\n"
     ]
    }
   ],
   "source": [
    "logit = LogisticRegression(C=1, random_state=42, solver='sag')\n",
    "logit.fit(X_train, y_train)\n",
    "y_pred = logit.predict(X_train)\n",
    "print('sag')\n",
    "print('Train: ', logit.score(X_train, y_train))\n",
    "print('Val: ', logit.score(X_val, y_val))"
   ]
  },
  {
   "cell_type": "code",
   "execution_count": 139,
   "id": "7caf1095",
   "metadata": {},
   "outputs": [
    {
     "name": "stdout",
     "output_type": "stream",
     "text": [
      "saga\n",
      "Train:  0.4723223059285948\n",
      "Val:  0.44695481335952847\n"
     ]
    }
   ],
   "source": [
    "logit = LogisticRegression(C=1, random_state=42, solver='saga')\n",
    "logit.fit(X_train, y_train)\n",
    "y_pred = logit.predict(X_train)\n",
    "print('saga')\n",
    "print('Train: ', logit.score(X_train, y_train))\n",
    "print('Val: ', logit.score(X_val, y_val))"
   ]
  },
  {
   "cell_type": "code",
   "execution_count": 199,
   "id": "6ee3bddf",
   "metadata": {},
   "outputs": [],
   "source": [
    "knn_train = []\n",
    "knn_val = []\n",
    "depth = []\n",
    "\n",
    "for i in range(2, 51):\n",
    "    knn = KNeighborsClassifier(n_neighbors=i, weights='uniform')\n",
    "    knn.fit(X_train, y_train)\n",
    "    y_pred = knn.predict(X_train)\n",
    "    y_pred_proba = knn.predict_proba(X_train)\n",
    "    \n",
    "    depth.append(i)\n",
    "    knn_train.append(knn.score(X_train, y_train))\n",
    "    knn_val.append(knn.score(X_val, y_val))"
   ]
  },
  {
   "cell_type": "code",
   "execution_count": 200,
   "id": "1405708f",
   "metadata": {},
   "outputs": [],
   "source": [
    "knn_scores = pd.DataFrame({'score':knn_train,\n",
    "                           'type':'train',\n",
    "                           'depth':depth})\n",
    "\n",
    "val_knn_scores = pd.DataFrame({'score':knn_val,\n",
    "                               'type':'val',\n",
    "                               'depth':depth})\n",
    "\n",
    "knn_scores = knn_scores.append(val_knn_scores)"
   ]
  },
  {
   "cell_type": "code",
   "execution_count": 201,
   "id": "c1223e94",
   "metadata": {},
   "outputs": [
    {
     "data": {
      "image/png": "[encoded data removed]",
      "text/plain": [
       "<Figure size 640x480 with 1 Axes>"
      ]
     },
     "metadata": {},
     "output_type": "display_data"
    }
   ],
   "source": [
    "sns.scatterplot(x='depth', y='score', data=knn_scores, hue='type')\n",
    "plt.xlabel('Depth')\n",
    "plt.ylabel('Score')\n",
    "plt.show()"
   ]
  },
  {
   "cell_type": "code",
   "execution_count": 215,
   "id": "b56a6630",
   "metadata": {},
   "outputs": [
    {
     "data": {
      "text/html": [
       "<div>\n",
       "<style scoped>\n",
       "    .dataframe tbody tr th:only-of-type {\n",
       "        vertical-align: middle;\n",
       "    }\n",
       "\n",
       "    .dataframe tbody tr th {\n",
       "        vertical-align: top;\n",
       "    }\n",
       "\n",
       "    .dataframe thead th {\n",
       "        text-align: right;\n",
       "    }\n",
       "</style>\n",
       "<table border=\"1\" class=\"dataframe\">\n",
       "  <thead>\n",
       "    <tr style=\"text-align: right;\">\n",
       "      <th></th>\n",
       "      <th>score</th>\n",
       "      <th>type</th>\n",
       "      <th>depth</th>\n",
       "    </tr>\n",
       "  </thead>\n",
       "  <tbody>\n",
       "    <tr>\n",
       "      <th>3</th>\n",
       "      <td>0.598755</td>\n",
       "      <td>train</td>\n",
       "      <td>5</td>\n",
       "    </tr>\n",
       "    <tr>\n",
       "      <th>3</th>\n",
       "      <td>0.560904</td>\n",
       "      <td>val</td>\n",
       "      <td>5</td>\n",
       "    </tr>\n",
       "  </tbody>\n",
       "</table>\n",
       "</div>"
      ],
      "text/plain": [
       "      score   type  depth\n",
       "3  0.598755  train      5\n",
       "3  0.560904    val      5"
      ]
     },
     "execution_count": 215,
     "metadata": {},
     "output_type": "execute_result"
    }
   ],
   "source": [
    "rfc_scores[rfc_scores['depth']==5]"
   ]
  },
  {
   "cell_type": "code",
   "execution_count": 216,
   "id": "557a1181",
   "metadata": {},
   "outputs": [
    {
     "data": {
      "text/html": [
       "<div>\n",
       "<style scoped>\n",
       "    .dataframe tbody tr th:only-of-type {\n",
       "        vertical-align: middle;\n",
       "    }\n",
       "\n",
       "    .dataframe tbody tr th {\n",
       "        vertical-align: top;\n",
       "    }\n",
       "\n",
       "    .dataframe thead th {\n",
       "        text-align: right;\n",
       "    }\n",
       "</style>\n",
       "<table border=\"1\" class=\"dataframe\">\n",
       "  <thead>\n",
       "    <tr style=\"text-align: right;\">\n",
       "      <th></th>\n",
       "      <th>score</th>\n",
       "      <th>type</th>\n",
       "      <th>depth</th>\n",
       "    </tr>\n",
       "  </thead>\n",
       "  <tbody>\n",
       "    <tr>\n",
       "      <th>3</th>\n",
       "      <td>0.560760</td>\n",
       "      <td>train</td>\n",
       "      <td>5</td>\n",
       "    </tr>\n",
       "    <tr>\n",
       "      <th>3</th>\n",
       "      <td>0.532417</td>\n",
       "      <td>val</td>\n",
       "      <td>5</td>\n",
       "    </tr>\n",
       "  </tbody>\n",
       "</table>\n",
       "</div>"
      ],
      "text/plain": [
       "      score   type  depth\n",
       "3  0.560760  train      5\n",
       "3  0.532417    val      5"
      ]
     },
     "execution_count": 216,
     "metadata": {},
     "output_type": "execute_result"
    }
   ],
   "source": [
    "scores[scores['depth']==5]"
   ]
  },
  {
   "cell_type": "code",
   "execution_count": 222,
   "id": "4589e542",
   "metadata": {},
   "outputs": [
    {
     "data": {
      "text/plain": [
       "0.6473477406679764"
      ]
     },
     "execution_count": 222,
     "metadata": {},
     "output_type": "execute_result"
    }
   ],
   "source": [
    "rf = RandomForestClassifier(bootstrap=True, \n",
    "                                class_weight=None, \n",
    "                                criterion='gini',\n",
    "                                min_samples_leaf=3,\n",
    "                                n_estimators=100,\n",
    "                                max_depth=i, \n",
    "                                random_state=42)\n",
    "    \n",
    "rf.fit(X_train, y_train)\n",
    "\n",
    "rf.score(X_test, y_test)"
   ]
  },
  {
   "cell_type": "code",
   "execution_count": null,
   "id": "7b684d9d",
   "metadata": {},
   "outputs": [],
   "source": []
  }
 ],
 "metadata": {
  "kernelspec": {
   "display_name": "Python 3 (ipykernel)",
   "language": "python",
   "name": "python3"
  },
  "language_info": {
   "codemirror_mode": {
    "name": "ipython",
    "version": 3
   },
   "file_extension": ".py",
   "mimetype": "text/x-python",
   "name": "python",
   "nbconvert_exporter": "python",
   "pygments_lexer": "ipython3",
   "version": "3.9.13"
  }
 },
 "nbformat": 4,
 "nbformat_minor": 5
}
