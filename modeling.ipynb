{
 "cells": [
  {
   "cell_type": "code",
<<<<<<< HEAD
   "execution_count": 114,
   "id": "20ad10e5",
=======
   "execution_count": 1,
   "id": "369abfaa",
>>>>>>> 73ebcddb93bb525b463c0a5570a1f98e8f6179ec
   "metadata": {},
   "outputs": [],
   "source": [
    "# import libraries\n",
    "import pandas as pd\n",
    "import numpy as np\n",
    "import matplotlib.pyplot as plt\n",
    "import seaborn as sns\n",
    "import prepare as prep\n",
    "from scipy import stats\n",
    "# import warnings\n",
    "import warnings\n",
    "warnings.filterwarnings('ignore')\n",
    "# import models\n",
    "from sklearn.tree import DecisionTreeClassifier, plot_tree\n",
    "from sklearn.metrics import classification_report\n",
    "from sklearn.metrics import confusion_matrix\n",
    "from sklearn.ensemble import RandomForestClassifier\n",
    "from sklearn.linear_model import LogisticRegression\n",
    "from sklearn.neighbors import KNeighborsClassifier"
   ]
  },
  {
   "cell_type": "code",
<<<<<<< HEAD
   "execution_count": 115,
   "id": "c4c059df",
=======
   "execution_count": 2,
   "id": "273f2c30",
>>>>>>> 73ebcddb93bb525b463c0a5570a1f98e8f6179ec
   "metadata": {},
   "outputs": [],
   "source": [
    "# DataFrame Wine\n",
    "df = pd.read_csv('wine_df.csv')\n",
    "#Drop unneccessary columns \n",
    "df.drop(columns=['Unnamed: 0', 'Unnamed: 0.1', 'sulphates'], inplace=True)\n",
    "# renamed columns for simplicity\n",
    "df.rename(columns={'fixed acidity':'fixed','volatile acidity':'volatile','citric acid':'citric',\n",
    "           'residual sugar':'sugar','free sulfur dioxide':'fso2','total sulfur dioxide':'tso2'}, inplace=True)"
   ]
  },
  {
   "cell_type": "code",
<<<<<<< HEAD
   "execution_count": 116,
   "id": "883833ae",
=======
   "execution_count": 33,
   "id": "316bb299",
>>>>>>> 73ebcddb93bb525b463c0a5570a1f98e8f6179ec
   "metadata": {},
   "outputs": [
    {
     "data": {
      "text/plain": [
       "Index(['fixed', 'volatile', 'citric', 'sugar', 'chlorides', 'fso2', 'tso2',\n",
       "       'density', 'pH', 'alcohol'],\n",
       "      dtype='object')"
      ]
     },
     "execution_count": 33,
     "metadata": {},
     "output_type": "execute_result"
    }
   ],
   "source": [
    "# col_list of only floats and intergers\n",
    "col_list = df.select_dtypes(include=['float64','int64']).columns[:-1] ; col_list"
   ]
  },
  {
   "cell_type": "code",
<<<<<<< HEAD
   "execution_count": 117,
   "id": "965cd4c7",
=======
   "execution_count": 4,
   "id": "7a39a09e",
>>>>>>> 73ebcddb93bb525b463c0a5570a1f98e8f6179ec
   "metadata": {},
   "outputs": [
    {
     "ename": "NameError",
     "evalue": "name 'p' is not defined",
     "output_type": "error",
     "traceback": [
      "\u001b[0;31m---------------------------------------------------------------------------\u001b[0m",
      "\u001b[0;31mNameError\u001b[0m                                 Traceback (most recent call last)",
      "\u001b[0;32m/var/folders/51/1y9bskdx161fnwxyf68jcl540000gq/T/ipykernel_6115/798485337.py\u001b[0m in \u001b[0;36m<module>\u001b[0;34m\u001b[0m\n\u001b[0;32m----> 1\u001b[0;31m \u001b[0mdf\u001b[0m\u001b[0;34m,\u001b[0m \u001b[0mvar_fences\u001b[0m \u001b[0;34m=\u001b[0m \u001b[0mp\u001b[0m\u001b[0;34m.\u001b[0m\u001b[0mremove_outliers\u001b[0m\u001b[0;34m(\u001b[0m\u001b[0mdf\u001b[0m\u001b[0;34m)\u001b[0m\u001b[0;34m\u001b[0m\u001b[0;34m\u001b[0m\u001b[0m\n\u001b[0m",
      "\u001b[0;31mNameError\u001b[0m: name 'p' is not defined"
     ]
    }
   ],
   "source": [
    "#DataFrame of removed outliers\n",
    "df, var_fences = p.remove_outliers(df)"
   ]
  },
  {
   "cell_type": "code",
<<<<<<< HEAD
   "execution_count": 118,
   "id": "6751fe57",
=======
   "execution_count": 29,
   "id": "97596ca4",
>>>>>>> 73ebcddb93bb525b463c0a5570a1f98e8f6179ec
   "metadata": {},
   "outputs": [
    {
     "data": {
      "text/html": [
       "<div>\n",
       "<style scoped>\n",
       "    .dataframe tbody tr th:only-of-type {\n",
       "        vertical-align: middle;\n",
       "    }\n",
       "\n",
       "    .dataframe tbody tr th {\n",
       "        vertical-align: top;\n",
       "    }\n",
       "\n",
       "    .dataframe thead th {\n",
       "        text-align: right;\n",
       "    }\n",
       "</style>\n",
       "<table border=\"1\" class=\"dataframe\">\n",
       "  <thead>\n",
       "    <tr style=\"text-align: right;\">\n",
       "      <th></th>\n",
       "      <th>fixed</th>\n",
       "      <th>volatile</th>\n",
       "      <th>citric</th>\n",
       "      <th>sugar</th>\n",
       "      <th>chlorides</th>\n",
       "      <th>fso2</th>\n",
       "      <th>tso2</th>\n",
       "      <th>density</th>\n",
       "      <th>pH</th>\n",
       "      <th>alcohol</th>\n",
       "      <th>quality</th>\n",
       "      <th>type_red</th>\n",
       "      <th>type_white</th>\n",
       "    </tr>\n",
       "  </thead>\n",
       "  <tbody>\n",
       "    <tr>\n",
       "      <th>0</th>\n",
       "      <td>7.0</td>\n",
       "      <td>0.27</td>\n",
       "      <td>0.36</td>\n",
       "      <td>20.7</td>\n",
       "      <td>0.045</td>\n",
       "      <td>45.0</td>\n",
       "      <td>170.0</td>\n",
       "      <td>1.0010</td>\n",
       "      <td>3.00</td>\n",
       "      <td>8.8</td>\n",
       "      <td>6</td>\n",
       "      <td>0</td>\n",
       "      <td>1</td>\n",
       "    </tr>\n",
       "    <tr>\n",
       "      <th>1</th>\n",
       "      <td>6.3</td>\n",
       "      <td>0.30</td>\n",
       "      <td>0.34</td>\n",
       "      <td>1.6</td>\n",
       "      <td>0.049</td>\n",
       "      <td>14.0</td>\n",
       "      <td>132.0</td>\n",
       "      <td>0.9940</td>\n",
       "      <td>3.30</td>\n",
       "      <td>9.5</td>\n",
       "      <td>6</td>\n",
       "      <td>0</td>\n",
       "      <td>1</td>\n",
       "    </tr>\n",
       "    <tr>\n",
       "      <th>2</th>\n",
       "      <td>8.1</td>\n",
       "      <td>0.28</td>\n",
       "      <td>0.40</td>\n",
       "      <td>6.9</td>\n",
       "      <td>0.050</td>\n",
       "      <td>30.0</td>\n",
       "      <td>97.0</td>\n",
       "      <td>0.9951</td>\n",
       "      <td>3.26</td>\n",
       "      <td>10.1</td>\n",
       "      <td>6</td>\n",
       "      <td>0</td>\n",
       "      <td>1</td>\n",
       "    </tr>\n",
       "    <tr>\n",
       "      <th>3</th>\n",
       "      <td>7.2</td>\n",
       "      <td>0.23</td>\n",
       "      <td>0.32</td>\n",
       "      <td>8.5</td>\n",
       "      <td>0.058</td>\n",
       "      <td>47.0</td>\n",
       "      <td>186.0</td>\n",
       "      <td>0.9956</td>\n",
       "      <td>3.19</td>\n",
       "      <td>9.9</td>\n",
       "      <td>6</td>\n",
       "      <td>0</td>\n",
       "      <td>1</td>\n",
       "    </tr>\n",
       "    <tr>\n",
       "      <th>4</th>\n",
       "      <td>7.2</td>\n",
       "      <td>0.23</td>\n",
       "      <td>0.32</td>\n",
       "      <td>8.5</td>\n",
       "      <td>0.058</td>\n",
       "      <td>47.0</td>\n",
       "      <td>186.0</td>\n",
       "      <td>0.9956</td>\n",
       "      <td>3.19</td>\n",
       "      <td>9.9</td>\n",
       "      <td>6</td>\n",
       "      <td>0</td>\n",
       "      <td>1</td>\n",
       "    </tr>\n",
       "  </tbody>\n",
       "</table>\n",
       "</div>"
      ],
      "text/plain": [
       "   fixed  volatile  citric  sugar  chlorides  fso2   tso2  density    pH  \\\n",
       "0    7.0      0.27    0.36   20.7      0.045  45.0  170.0   1.0010  3.00   \n",
       "1    6.3      0.30    0.34    1.6      0.049  14.0  132.0   0.9940  3.30   \n",
       "2    8.1      0.28    0.40    6.9      0.050  30.0   97.0   0.9951  3.26   \n",
       "3    7.2      0.23    0.32    8.5      0.058  47.0  186.0   0.9956  3.19   \n",
       "4    7.2      0.23    0.32    8.5      0.058  47.0  186.0   0.9956  3.19   \n",
       "\n",
       "   alcohol  quality  type_red  type_white  \n",
       "0      8.8        6         0           1  \n",
       "1      9.5        6         0           1  \n",
       "2     10.1        6         0           1  \n",
       "3      9.9        6         0           1  \n",
       "4      9.9        6         0           1  "
      ]
     },
     "execution_count": 29,
     "metadata": {},
     "output_type": "execute_result"
    }
   ],
   "source": [
    "df.head() # DataFrame first 5 columns"
   ]
  },
  {
   "cell_type": "code",
   "execution_count": 32,
   "id": "f44593fa",
   "metadata": {},
   "outputs": [
    {
     "data": {
      "text/html": [
       "<div>\n",
       "<style scoped>\n",
       "    .dataframe tbody tr th:only-of-type {\n",
       "        vertical-align: middle;\n",
       "    }\n",
       "\n",
       "    .dataframe tbody tr th {\n",
       "        vertical-align: top;\n",
       "    }\n",
       "\n",
       "    .dataframe thead th {\n",
       "        text-align: right;\n",
       "    }\n",
       "</style>\n",
       "<table border=\"1\" class=\"dataframe\">\n",
       "  <thead>\n",
       "    <tr style=\"text-align: right;\">\n",
       "      <th></th>\n",
       "      <th>fixed</th>\n",
       "      <th>volatile</th>\n",
       "      <th>citric</th>\n",
       "      <th>sugar</th>\n",
       "      <th>chlorides</th>\n",
       "      <th>fso2</th>\n",
       "      <th>tso2</th>\n",
       "      <th>density</th>\n",
       "      <th>pH</th>\n",
       "      <th>alcohol</th>\n",
       "      <th>quality</th>\n",
       "      <th>type_red</th>\n",
       "      <th>type_white</th>\n",
       "    </tr>\n",
       "  </thead>\n",
       "  <tbody>\n",
       "    <tr>\n",
       "      <th>0</th>\n",
       "      <td>7.0</td>\n",
       "      <td>0.27</td>\n",
       "      <td>0.36</td>\n",
       "      <td>20.7</td>\n",
       "      <td>0.045</td>\n",
       "      <td>45.0</td>\n",
       "      <td>170.0</td>\n",
       "      <td>1.0010</td>\n",
       "      <td>3.00</td>\n",
       "      <td>8.8</td>\n",
       "      <td>6</td>\n",
       "      <td>0</td>\n",
       "      <td>1</td>\n",
       "    </tr>\n",
       "    <tr>\n",
       "      <th>1</th>\n",
       "      <td>6.3</td>\n",
       "      <td>0.30</td>\n",
       "      <td>0.34</td>\n",
       "      <td>1.6</td>\n",
       "      <td>0.049</td>\n",
       "      <td>14.0</td>\n",
       "      <td>132.0</td>\n",
       "      <td>0.9940</td>\n",
       "      <td>3.30</td>\n",
       "      <td>9.5</td>\n",
       "      <td>6</td>\n",
       "      <td>0</td>\n",
       "      <td>1</td>\n",
       "    </tr>\n",
       "    <tr>\n",
       "      <th>2</th>\n",
       "      <td>8.1</td>\n",
       "      <td>0.28</td>\n",
       "      <td>0.40</td>\n",
       "      <td>6.9</td>\n",
       "      <td>0.050</td>\n",
       "      <td>30.0</td>\n",
       "      <td>97.0</td>\n",
       "      <td>0.9951</td>\n",
       "      <td>3.26</td>\n",
       "      <td>10.1</td>\n",
       "      <td>6</td>\n",
       "      <td>0</td>\n",
       "      <td>1</td>\n",
       "    </tr>\n",
       "    <tr>\n",
       "      <th>3</th>\n",
       "      <td>7.2</td>\n",
       "      <td>0.23</td>\n",
       "      <td>0.32</td>\n",
       "      <td>8.5</td>\n",
       "      <td>0.058</td>\n",
       "      <td>47.0</td>\n",
       "      <td>186.0</td>\n",
       "      <td>0.9956</td>\n",
       "      <td>3.19</td>\n",
       "      <td>9.9</td>\n",
       "      <td>6</td>\n",
       "      <td>0</td>\n",
       "      <td>1</td>\n",
       "    </tr>\n",
       "    <tr>\n",
       "      <th>4</th>\n",
       "      <td>7.2</td>\n",
       "      <td>0.23</td>\n",
       "      <td>0.32</td>\n",
       "      <td>8.5</td>\n",
       "      <td>0.058</td>\n",
       "      <td>47.0</td>\n",
       "      <td>186.0</td>\n",
       "      <td>0.9956</td>\n",
       "      <td>3.19</td>\n",
       "      <td>9.9</td>\n",
       "      <td>6</td>\n",
       "      <td>0</td>\n",
       "      <td>1</td>\n",
       "    </tr>\n",
       "  </tbody>\n",
       "</table>\n",
       "</div>"
      ],
      "text/plain": [
       "   fixed  volatile  citric  sugar  chlorides  fso2   tso2  density    pH  \\\n",
       "0    7.0      0.27    0.36   20.7      0.045  45.0  170.0   1.0010  3.00   \n",
       "1    6.3      0.30    0.34    1.6      0.049  14.0  132.0   0.9940  3.30   \n",
       "2    8.1      0.28    0.40    6.9      0.050  30.0   97.0   0.9951  3.26   \n",
       "3    7.2      0.23    0.32    8.5      0.058  47.0  186.0   0.9956  3.19   \n",
       "4    7.2      0.23    0.32    8.5      0.058  47.0  186.0   0.9956  3.19   \n",
       "\n",
       "   alcohol  quality  type_red  type_white  \n",
       "0      8.8        6         0           1  \n",
       "1      9.5        6         0           1  \n",
       "2     10.1        6         0           1  \n",
       "3      9.9        6         0           1  \n",
       "4      9.9        6         0           1  "
      ]
     },
     "execution_count": 32,
     "metadata": {},
     "output_type": "execute_result"
    }
   ],
   "source": [
    "# DataFrame of quality not equal to 3 and 9\n",
    "df = df[(df['quality']!=3) & (df['quality']!=9)] ; df.head()"
   ]
  },
  {
   "cell_type": "code",
<<<<<<< HEAD
   "execution_count": 119,
   "id": "7951e002",
   "metadata": {},
   "outputs": [],
   "source": [
    "df = df[(df['quality']!=3) & (df['quality']!=9)]"
=======
   "execution_count": 7,
   "id": "c1c90d1a",
   "metadata": {},
   "outputs": [],
   "source": [
    "# Getting dummies for quality column\n",
    "baseline_table = pd.get_dummies(df, columns=['quality'])\n",
    "# Droping columns for just dummies columns\n",
    "baseline_table.drop(columns=['fixed','volatile','citric','sugar','chlorides',\n",
    "                             'fso2','tso2','density','pH','alcohol'], inplace=True)"
>>>>>>> 73ebcddb93bb525b463c0a5570a1f98e8f6179ec
   ]
  },
  {
   "cell_type": "code",
<<<<<<< HEAD
   "execution_count": 220,
   "id": "55a18f21",
=======
   "execution_count": 8,
   "id": "8f102fe9",
>>>>>>> 73ebcddb93bb525b463c0a5570a1f98e8f6179ec
   "metadata": {},
   "outputs": [
    {
     "data": {
      "text/plain": [
<<<<<<< HEAD
       "0.45057968166633916"
      ]
     },
     "execution_count": 220,
=======
       "(0.9665738161559888, 0.6691426802847416, 0.5611265861962241, 0.833023831631074)"
      ]
     },
     "execution_count": 8,
>>>>>>> 73ebcddb93bb525b463c0a5570a1f98e8f6179ec
     "metadata": {},
     "output_type": "execute_result"
    }
   ],
   "source": [
    "(df['quality']==6).mean()"
   ]
  },
  {
   "cell_type": "code",
<<<<<<< HEAD
   "execution_count": 122,
   "id": "373c5f71",
=======
   "execution_count": 9,
   "id": "b07534a5",
>>>>>>> 73ebcddb93bb525b463c0a5570a1f98e8f6179ec
   "metadata": {},
   "outputs": [],
   "source": [
    "df = pd.get_dummies(df, columns=['type'])"
   ]
  },
  {
   "cell_type": "code",
<<<<<<< HEAD
   "execution_count": 123,
   "id": "7e09cf91",
=======
   "execution_count": 10,
   "id": "18510698",
>>>>>>> 73ebcddb93bb525b463c0a5570a1f98e8f6179ec
   "metadata": {},
   "outputs": [],
   "source": [
    "X_train, y_train, X_val, y_val, X_test, y_test= prep.x_y_split(df, 'quality')"
   ]
  },
  {
   "cell_type": "code",
<<<<<<< HEAD
   "execution_count": 124,
   "id": "87cd571b",
=======
   "execution_count": 11,
   "id": "ccdfd420",
>>>>>>> 73ebcddb93bb525b463c0a5570a1f98e8f6179ec
   "metadata": {},
   "outputs": [
    {
     "data": {
      "text/html": [
       "<div>\n",
       "<style scoped>\n",
       "    .dataframe tbody tr th:only-of-type {\n",
       "        vertical-align: middle;\n",
       "    }\n",
       "\n",
       "    .dataframe tbody tr th {\n",
       "        vertical-align: top;\n",
       "    }\n",
       "\n",
       "    .dataframe thead th {\n",
       "        text-align: right;\n",
       "    }\n",
       "</style>\n",
       "<table border=\"1\" class=\"dataframe\">\n",
       "  <thead>\n",
       "    <tr style=\"text-align: right;\">\n",
       "      <th></th>\n",
       "      <th>fixed</th>\n",
       "      <th>volatile</th>\n",
       "      <th>citric</th>\n",
       "      <th>sugar</th>\n",
       "      <th>chlorides</th>\n",
       "      <th>fso2</th>\n",
       "      <th>tso2</th>\n",
       "      <th>density</th>\n",
       "      <th>pH</th>\n",
       "      <th>alcohol</th>\n",
       "      <th>type_red</th>\n",
       "      <th>type_white</th>\n",
       "    </tr>\n",
       "  </thead>\n",
       "  <tbody>\n",
       "    <tr>\n",
       "      <th>1426</th>\n",
       "      <td>7.2</td>\n",
       "      <td>0.22</td>\n",
       "      <td>0.49</td>\n",
       "      <td>1.0</td>\n",
       "      <td>0.045</td>\n",
       "      <td>34.0</td>\n",
       "      <td>140.0</td>\n",
       "      <td>0.99000</td>\n",
       "      <td>3.05</td>\n",
       "      <td>12.7</td>\n",
       "      <td>0</td>\n",
       "      <td>1</td>\n",
       "    </tr>\n",
       "    <tr>\n",
       "      <th>2219</th>\n",
       "      <td>6.5</td>\n",
       "      <td>0.24</td>\n",
       "      <td>0.36</td>\n",
       "      <td>2.2</td>\n",
       "      <td>0.027</td>\n",
       "      <td>36.0</td>\n",
       "      <td>134.0</td>\n",
       "      <td>0.98980</td>\n",
       "      <td>3.28</td>\n",
       "      <td>12.5</td>\n",
       "      <td>0</td>\n",
       "      <td>1</td>\n",
       "    </tr>\n",
       "    <tr>\n",
       "      <th>3776</th>\n",
       "      <td>6.9</td>\n",
       "      <td>0.33</td>\n",
       "      <td>0.31</td>\n",
       "      <td>7.7</td>\n",
       "      <td>0.040</td>\n",
       "      <td>29.0</td>\n",
       "      <td>135.0</td>\n",
       "      <td>0.99226</td>\n",
       "      <td>3.11</td>\n",
       "      <td>12.3</td>\n",
       "      <td>0</td>\n",
       "      <td>1</td>\n",
       "    </tr>\n",
       "    <tr>\n",
       "      <th>4837</th>\n",
       "      <td>6.5</td>\n",
       "      <td>0.28</td>\n",
       "      <td>0.38</td>\n",
       "      <td>7.8</td>\n",
       "      <td>0.031</td>\n",
       "      <td>54.0</td>\n",
       "      <td>216.0</td>\n",
       "      <td>0.99154</td>\n",
       "      <td>3.03</td>\n",
       "      <td>13.1</td>\n",
       "      <td>0</td>\n",
       "      <td>1</td>\n",
       "    </tr>\n",
       "    <tr>\n",
       "      <th>879</th>\n",
       "      <td>6.9</td>\n",
       "      <td>0.12</td>\n",
       "      <td>0.36</td>\n",
       "      <td>2.2</td>\n",
       "      <td>0.037</td>\n",
       "      <td>18.0</td>\n",
       "      <td>111.0</td>\n",
       "      <td>0.99190</td>\n",
       "      <td>3.41</td>\n",
       "      <td>11.9</td>\n",
       "      <td>0</td>\n",
       "      <td>1</td>\n",
       "    </tr>\n",
       "  </tbody>\n",
       "</table>\n",
       "</div>"
      ],
      "text/plain": [
       "      fixed  volatile  citric  sugar  chlorides  fso2   tso2  density    pH  \\\n",
       "1426    7.2      0.22    0.49    1.0      0.045  34.0  140.0  0.99000  3.05   \n",
       "2219    6.5      0.24    0.36    2.2      0.027  36.0  134.0  0.98980  3.28   \n",
       "3776    6.9      0.33    0.31    7.7      0.040  29.0  135.0  0.99226  3.11   \n",
       "4837    6.5      0.28    0.38    7.8      0.031  54.0  216.0  0.99154  3.03   \n",
       "879     6.9      0.12    0.36    2.2      0.037  18.0  111.0  0.99190  3.41   \n",
       "\n",
       "      alcohol  type_red  type_white  \n",
       "1426     12.7         0           1  \n",
       "2219     12.5         0           1  \n",
       "3776     12.3         0           1  \n",
       "4837     13.1         0           1  \n",
       "879      11.9         0           1  "
      ]
     },
     "execution_count": 11,
     "metadata": {},
     "output_type": "execute_result"
    }
   ],
   "source": [
    "X_train.head()"
   ]
  },
  {
   "cell_type": "code",
<<<<<<< HEAD
   "execution_count": 207,
   "id": "dd5976d5",
=======
   "execution_count": 12,
   "id": "2342fca3",
>>>>>>> 73ebcddb93bb525b463c0a5570a1f98e8f6179ec
   "metadata": {},
   "outputs": [],
   "source": [
    "tree_train = []\n",
    "tree_val = []\n",
    "depth = []\n",
    "for i in range(2, 21):\n",
    "    train_tree = DecisionTreeClassifier(max_depth=i, random_state=42)\n",
    "    train_tree = train_tree.fit(X_train, y_train)\n",
    "    \n",
    "    tree_train.append(train_tree.score(X_train, y_train))\n",
    "    tree_val.append(train_tree.score(X_val, y_val))\n",
    "    depth.append(i)"
   ]
  },
  {
   "cell_type": "code",
<<<<<<< HEAD
   "execution_count": 208,
   "id": "cafbebc5",
=======
   "execution_count": 13,
   "id": "962c987a",
>>>>>>> 73ebcddb93bb525b463c0a5570a1f98e8f6179ec
   "metadata": {},
   "outputs": [],
   "source": [
    "scores = pd.DataFrame({'score':tree_train,\n",
    "                       'type':'train',\n",
    "                       'depth':depth})"
   ]
  },
  {
   "cell_type": "code",
<<<<<<< HEAD
   "execution_count": 209,
   "id": "43d5130c",
=======
   "execution_count": 14,
   "id": "dc3aed86",
>>>>>>> 73ebcddb93bb525b463c0a5570a1f98e8f6179ec
   "metadata": {},
   "outputs": [],
   "source": [
    "val_scores = pd.DataFrame({'score':tree_val,\n",
    "                           'type':'val',\n",
    "                           'depth':depth})"
   ]
  },
  {
   "cell_type": "code",
<<<<<<< HEAD
   "execution_count": 210,
   "id": "2ddc4796",
=======
   "execution_count": 15,
   "id": "5a1235be",
>>>>>>> 73ebcddb93bb525b463c0a5570a1f98e8f6179ec
   "metadata": {},
   "outputs": [],
   "source": [
    "scores = scores.append(val_scores)"
   ]
  },
  {
   "cell_type": "code",
<<<<<<< HEAD
   "execution_count": 211,
   "id": "f893482b",
   "metadata": {},
   "outputs": [
    {
     "data": {
      "image/png": "iVBORw0KGgoAAAANSUhEUgAAAjcAAAGwCAYAAABVdURTAAAAOXRFWHRTb2Z0d2FyZQBNYXRwbG90bGliIHZlcnNpb24zLjUuMiwgaHR0cHM6Ly9tYXRwbG90bGliLm9yZy8qNh9FAAAACXBIWXMAAA9hAAAPYQGoP6dpAABMsUlEQVR4nO3deXhTZfo38G+SZuuSdKMbUFr2fWsRWkAQxrIoiyibDFBFlBkVEVFhfB1BnamOjIr6A1GpoDKCyiLKZhlZZYeyCMhaaIGU0lLSPW2T8/6RaTQ0aWlzmq3fz3VFyXnOcp+epOfusx2JIAgCiIiIiLyE1NUBEBEREYmJyQ0RERF5FSY3RERE5FWY3BAREZFXYXJDREREXoXJDREREXkVJjdERETkVXxcHYCzmUwmXL9+HQEBAZBIJK4Oh4iIiO6CIAgoLCxEVFQUpNKa62YaXXJz/fp1NG/e3NVhEBERUT1kZWWhWbNmNa7T6JKbgIAAAOYfjkajcXE0REREdDcKCgrQvHlzy328Jo0uualqitJoNExuiIiIPMzddClhh2IiIiLyKkxuiIiIyKswuSEiIiKv0uj63Nwto9GIiooKV4fhkeRyOWQymavDICKiRorJzR0EQUB2djZu377t6lA8WmBgICIiIjiXEBEROR2TmztUJTZhYWHw9fXlzbmOBEFASUkJcnJyAACRkZEujoiIiBobJjd/YDQaLYlNSEiIq8PxWGq1GgCQk5ODsLAwNlEREZFTubRD8a5duzBixAhERUVBIpFg/fr1tW6zc+dOxMXFQaVSoWXLlvj4449Fi6eqj42vr69o+2ysqn6G7LdERETO5tLkpri4GN26dcNHH310V+tnZGRg+PDh6N+/P9LT0/G3v/0NM2fOxJo1a0SNi01RjuPPkIiIXMWlzVLDhg3DsGHD7nr9jz/+GNHR0Xj//fcBAB06dMDhw4excOFCPPzwwza3MRgMMBgMlvcFBQUOxUxERES2lVcakV9SAZlEghB/hcv+0PWoeW727duHpKQkq2VDhgzB4cOH7TZ/pKSkQKvVWl58aCYREZG4BEFAZl4x/rnpN4xZvBfjP9mPL/dfwY2CMpfE41HJTXZ2NsLDw62WhYeHo7KyErm5uTa3mTdvHvR6veWVlZXljFCJiIjcRqXRhGu3S3Hqmh7nbhQir8hQ+0Z1cCWvBCM++gXL917GtduluHizCH///hSe+c9R5LggwfG40VJ3VnEJgmBzeRWlUgmlUtngcdXHwIED0b17d0szGxERkdhul5Rj86/ZSNl0BgVllQCADpEBWDShB9qE+TvcdFRaXonF2y9AX1q9BeXQ5XycvVGIMI3KoWPUlUfV3ERERCA7O9tqWU5ODnx8fDh0m4iIyIZDl/Mxb+1JS2IDAGd0hRi/dB+u3y51eP+3Syuw+ddsu+XfHblqqYhwFo9KbhISEpCWlma17KeffkJ8fDzkcrmLoqqf5ORk7Ny5E4sWLYJEIoFEIoGPjw8WLlxotd6vv/4KqVSKixcvAjDXUC1ZsgTDhg2DWq1GbGwsvv32W6ttrl27hvHjxyMoKAghISEYNWoULl++7KxTIyIiN5FbaMDbW36zWZZfUoEDGbccPoYEEsh97KcTKrnM6R2LXZrcFBUV4dixYzh27BgA81DvY8eOITMzE4C5v8yUKVMs68+YMQNXrlzB7NmzcebMGaSmpmLZsmWYM2eOK8J3yKJFi5CQkIDp06dDp9NBp9NhwYIF+Pzzz63WS01NRf/+/dGqVSvLsldffRUPP/wwjh8/jj//+c+YOHEizpw5AwAoKSnBfffdB39/f+zatQt79uyBv78/hg4divLycqeeIxER3R2jSUBBaQVKyitrX7kOyo0mXMgpslt+5Eq+w8cI8ZdjXHwzu+Xj450/kMelyc3hw4fRo0cP9OjRAwAwe/Zs9OjRA3//+98BADqdzpLoAEBsbCw2bdqEHTt2oHv37njjjTfwwQcf2B0G7s60Wi0UCgV8fX0RERGBiIgIPP744zh79iwOHjwIwDwB3ldffYXHH3/catuxY8fiiSeeQNu2bfHGG28gPj4eH374IQBg1apVkEql+Oyzz9ClSxd06NABn3/+OTIzM7Fjxw5nnyYREdUi61YJlu68iOTPD2Hm1+nYfzEPt4rF+WPURypB00C13fJ2EQEOH0Muk2FKQgxiQqpPgDsurhliQp0/Ma5LOxQPHDiwxna45cuXV1s2YMAAHD16tAGjcp3IyEg88MADSE1NxT333IMff/wRZWVlGDt2rNV6CQkJ1d5X1X4dOXIEFy5cQECA9Qe2rKzM0rRFRETuISO3CGMW70V+ye+dcbedycH0/rF4+r7WCPRVOLT/MI0Kzw5qjblrT1YrU/pIMbBdE4f2XyUqUI2vp/fBvkt5WJ9+DX4qH0ztE4M24f4I9nP+oB6PGy3l7Z544glMnjwZ7733Hj7//HOMHz/+rh4HUdWeaTKZEBcXh5UrV1Zbp0kTcT7ERETkuCJDBVI2/WaV2FT5dHcGHolr7nByAwD3dwzHhZwipP6SAdP/6hOCfOX4ZEo8orT2a3XqKjJQjTE9m2Fo5wj4SKVQ1NAPp6ExuXEhhUIBo9FotWz48OHw8/PDkiVLsHnzZuzatavadvv377fqi7R//35L017Pnj2xevVqhIWFQaPRNOwJEBFRvd0uqcC2Mzfslv/3zA1Rmo1C/JWY9ac2mJzQAlm3SuCr9EGERoVwjQoyqfgdfX0Vrk8tPGq0lLeJiYnBgQMHcPnyZeTm5sJkMkEmkyE5ORnz5s1D69atqzVBAcC3336L1NRUnDt3Dq+99hoOHjyIZ555BgAwadIkhIaGYtSoUdi9ezcyMjKwc+dOPPfcc7h69aqzT5GIiOwRgJoGSBtN4g2f9lfJ0SLED/3aNEHP6CBEBaobJLFxF0xuXGjOnDmQyWTo2LEjmjRpYuk8PW3aNJSXl1frSFxlwYIFWLVqFbp27YoVK1Zg5cqV6NixIwDz07h37dqF6OhojBkzBh06dMDjjz+O0tJS1uQQEbkRjVqOe9vY7y4wuEOYE6PxLq6vO2rE2rZti3379lVbrtPp4OPjY9X09EdRUVH46aef7O43IiICK1asEC1OIiISn0Ytx/97oAMOX76F4nLrLgqP9GyGSBH7wzQ2TG7ciMFgQFZWFl599VWMGzeu2nO0iIjI+W4Vl6O0wgiZRIIm/grIZOI1erRs4o+NM/tjxb7L2HXuJrRqBWYMaImeLYIQ5Od4Z+LGismNG/n6668xbdo0dO/eHV9++aWrwyEiatSKDZU4dV2PN348g5PX9NCq5ZjWLwYTekWL9qwkmVSCmFA/zBvWHk8PbA25TAKtCCOkGjsmN24kOTkZycnJNa7j7OdzEBE1Vkcz8zF52UHLe31pBd5NO4/Dl/Px3vjuCPEXb/4WhY8MoQEy0fbX2LFDMRER0R1uFhrw2venbJbtOp8rygMnqeEwuSEiIrpDkaESl3KL7ZYfuuz4M5mo4TC5ISIiuoOPVFLjPDBBvnInRkN1xeSGiIjoDsF+CgzrHGGzzEcqQVyLYCdHRHXB5IaIiOgOfkofvDy0PVrc8aRrqQT48NEeCNM4/2GQdPc4WoqqiYmJwaxZszBr1ixXh0JE5DLNg32x+sk+OH29ALvO5yIqUIX7O0YgQqOESs6RTe6MyY2XGDhwILp3747333/f4X0dOnQIfn5+jgdFROThIrRqRGjVGNSBk6p6EiY3DcRoEnAw4xZyCssQFqDCPbHBLn1ImSAIMBqN8PGp/ZI3aWL/WSdERO7CaBKQU1CG4nIjlD5ShAYooJbztkbsc9MgtvyqQ7+3f8bET/fjuVXHMPHT/ej39s/Y8quuQY6XnJyMnTt3YtGiRZBIJJBIJFi+fDkkEgm2bt2K+Ph4KJVK7N69GxcvXsSoUaMQHh4Of39/9OrVC9u2bbPaX0xMjFUNkEQiwWeffYaHHnoIvr6+aNOmDTZs2NAg50JEdDfyi8ux+lAWHvxwD/707k4M+vcOvLr+FLL1nH+GmNyIbsuvOvzlq6PQ6cuslmfry/CXr442SIKzaNEiJCQkYPr06dDpdNDpdGjevDkA4KWXXkJKSgrOnDmDrl27oqioCMOHD8e2bduQnp6OIUOGYMSIEZYnktuzYMECjBs3DidOnMDw4cMxadIk3Lp1S/RzISKqjdEkYONJHf627iTyissBABVGAd8duYqn/5OO3CKDiyMkV2NyIyKjScCCH07D1gMSqpYt+OE0jCZxH6Gg1WqhUCjg6+uLiIgIREREQCYzd3Z7/fXXcf/996NVq1YICQlBt27d8NRTT6FLly5o06YN3nzzTbRs2bLWmpjk5GRMnDgRrVu3xj//+U8UFxfj4MGDNW5DRNQQbhSU4d8/nbVZduRKPnScPbjRY3IjooMZt6rV2PyRAECnL8PBDOfVeMTHx1u9Ly4uxksvvYSOHTsiMDAQ/v7++O2332qtuenatavl335+fggICEBOTk6DxExEVJNiQyXySyrslp+9UeTEaMgdseeViHIK7Sc29VlPDHeOenrxxRexdetWLFy4EK1bt4ZarcYjjzyC8vLyGvcjl1vPximRSGAymUSPl4ioNkq5DDKpxG4teFgA56Bp7JjciCgsQCXqenWhUChgNBprXW/37t1ITk7GQw89BAAoKirC5cuXRY+HiKihhPgp8GCXSHx//Hq1Mo3aB62acCqLxo7NUiK6JzYYkVoV7A34lgCI1JqHhYstJiYGBw4cwOXLl5Gbm2u3VqV169ZYu3Ytjh07huPHj+PRRx9lDQwReRQ/pQ9eHtYeXZtqrJZr1D748vHeiNSqXRQZuQsmNyKSSSV4bURHAKiW4FS9f21ExwaZ72bOnDmQyWTo2LEjmjRpYrcPzXvvvYegoCAkJiZixIgRGDJkCHr27Cl6PEREDSkqUI1lyb3w/dN9kfJQFyx/rBc2z7wXXZpqIXXhnGLkHiSCIIg7dMfNFRQUQKvVQq/XQ6OxzvrLysqQkZGB2NhYqFT1bzra8qsOC344bdW5OFKrwmsjOmJo58h679eTiPWzJCIiAmq+f9+JfW4awNDOkbi/Y4RbzVBMRETUWDC5aSAyqQQJrUJcHQYREVGjwz43RERE5FWY3BAREZFXYXJDREREXoV9boiIqEGUlFei2GCESi5FgEpe+wZEImFyQ0REoiqrMOJybjH+b/sFnLimR1SgGs8Oao2OkRoE+ipcHR41AkxuiIhIVEev5GNy6kHLs5+u5JVg38U8zBvWHpP7tICvkrcealjsc0NERKK5UVCGl9acsPlQy39tPYvcIoMLoqLGhskNATA/m+r99993dRhE5OFul1Tgan6pzTKjScCFm0VOjogaIyY3REQkGkktE7FzpnZyBjZ8NhSTEbiyFyi6AfiHAy0SAanM1VERETWoIF8FWjXxw8WbxdXKlD5StAz1d0FU1Niw5qYhnN4AvN8ZWPEgsGaa+f/vdzYvbwBLly5F06ZNYTKZrJaPHDkSU6dOxcWLFzFq1CiEh4fD398fvXr1wrZt2xokFiJq3JoEKPHuuO5Q+lS/vfzjoS4IC1C6ICpqbJjciO30BuCbKUDBdevlBTrz8gZIcMaOHYvc3Fxs377dsiw/Px9bt27FpEmTUFRUhOHDh2Pbtm1IT0/HkCFDMGLECGRmZooeCxFRpygNts66FzMGtER8iyA83LMpNs7sh6GdwqGUswabGh6bpcRkMgJbXgZQfZSAeZkE2DIXaP+AqE1UwcHBGDp0KP7zn/9g8ODBAIBvv/0WwcHBGDx4MGQyGbp162ZZ/80338S6deuwYcMGPPPMM6LFQUQEAD4yKWJC/TAnqR1KK4xQ+sigsFGTQ9RQ+GkT05W91WtsrAhAwTXzeiKbNGkS1qxZA4PBPMxy5cqVmDBhAmQyGYqLi/HSSy+hY8eOCAwMhL+/P3777TfW3BBRg/KRmWcmZmJDzsZPnJiKboi7Xh2MGDECJpMJGzduRFZWFnbv3o0///nPAIAXX3wRa9aswT/+8Q/s3r0bx44dQ5cuXVBeXi56HERERK7GZikx+YeLu14dqNVqjBkzBitXrsSFCxfQtm1bxMXFAQB2796N5ORkPPTQQwCAoqIiXL58WfQYiIiI3AGTGzG1SAQ0UebOwzb73UjM5S0SG+TwkyZNwogRI3Dq1ClLrQ0AtG7dGmvXrsWIESMgkUjw6quvVhtZRURE5C3YLCUmqQwY+vb/3tw5UdX/3g99q8Hmuxk0aBCCg4Nx9uxZPProo5bl7733HoKCgpCYmIgRI0ZgyJAh6NmzZ4PEQERE5GoSQRBsVTF4rYKCAmi1Wuj1emg0GquysrIyZGRkIDY2FiqVqv4HOb3BPGrqj52LNU3NiU3HkfXfrwcR7WdJRESEmu/fd2KzVEPoONI83JszFBMRETkdk5uGIpUBsf1dHQUREVGjwz43RERE5FWY3BAREZFXYbOUDY2sj3WD4M+QyL0VGSpQYjBCJZdBo5a7OhwiUTG5+QO53PwFLykpgVqtdnE0nq2kpATA7z9TInIPJYZKXLxZhEX/PY/fsgsRHeyL5wa3QfvIAGjVCleHRyQKJjd/IJPJEBgYiJycHACAr68vJJI756uhmgiCgJKSEuTk5CAwMBAyGUeIEbkLk0nALxdy8eRXR1BVuXo1vxR7L+bh9VGdMC6+OVR8ajd5ASY3d4iIiAAAS4JD9RMYGGj5WRKRe8guKMPctSdhq9X4HxvP4L52YWge7Ov8wIhExuTmDhKJBJGRkQgLC0NFRYWrw/FIcrmcNTZEbii/pBx5xbYfmGuoNEGnL2VyQ16ByY0dMpmMN2gi8irSWprZZVI2w5N34FBwIqJGIthPgaaBtgdL+Ct9EKHho1LIOzC5ISJqJMI1Krw/vjsUMutf/VIJ8O9x3RDG5Ia8BJuliIgakW7RWmx9vj++PpiF41m30SbMH5MTYtA8WA25jH/vkndgckNE1IgoZDLEhvrj5SHtUFpphNJHxqSGvA6TGyKiRkgmk8KfSQ15KZd/shcvXozY2FioVCrExcVh9+7dNa7/f//3f+jQoQPUajXatWuHL774wkmREhERkSdwac3N6tWrMWvWLCxevBh9+/bF0qVLMWzYMJw+fRrR0dHV1l+yZAnmzZuHTz/9FL169cLBgwcxffp0BAUFYcSIES44AyIiInI3EsGFTzjs3bs3evbsiSVLlliWdejQAaNHj0ZKSkq19RMTE9G3b1+88847lmWzZs3C4cOHsWfPHpvHMBgMMBgMlvcFBQVo3rw59Ho9NBqNiGdDREREDaWgoABarfau7t8ua5YqLy/HkSNHkJSUZLU8KSkJe/futbmNwWCASmU9VFGtVuPgwYN2ZxNOSUmBVqu1vJo3by7OCRAREZFbcllyk5ubC6PRiPDwcKvl4eHhyM7OtrnNkCFD8Nlnn+HIkSMQBAGHDx9GamoqKioqkJuba3ObefPmQa/XW15ZWVminwsRERG5D5ePlrrzqduCINh9Everr76K7Oxs9OnTB4IgIDw8HMnJyfjXv/5l91EJSqUSSqVS9LiJiIjIPbms5iY0NBQymaxaLU1OTk612pwqarUaqampKCkpweXLl5GZmYmYmBgEBAQgNDTUGWETERGRm3NZcqNQKBAXF4e0tDSr5WlpaUhMTKxxW7lcjmbNmkEmk2HVqlV48MEHIZW6fFQ7ERERuQGXNkvNnj0bkydPRnx8PBISEvDJJ58gMzMTM2bMAGDuL3Pt2jXLXDbnzp3DwYMH0bt3b+Tn5+Pdd9/Fr7/+ihUrVrjyNIiIiMiNuDS5GT9+PPLy8vD6669Dp9Ohc+fO2LRpE1q0aAEA0Ol0yMzMtKxvNBrx73//G2fPnoVcLsd9992HvXv3IiYmxkVnQERERO7GpfPcuEJdxskTERGRe6jL/dvlo6WIiMjazUIDKowm+MgkCAtQ1b4BEVlhckNE5Cbyi8ux+3wu/p12FlfyShAd7IsXktqif5tQBPtxSguiu8UhRkREbqCswoj/HMzEzFXpuJJXAgDIvFWC51Ydw38OZKKswujiCIk8B5MbIiI3cLPQgA/+e95m2Yc/X8DNQoPNMiKqjskNEZEbyCs2wFBpsllmqDQhr5jJDdHdYnJDROQGFD62HyFjKbfziBkiqo7JDRGRGwjxU6BZkNpmWdNANUL8FU6OiMhzMbkhInID4RoVlkyKg7/SehCrn0KGj/8ch3ANh4QT3S0OBScichOdojTYMqs/frmQixNX9ejSVIu+rUMRFWi7RoeIbOMMxUREROT26nL/ZrMUEREReRUmN0RERORVmNwQERGRV2FyQ0RERF6FyQ0RERF5FSY3RERE5FWY3BAREZFXYXJDREREXoXJDREREXkVJjdERETkVZjcEBERkVdhckNERERehckNEREReRUmN0RERORVmNwQERGRV2FyQ0RERF7Fx9UBEBF5ipuFBtwsNCCv2IDwABVCAxQI9lO6OiwiugOTGyKiu5B5qwRPfnEYv2UXWpb1ignCogk9EBWodmFkRHQnNksREdUit8iAp760TmwA4NDlfLyy7iQKSitcFBkR2cLkhoioFrlFBpzRFdos2372JvKKDE6OiIhqwuSGiKgWt4trrpkpKq90UiREdDeY3BAR1SI0QGG3TCaVQKOSOzEaIqoNkxsiolqE+CnRr3WozbIxPZoi1J8jpojcCZMbIqJaBPkp8M7YrhjaORwSiXmZj1SC8fHNMGdIO/gpOfCUyJ1IBEEQXB2EMxUUFECr1UKv10Oj0bg6HCLyIIVlFcgtKkexoRIBKh80CVDCV8HEhsgZ6nL/5reSiOguBajkCGD/GiK3x2YpIiIi8ipMboiIiMirMLkhIiIir8LkhoiIiLwKkxsiIiLyKkxuiIiIyKswuSEiIiKvwuSGiIiIvAqTGyIiIvIqTG6IiIjIqzC5ISIiIq/C5IaIiIi8CpMbIiIi8ipMboiIiMirMLkhIiIir8LkhoiIiLwKkxsiIiLyKkxuiIiIyKswuSEiIiKvwuSGiIiIvIqPqwMgIhKD0SQgp7AMlUYBSrkUYQEqV4dERC7C5IaIPN7NQgPWHr2Kpbsu4VZxOVqE+OLloe2R2CoEgb4KV4dHRE7GZiki8mj60gq8tfkMUjb/hlvF5QCAK3kl+OvKo9j8azaMRpOLIyQiZ2NyQ0QeLbfIgDVHr9kse2vzb7hRaHByRETkai5PbhYvXozY2FioVCrExcVh9+7dNa6/cuVKdOvWDb6+voiMjMRjjz2GvLw8J0VLRO4m42ax3TJ9aQX0pRVOjIaI3IFLk5vVq1dj1qxZeOWVV5Ceno7+/ftj2LBhyMzMtLn+nj17MGXKFEybNg2nTp3Ct99+i0OHDuGJJ55wcuRE5C4C1DV3HVT6uPxvOCJyMpd+6999911MmzYNTzzxBDp06ID3338fzZs3x5IlS2yuv3//fsTExGDmzJmIjY1Fv3798NRTT+Hw4cNOjpyI3EXzIF9o1XKbZXEtghDsxw7FRI2Ny5Kb8vJyHDlyBElJSVbLk5KSsHfvXpvbJCYm4urVq9i0aRMEQcCNGzfw3Xff4YEHHrB7HIPBgIKCAqsXEXmPcI0Ky6bGQyWX3rFciYVju3K0FFEj5LKh4Lm5uTAajQgPD7daHh4ejuzsbJvbJCYmYuXKlRg/fjzKyspQWVmJkSNH4sMPP7R7nJSUFCxYsEDU2InIfcikEnRvHoi05wdg/6U8XLxZhLgWQegUpUVUoNrV4RGRC7i8MVoikVi9FwSh2rIqp0+fxsyZM/H3v/8dR44cwZYtW5CRkYEZM2bY3f+8efOg1+str6ysLFHjJyLX85FJ0TzYF2Pjm2PusA64v2MEExuiRsxlNTehoaGQyWTVamlycnKq1eZUSUlJQd++ffHiiy8CALp27Qo/Pz/0798fb775JiIjI6tto1QqoVQqxT8BIiIicksuq7lRKBSIi4tDWlqa1fK0tDQkJiba3KakpARSqXXIMpkMgLnGh4iIiMilzVKzZ8/GZ599htTUVJw5cwbPP/88MjMzLc1M8+bNw5QpUyzrjxgxAmvXrsWSJUtw6dIl/PLLL5g5cybuueceREVFueo0iIiIyI249NlS48ePR15eHl5//XXodDp07twZmzZtQosWLQAAOp3Oas6b5ORkFBYW4qOPPsILL7yAwMBADBo0CG+//barToGIiIjcjERoZO05BQUF0Gq10Ov10Gg0rg6HiIiI7kJd7t8uHy1FREREJCYmN0RERORVmNwQERGRV2FyQ0RERF7FoeSmvLwcZ8+eRWVlpVjxEBERETmkXslNSUkJpk2bBl9fX3Tq1MkyXHvmzJl46623RA2QiIiIqC7qldzMmzcPx48fx44dO6BSqSzL//SnP2H16tWiBUdERERUV/WaxG/9+vVYvXo1+vTpY/WQy44dO+LixYuiBUdERERUV/Wqubl58ybCwsKqLS8uLrb7RG8iIiIiZ6hXctOrVy9s3LjR8r4qofn000+RkJAgTmRERERE9VCvZqmUlBQMHToUp0+fRmVlJRYtWoRTp05h37592Llzp9gxEhEREd21etXcJCYmYu/evSgpKUGrVq3w008/ITw8HPv27UNcXJzYMRIRERHdtTrX3FRUVODJJ5/Eq6++ihUrVjRETERERET1VueaG7lcjnXr1jVELEREREQOq1ez1EMPPYT169eLHAoRERGR4+rVobh169Z44403sHfvXsTFxcHPz8+qfObMmaIER0RERFRXEkEQhLpuFBsba3+HEgkuXbrkUFANqaCgAFqtFnq9HhqNxtXhEBER0V2oy/27XjU3GRkZ9QqMiBqfSqMJOn0Z0rNu4+qtEvSIDkTLJv4I16hq35iIqB7qldz8UVXFD2cmJqI7VRpNSM+8jSmpB1FaYbQsb9XEDysevwfNgnxdGB0Reat6dSgGgC+++AJdunSBWq2GWq1G165d8eWXX4oZGxF5uOyCMjy2/JBVYgMAF28W4/UfTqOorNJFkRGRN6tXzc27776LV199Fc888wz69u0LQRDwyy+/YMaMGcjNzcXzzz8vdpxE5IEu3ixCkcF2ArPtzA3kFRvgr3K4ApmIyEq9fqt8+OGHWLJkCaZMmWJZNmrUKHTq1Anz589nckNEAIC8onK7ZSYBKK80OTEaImos6tUspdPpkJiYWG15YmIidDqdw0ERkXfoEGl/REOov4K1NkTUIOqV3LRu3RrffPNNteWrV69GmzZtHA6KiLxDuEaJAW2a2CybO6wDwgM4YoqIxFevP5sWLFiA8ePHY9euXejbty8kEgn27NmD//73vzaTHiJqnIL9lPjX2K5YticDX+2/gpJyI5oGqjFvWHv0axMKqZSjLIlIfPWaxA8Ajhw5gvfeew9nzpyBIAjo2LEjXnjhBfTo0UPsGEXFSfyInK+80oibRQZUVApQK2Sc44aI6qwu9+96JzeeiskNERGR56nL/btefW42bdqErVu3Vlu+detWbN68uT67JCIiIhJFvZKbuXPnwmg0VlsuCALmzp3rcFBERERE9VWv5Ob8+fPo2LFjteXt27fHhQsXHA6KiIiIqL7qldxotVqbT/6+cOEC/Pz8HA6KiIiIqL7qldyMHDkSs2bNwsWLFy3LLly4gBdeeAEjR44ULTgiIiKiuqpXcvPOO+/Az88P7du3R2xsLGJjY9G+fXuEhIRg4cKFYsdIREREdNfqNYmfVqvF3r17kZaWhuPHj0OtVqNbt27o37+/2PERERER1Umdam4OHDhgGeotkUiQlJSEsLAwLFy4EA8//DCefPJJGAyGBgmUiIiI6G7UKbmZP38+Tpw4YXl/8uRJTJ8+Hffffz/mzp2LH374ASkpKaIHSURERHS36pTcHDt2DIMHD7a8X7VqFe655x58+umnmD17Nj744AM+W4qIiIhcqk7JTX5+PsLDwy3vd+7ciaFDh1re9+rVC1lZWeJFR0RERFRHdUpuwsPDkZGRAQAoLy/H0aNHkZCQYCkvLCyEXC4XN0IiIiKiOqhTcjN06FDMnTsXu3fvxrx58+Dr62s1QurEiRNo1aqV6EESERER3a06DQV/8803MWbMGAwYMAD+/v5YsWIFFAqFpTw1NRVJSUmiB0lERER0tySCIAh13Uiv18Pf3x8ymcxq+a1bt+Dv72+V8LibujwynYiIiNxDXe7f9Z7Ez5bg4OD67I6IiIhINPV6/AIRERGRu2JyQ0RERF6FyQ0RERF5FSY3RERE5FWY3BAREZFXYXJDREREXqVeQ8GJyHvkFJYhr6gcpRVGhPgpEOKngL+Kj1EhIs/F5IaoEbuQU4invjyCizeLAQBSCTCpdzSeG9wWoQFKF0dHRFQ/bJYiaqR0t0sx8dMDlsQGAEwC8OX+TKw8mIlKo8mF0RER1R+TG6JG6nxOEW4WGmyWLdt9CTl2yoiI3B2TG6JG6kJOkd2ygrJKlFUYnRgNEZF4mNwQNVJtwv3tlmnUPlDJZXbLiYjcGZMbokaqdRN/hGtsdxqecW8rhLFDMRF5KCY3RI1UZKAaX0/vg3bhAZZlPlIJpvWLxbj45vCR8dcDEXkmDgUnasRaNvHHyum9kVdUjrIKIwJ95Wjir4Svkr8aiMhz8TcYUSMX6q9EqD+boIjIe7DemYiIiLwKkxsiIiLyKi5PbhYvXozY2FioVCrExcVh9+7ddtdNTk6GRCKp9urUqZMTIyYiIiJ35tLkZvXq1Zg1axZeeeUVpKeno3///hg2bBgyMzNtrr9o0SLodDrLKysrC8HBwRg7dqyTIyciIiJ3JREEQXDVwXv37o2ePXtiyZIllmUdOnTA6NGjkZKSUuv269evx5gxY5CRkYEWLVrc1TELCgqg1Wqh1+uh0WjqHTsRERE5T13u3y6ruSkvL8eRI0eQlJRktTwpKQl79+69q30sW7YMf/rTn2pMbAwGAwoKCqxeRERE5L1cltzk5ubCaDQiPDzcanl4eDiys7Nr3V6n02Hz5s144oknalwvJSUFWq3W8mrevLlDcRMREZF7c3mHYolEYvVeEIRqy2xZvnw5AgMDMXr06BrXmzdvHvR6veWVlZXlSLhERETk5lw2iV9oaChkMlm1WpqcnJxqtTl3EgQBqampmDx5MhQKRY3rKpVKKJWcoIyIiKixcFnNjUKhQFxcHNLS0qyWp6WlITExscZtd+7ciQsXLmDatGkNGSIRERF5IJc+fmH27NmYPHky4uPjkZCQgE8++QSZmZmYMWMGAHOT0rVr1/DFF19Ybbds2TL07t0bnTt3dkXYRERE5MZcmtyMHz8eeXl5eP3116HT6dC5c2ds2rTJMvpJp9NVm/NGr9djzZo1WLRokStCJiIiIjfn0nluXIHz3BAREXkej5jnhoiIiKghMLkhIiIir8LkhoiIiLwKkxsiIiLyKkxuiIiIyKswuSEiIiKvwuSGiIiIvIpLJ/EjoprlF5fjVnE5yiqNCFTLEaZRQS7j3yRERDVhckPkpjJyi/DCt8dx9MptAECA0gezk9pidPemCPKr+YGxRESNGf8EJHJDutulmPjJAUtiAwCFhkos+OE0dp676brAiIg8AJMbIjd0WleA7IIym2XvbD2LG3bKiIiIyQ2RWzpx9bbdsmu3S2GoNDkvGCIiD8PkhsgNtWzib7cs0FcOuUzixGiIiDwLkxsiNxQXHQRfhcxm2ZP9WyLMX+nkiIiIPAeTGyI3FBmoxn+m90HIHaOiHunZFGPjm0HG4eBERHZxKDiRG5JJJejaVIsfn+0Hnb4M+rIKtAj2RYi/Elq13NXhERG5NSY3RG5KKpUgMlCNyEC1q0MhIvIorNsmIiIir8LkhoiIiLwKkxsiIiLyKkxuiIiIyKswuSEiIiKvwuSGiIiIvAqTGyIiIvIqTG6IiIjIqzC5ISIiIq/C5IaIiIi8CpMbIiIi8ipMboiIiMirMLkhIiIir8LkhoiIiLwKkxsiIiLyKkxuiIiIyKswuSEiIiKvwuSGiIiIvAqTGyIiIvIqTG6IiIjIqzC5ISIiIq/C5IaIiIi8CpMbIiIi8ipMboiIiMirMLkhIiIir8LkhoiIiLwKkxsiIiLyKj6uDoDIU5VWVOJWUTkqTQL8lT4I8Ve6OiQiIgKTG6J6uZZfgve2ncf3x66hwiigQ2QA5o/shC5NtfBV8GtFRORKbJYiqqNsfRkmLzuI745cRYVRAACc0RViwif78Zuu0MXRERERkxuiOjqjK8Cl3OJqywUBeHPTaeSXlLsgKiIiqsLkhqiOtp/NsVt29MptlJQbnRgNERHdickNUR1FatV2y7RqOWQSJwZDRETVMLkhqqOkTuGQ2ElgHkuMQShHTRERuRSTG6I6itSq8P647pDekeD0aRmMib2j4SPj14qIyJU4ZpWojnwVPri/Uzi2zxmIXy7kIr+kAomtQtA8yBehAay1ISJyNSY3RPXgq/BBixAftAjxc3UoRER0B9afExERkVdhckNERERehckNEREReRUmN0RERORVmNwQERGRV2FyQ0RERF6FyQ0RERF5FZcnN4sXL0ZsbCxUKhXi4uKwe/fuGtc3GAx45ZVX0KJFCyiVSrRq1QqpqalOipaIiIjcnUsn8Vu9ejVmzZqFxYsXo2/fvli6dCmGDRuG06dPIzo62uY248aNw40bN7Bs2TK0bt0aOTk5qKysdHLkRERE5K4kgiAIrjp479690bNnTyxZssSyrEOHDhg9ejRSUlKqrb9lyxZMmDABly5dQnBwcL2OWVBQAK1WC71eD41GU+/YiYiIyHnqcv92WbNUeXk5jhw5gqSkJKvlSUlJ2Lt3r81tNmzYgPj4ePzrX/9C06ZN0bZtW8yZMwelpaV2j2MwGFBQUGD1Iu9WZKjEpZtFSN2TgUXbziE9Mx+5RQZXh0VERE7ismap3NxcGI1GhIeHWy0PDw9Hdna2zW0uXbqEPXv2QKVSYd26dcjNzcVf//pX3Lp1y26/m5SUFCxYsED0+Mk9FZZVYO3Ra3htwynLsve2nce9bUOx8JFuCNOoXBgdERE5g8s7FEskEqv3giBUW1bFZDJBIpFg5cqVuOeeezB8+HC8++67WL58ud3am3nz5kGv11teWVlZop8DuY/rt0utEpsqu87lYsPx6zCZXNYKS0RETuKy5CY0NBQymaxaLU1OTk612pwqkZGRaNq0KbRarWVZhw4dIAgCrl69anMbpVIJjUZj9SLv9d0R258DAFi2J4PNU0REjYDLkhuFQoG4uDikpaVZLU9LS0NiYqLNbfr27Yvr16+jqKjIsuzcuXOQSqVo1qxZg8ZL7k8QBOj0ZXbL80vKYXRd/3kiInISlzZLzZ49G5999hlSU1Nx5swZPP/888jMzMSMGTMAmJuUpkyZYln/0UcfRUhICB577DGcPn0au3btwosvvojHH38carXaVadBbkIikWBo5wi75QktQ+CvdOnsB0RE5AQu/U0/fvx45OXl4fXXX4dOp0Pnzp2xadMmtGjRAgCg0+mQmZlpWd/f3x9paWl49tlnER8fj5CQEIwbNw5vvvmmq06B3ExcdBCaB6uRdcu6D5aPVIIXh7RHgEruosiIiMhZXDrPjStwnhvvl3WrBO9vO4cNx6+jwiigR3Qg5o/ohPYRAVDKZa4Oj4iI6qEu928mN+SVSisqcauoHCYB8Ff5IMhX4eqQiIjIAXW5f7MDAnkltdwHTYP48SYiaoxcPs8NERERkZiY3BAREZFXYXJDREREXoXJDREREXkVJjdERETkVTichIi8Q+ENoOgGUJILBEQB/mGAb7Cro6KGVJIPlNwE9FcBdTAQEA4ERLo6KjKZAKlr606Y3BCR58u7APxnvPn/VVreB4xeDGiiXBcXNZzCbODH2cDZjb8vC2wBPPoNENZe3GOV3gbKiwGpDPAPByQScffvLIZCoKwAkEgBvzBAJvKkpgU6QJcOnPgGUGqAuGQgKMYlf2RwEj8i8myF2cDnw4Bbl6qXdX4EGLEIUPo7Py5qOBWlwE+vAoc+rV4WEAFM/xnQNHX8OOUlwM3fgG2vAVkHAL8mQMKzQOeHzEmOp6gsB25dAP77BnBpO6AMAHo9CfT4M6ARqaar4Dqwchxw46T18oRngP6zAd8Qxw9Rh/s3+9wQkWcruG47sQGA0+uA4pviHMdkAm5nAr+uBbanAGc3m5tDyPmKcoD0L2yXFWYDtzLEOc71dOCzwUDGLqDSYL7eW14GfpgNFOeJc4wqlQbzeZXmi7tfAMg7D3wyEDi7yZwYFuUA298EVk82/7wcZTQCR1ZUT2wAYN9H5u+Nk7FZiog8W02/nE1Gc3OCowTB/It7xQigTP/7cv8wIHkjENrW8WPQ3asoNScD9uRfAWL6OXaMohxg0wuAYKpedvZHoPBlwM/x2giYjED+ZeDAx8DF/wLqICDxOSC6j/nz5agyPZD2d9s/r2uHgNxz5touR5TkAEdS7Zcf+QKI6uHYMeqINTdE5BzGSnOiYbJxs3BEYHP7ZT5KcxW8owp1wNcTrBMbwHwD/O5xoDjX8WPQ3VP41XxdxUg2DYVAzhn75Zd/cfwYgDm5WHovcPATIO8icPUw8M1kc0JSIkLtkKEQuPiz/fLTGxw/hkkwJ5x2Y9Cb/0BwIiY3RNSwygoB3Qngx+eBrycCe94Fbl0WL8nxjwCaxtsui58mTt+Iohvm5i9bsk+aR2h5msIb5uaCAp3TbzwOC4gAEmfaLgttW3PCe7ekMnPHW3tUWsePUaYHtr4ClBdVLzv+NaC385mrEwkg97VfrA5y/BBqLdBmqP3yruOd3gmbyQ0RNZzyEuDUOmBpf3MfiYydwM9vmN/frOGv4rrwbwKMWw60Sfp9mUwO3PMU0G8WIFc5fozamrYqyhw/hrOU3AJOfgekJgHvdwE+HQgc+gwoEqlvkjPI5EDcY0C/2ebauSox/YFJ3znezAKYO8C2G267TCIFohMcP0apHrhUQ63KuS2OH8OvCdBzqv3yTg85fgyFHzDwZUBho+N+RFfzy8nY54aIGk5xDrDx+erLDQXAhmeBSd+KMooC2ubAmM/Mc56UFwNKLRAQVvNfrHWhiTLf0Gz1v5D7Ar4i/PXrDJXlwPFVwNZ5vy8rzAY2zQFuXQQGvgKoRGjGcwb/JsCAl83Djctum6+DX6g4NRGAudkr6U1zp+KCa78vl0iAUYvF6Q8jqfqPnZozqQi3aB8FkPBXc3+em79Zlw3+uzijygAguCXw5A5g5zvAuc2AwtdccyrmiKw6YHJDTldYVoH8kgqYTAI0ah8E+ylr34g8k+4EYKq0XXbtiHkSNjGSG8BcNa4WoanAFr8mQPxjwKFl1cvunWNuGvMERdnmUTK2HFgK3POk5yQ3gLlWLqgFgBYNs//gWGDaT0DmfnMtSmC0uYlF09RcW+EodbC5dui3H22Xt6uhqacutM2AyesA3XHzaD+/JkD3ieY/CsT6zkhlQGgbYMR7QNlrABpoLp27xOSGnOrSzSK8/sNp7Dx/E4IAdIrS4M3RndEpSgOFj2u+BNSAjOU1lwtG58ThKGUAMGAeEBQL7HnP3NFTEwUMnAe0e8C6acSdlebbb2ITTOahzsEtxTlWoc48JDv7pHlyvfBO5qTAxTPX1pm2GdDlEfNLbEp/4P4FQOa+6p2HE58Vp3mtiibK/Go3TLx92qLwEyfxcxCTG3Kaq/klGPvxPuQV/37DO3W9AOOW7sOPz/ZDuwhOquh1IrvbLwttI14TgjP4NwH6/BXoNMactPmozDcfT5qtVqaoudxWn4n6yM8EvnrIesZoVSAw5Xsgsptn/cwaWkhrc3POr2vN89D4hgIJT5tnWfak74eb8bAUmjzZz7/lWCU2VSqMAt7fdh7FBjvNF+S5/MOAvs9VXy6VAQ8uEqffgjNJZYC2qbm5QhPZMDfpohxzbcf5nwDdSfN7sfiFmmtQbPEPMz+byVGleuDHWdaJDWDuF7PyEfujzhqzwGjz6K9J3wKPLANi+orXXNtIseaGnMJQYcTPZ+z/kj50+RaKyirhp+RH0quoNP+bkCwB2PWOufNqs17AgJeA4Faujs793M4EVv0ZyD7++7KIrsCEr8xNO47yawI8nAosH27dDKLwAyZ8bX7gqKNKcs2dV20pvgnos8wJIlmTSsUZXk4AmNyQk/jIpIgMVNstD/FTwkfGqmqv5Bdibudv3tvcnKMMcIs2ebdTnAesecI6sQGA7BPAd9OAiavFmRE3rD3w5E7g6iFzp+6wjubZfLXNxKmJqqxhMjdAnInpiGrB5Ias5BSUIb+kAoIgINBXjnCNChIRfuHJpBL8uU80vj5o+xkjfxnYCiH+HtIpk+rHBU8G9iglueaHM9py9ZC51kOM5AYwT3IX2BzoPEac/f2RUmtOYA2FtstZY0dOwD43BAAorzTiyJV8jF26D0Pe34Whi3Zj9P/txa5zuSgtF6cvTHSQLxaM7FTtj8NHejZFv9ahohyDyGPZSwaq2JrF1h0FRAAD5touazvU8/pZkUdizQ0BAK7dLsWjn+6HofL3ScqyC8rw2PKD2DizPzpEOj6SKUAtxyNxzTCgbRMcyMhDaYURCS1DEBagQpBfLaM4iLydOtDcLGTrUQgSibncE8jkQLeJ5knctv/TXOMk9zXPKNx3JmvwyCmY3HiQ8kojbv1vtFGwn0K0eWEqjSZ8fSDTKrGpYhKAj36+gHce6QpfETr7+il94Kf0QUwo+1wQWfELAzqONj+u4k7tR5o7A3sKvxCgZzLQZoj5gYo+CsAvHJCz6Zmcg8mNh8i6VYLley9jfbp5GvCHejRFct8YNAtyfHr50gojjmbetlt+8poexeWVoiQ3RGSHSgMMSQF81MDJ1YDJaB563nks8Kf5njeSRirlqChyGd6tPMC1/BKMW7oPOv3vD+f7bE8GNp7U4bsZiWgaZH8U0t1Q+sgQG+qHw1fybZZHB6uhknP2YKIGp4kEHlhoHipvKDR3zPUP4+gyojpih2I3ZzIJ+OG4ziqxqaLTl2Hjyeswmew8dO0uKXykeKxvrN1RoM8MaoMAldyhYxDRXVL4mScJjOxq/j8TG6I6Y3Lj5vSlFfjhhP0ZPTccvw59aYXDx2kR4ov3x3eHSv77R0Iuk+DvIzqK0pmYiIjIWdgs5eZkUgnUNTQJqeUyUSa/81P6YFjnCMRFByErvxSVJhNiQvwQ6q+AWsGPCREReQ7etdycRi3HY31j7PaHeaxvrGhNRgofGZoF+6JZsOOdlEkEJhNQeN08XX2Z3jz5mV8oH6ZHRFQLJjceoFdMMAa2a4IdZ29aLR/YrgniY3ij80rGSkCXDvxnHFBy6/flXScA978uzgMOiYi8FJMbDxCmUeGdR7ri/I0iy+MLJt4TjTbhAWgSwHkjvFLBNeCLUUB5sfXyE6uA0DZA3+cBGUewERHZwuTGQzQJUKFJgAp9WpqfLSOV8iGTXu3qweqJTZV9H5lngBVjDpGKMnPT14VtgP4aEHsvENYB0IjwdGgiIhdhcuNhmNQ0Ernn7ZeV5gNGx0fIoaIMuLQdWD3JPGEcAPzyPhDSCpj8vfnBikREHohDwck1yotrf1BgY9Y0zn6ZtjkgVzl+jKJs4JvJvyc2VfIuAtvmAwY7NUdERG6OyQ05V1EOcG6r+ab69QTg6Ffm5hCyFt4Z0Nhpdhr8mvnJy466esR+DdDp9UBJruPHICJyATZLkfMU5QA/PA+c/fH3ZZf3mDvITv6ez6H5I21TYOoPwPq/Aln7zctUWmDQ/wNaDxbnGDUlL6ZKcZq+iIhcgMmNJ6k0ACV55n/7hpqftCs2YwVQnAtAAHyDAR8Rmj+q3DhtndhUyT0PHFsJ9HuBI4D+KKQVMPFr8zWvLAPUgYB/JCAT6WvbvLf9suCW5ucaERF5ICY3YhAEmAquw1RyC4AEMr9QSDQiNBv80e0rwP6PgZPfmN93GQf0+QsQGC3eMfRZwMFlwPGV5r/cO44B+j4LBMU4vm9jBXB4mf3yo18APaeI09wCAEU3zTUTxgpzkhYQaX7CspiKc/+XeBjMx/CPEC/xqOIbbH41BE1TIHYAkLGzetnQtzmXDhF5LCY3jiovhjHjF8h+nAlpoc68LCgWxtEfQ9asJyAToXbldhaQOhQo+MMzpvYvBk5/Dzy+VZxRLfprwPIRQH7G78sOfwac+R544r9AUAvH9i8IgKmGZg5TJQDHHgBq3o8JyDkNrH0CyDljXuYbbL5Ztx1ibtoRw82zwJongOwT5veqQPPkeh1GAr4eMrGifxPgoaXAoc+Ag58AhgIgvBMw5J81d2gmInJz7FDsoMqbFyBbNR6oSmwAID8Dsi9HovLWFccPYDIBv66xTmyqFFwDTq0zr+Oo8z9ZJzZVim+aa1Uc7X/hozDXzNjTZay5qc1R+ixg+fDfExvAPMPv2umA7rjj+wfMyebnw35PbACg7Dbww0wga584x3AWTSQwcC7w1/3ArJPmvk8tB7JJiog8GpMbB5jKiiDZvRAQbCQXlQYIR1aYp9F3RFk+cGqt/fJf15hvrI4wFAInv7VffnqdeW4VR0X1AJrdU315QATQ6wlAJsIzss6nmZ/DZMu216wfZVBfWft/7/t0p7TXzB2nPYlMbu7AHBhtrs0hIvJwbJZyQHlpAVQ3Ttgtl18/jPKyIij8Aut/EIkPIFfbL5erAamDl1EiA+Q1PCxT7itOf5WASGDcF8C5LeamkMoyoPPDQI8/i9N3SBCAK3vsl984DVSUOn6czAP2y3LPAcZyx49BRET1xuTGASaZCsbAFpDlX7ZZXh7UyvHRRmot0HsGkLnfdnnvvwAqjWPHUPgCvZ8CLqTZLr9nBuAb4tgxqmgigfjHgA4jzDVe6hDxRkhJJOb5YU6ts10e1EKcPlBhHeyXaZo6nmwSEZFD2CzlAHVAEAwJs20XSiQwxj8JhVKEodTRiUDrpOrL2wwBovs4vn8AiOwGdBpTfXlMf6CNSPOq/JFfKOAfJv7Q704P2W/eGvCyOM0urQbZT1rvfRHw5ygjIiJXkgiCIMIQFc9RUFAArVYLvV4PjcbBGg8AhbdzITm+Cv67FvzeHCH3ReGQ94E2QxCgDXT4GADM/Thu/gYcWWF+HzcVCG0PBISJs3/APHw67zxwZLn5XHpOAcI6edaQ4EoDcGUv8O3U3/veSGVA4nNAwtPmpMrhY1QA1w4Dqyb+3hdJIgV6Tf9fcsN+K0REYqvL/ZvJjQj0ej2kJTdRkXsJkPlAHhwDo28YAjX+ouzfStXIKGkDVro54xgNyVhpHr1WcNXcxyYoFvBrAihFvB4m4/+OcQ0wFAHBsebRXo42ERIRkU11uX+zc4AItFotoNWiLDQGEkiglDfgLLvOSDg8NampIvMxz/3TkE+1lsoAbTPzi4iI3AqTGxGp5PxxEhERuZqH/4lOREREZI3JDREREXkVJjdERETkVZjcEBERkVdhckNERERehckNEREReRUmN0RERORVmNwQERGRV2FyQ0RERF6FyQ0RERF5lUb3vICq54QWFBS4OBIiIiK6W1X37bt53nejS24KCwsBAM2bN+BDFYmIiKhBFBYWmh9YXQOJcDcpkBcxmUy4fv06AgICIJFIXBpLQUEBmjdvjqysrFof3+5teO6N79wb63kDPPfGeO6N9byBhjt3QRBQWFiIqKgoSKU196ppdDU3UqkUzZo1c3UYVjQaTaP78FfhuTe+c2+s5w3w3BvjuTfW8wYa5txrq7Gpwg7FRERE5FWY3BAREZFXYXLjQkqlEq+99hqUSqWrQ3E6nnvjO/fGet4Az70xnntjPW/APc690XUoJiIiIu/GmhsiIiLyKkxuiIiIyKswuSEiIiKvwuSGiIiIvAqTmwaSkpKCXr16ISAgAGFhYRg9ejTOnj1b4zY7duyARCKp9vrtt9+cFLU45s+fX+0cIiIiatxm586diIuLg0qlQsuWLfHxxx87KVpxxcTE2LyGTz/9tM31PfWa79q1CyNGjEBUVBQkEgnWr19vVS4IAubPn4+oqCio1WoMHDgQp06dqnW/a9asQceOHaFUKtGxY0esW7eugc6g/mo694qKCrz88svo0qUL/Pz8EBUVhSlTpuD69es17nP58uU2PwdlZWUNfDZ1U9t1T05OrnYOffr0qXW/7n7daztvW9dOIpHgnXfesbtPT7jmd3Mfc9fvOpObBrJz5048/fTT2L9/P9LS0lBZWYmkpCQUFxfXuu3Zs2eh0+ksrzZt2jghYnF16tTJ6hxOnjxpd92MjAwMHz4c/fv3R3p6Ov72t79h5syZWLNmjRMjFsehQ4eszjstLQ0AMHbs2Bq387RrXlxcjG7duuGjjz6yWf6vf/0L7777Lj766CMcOnQIERERuP/++y3PdrNl3759GD9+PCZPnozjx49j8uTJGDduHA4cONBQp1EvNZ17SUkJjh49ildffRVHjx7F2rVrce7cOYwcObLW/Wo0GqvPgE6ng0qlaohTqLfarjsADB061OocNm3aVOM+PeG613bed1631NRUSCQSPPzwwzXu192v+d3cx9z2uy6QU+Tk5AgAhJ07d9pdZ/v27QIAIT8/33mBNYDXXntN6Nat212v/9JLLwnt27e3WvbUU08Jffr0ETky53vuueeEVq1aCSaTyWa5N1xzAMK6dess700mkxARESG89dZblmVlZWWCVqsVPv74Y7v7GTdunDB06FCrZUOGDBEmTJggesxiufPcbTl48KAAQLhy5YrddT7//HNBq9WKG1wDs3XuU6dOFUaNGlWn/Xjadb+baz5q1Chh0KBBNa7jidf8zvuYO3/XWXPjJHq9HgAQHBxc67o9evRAZGQkBg8ejO3btzd0aA3i/PnziIqKQmxsLCZMmIBLly7ZXXffvn1ISkqyWjZkyBAcPnwYFRUVDR1qgykvL8dXX32Fxx9/vNaHtHrDNa+SkZGB7Oxsq2uqVCoxYMAA7N271+529j4HNW3jCfR6PSQSCQIDA2tcr6ioCC1atECzZs3w4IMPIj093TkBimzHjh0ICwtD27ZtMX36dOTk5NS4vrdd9xs3bmDjxo2YNm1aret62jW/8z7mzt91JjdOIAgCZs+ejX79+qFz585214uMjMQnn3yCNWvWYO3atWjXrh0GDx6MXbt2OTFax/Xu3RtffPEFtm7dik8//RTZ2dlITExEXl6ezfWzs7MRHh5utSw8PByVlZXIzc11RsgNYv369bh9+zaSk5PtruMt1/yPsrOzAcDmNa0qs7ddXbdxd2VlZZg7dy4effTRGh8g2L59eyxfvhwbNmzA119/DZVKhb59++L8+fNOjNZxw4YNw8qVK/Hzzz/j3//+Nw4dOoRBgwbBYDDY3cbbrvuKFSsQEBCAMWPG1Liep11zW/cxd/6uN7qngrvCM888gxMnTmDPnj01rteuXTu0a9fO8j4hIQFZWVlYuHAh7r333oYOUzTDhg2z/LtLly5ISEhAq1atsGLFCsyePdvmNnfWbAj/mzi7thoPd7Zs2TIMGzYMUVFRdtfxlmtui61rWtv1rM827qqiogITJkyAyWTC4sWLa1y3T58+Vh1v+/bti549e+LDDz/EBx980NChimb8+PGWf3fu3Bnx8fFo0aIFNm7cWOPN3puue2pqKiZNmlRr3xlPu+Y13cfc8bvOmpsG9uyzz2LDhg3Yvn07mjVrVuft+/Tp47aZ/N3y8/NDly5d7J5HREREtYw9JycHPj4+CAkJcUaIorty5Qq2bduGJ554os7bevo1rxoZZ+ua3vnX2p3b1XUbd1VRUYFx48YhIyMDaWlpNdba2CKVStGrVy+P/hwA5prJFi1a1Hge3nTdd+/ejbNnz9bre+/O19zefcydv+tMbhqIIAh45plnsHbtWvz888+IjY2t137S09MRGRkpcnTOZTAYcObMGbvnkZCQYBlVVOWnn35CfHw85HK5M0IU3eeff46wsDA88MADdd7W0695bGwsIiIirK5peXk5du7cicTERLvb2fsc1LSNO6pKbM6fP49t27bVK0EXBAHHjh3z6M8BAOTl5SErK6vG8/CW6w6Ya2vj4uLQrVu3Om/rjte8tvuYW3/XReuaTFb+8pe/CFqtVtixY4eg0+ksr5KSEss6c+fOFSZPnmx5/9577wnr1q0Tzp07J/z666/C3LlzBQDCmjVrXHEK9fbCCy8IO3bsEC5duiTs379fePDBB4WAgADh8uXLgiBUP+9Lly4Jvr6+wvPPPy+cPn1aWLZsmSCXy4XvvvvOVafgEKPRKERHRwsvv/xytTJvueaFhYVCenq6kJ6eLgAQ3n33XSE9Pd0yIuitt94StFqtsHbtWuHkyZPCxIkThcjISKGgoMCyj8mTJwtz5861vP/ll18EmUwmvPXWW8KZM2eEt956S/Dx8RH279/v9POrSU3nXlFRIYwcOVJo1qyZcOzYMavvvsFgsOzjznOfP3++sGXLFuHixYtCenq68Nhjjwk+Pj7CgQMHXHGKdtV07oWFhcILL7wg7N27V8jIyBC2b98uJCQkCE2bNvX4617b510QBEGv1wu+vr7CkiVLbO7DE6/53dzH3PW7zuSmgQCw+fr8888t60ydOlUYMGCA5f3bb78ttGrVSlCpVEJQUJDQr18/YePGjc4P3kHjx48XIiMjBblcLkRFRQljxowRTp06ZSm/87wFQRB27Ngh9OjRQ1AoFEJMTIzdXxCeYOvWrQIA4ezZs9XKvOWaVw1hv/M1depUQRDMQ0Rfe+01ISIiQlAqlcK9994rnDx50mofAwYMsKxf5dtvvxXatWsnyOVyoX379m6Z5NV07hkZGXa/+9u3b7fs485znzVrlhAdHS0oFAqhSZMmQlJSkrB3717nn1wtajr3kpISISkpSWjSpIkgl8uF6OhoYerUqUJmZqbVPjzxutf2eRcEQVi6dKmgVquF27dv29yHJ17zu7mPuet3XfK/EyAiIiLyCuxzQ0RERF6FyQ0RERF5FSY3RERE5FWY3BAREZFXYXJDREREXoXJDREREXkVJjdERETkVZjcEBERkVdhckNEjd7ly5chkUhw7NgxV4dCRCJgckNELpecnAyJRAKJRAK5XI7w8HDcf//9SE1NhclkEv1Yo0ePFnWfRORemNwQkVsYOnQodDodLl++jM2bN+O+++7Dc889hwcffBCVlZWuDo+IPAiTGyJyC0qlEhEREWjatCl69uyJv/3tb/j++++xefNmLF++HACg1+vx5JNPIiwsDBqNBoMGDcLx48ct+5g/fz66d++OpUuXonnz5vD19cXYsWNx+/ZtS/mKFSvw/fffW2qKduzYYdn+0qVLuO++++Dr64tu3bph3759TvwJEJFYmNwQkdsaNGgQunXrhrVr10IQBDzwwAPIzs7Gpk2bcOTIEfTs2RODBw/GrVu3LNtcuHAB33zzDX744Qds2bIFx44dw9NPPw0AmDNnDsaNG2epJdLpdEhMTLRs+8orr2DOnDk4duwY2rZti4kTJ7LWiMgDMbkhIrfWvn17XL58Gdu3b8fJkyfx7bffIj4+Hm3atMHChQsRGBiI7777zrJ+WVkZVqxYge7du+Pee+/Fhx9+iFWrViE7Oxv+/v5Qq9WWWqKIiAgoFArLtnPmzMEDDzyAtm3bYsGCBbhy5QouXLjgitMmIgcwuSEityYIAiQSCY4cOYKioiKEhITA39/f8srIyMDFixct60dHR6NZs2aW9wkJCTCZTDh79mytx+ratavl35GRkQCAnJwcEc+GiJzBx9UBEBHV5MyZM4iNjYXJZEJkZKRVH5kqgYGBdreXSCRW/6+JXC6vtp3Yo7WIqOExuSEit/Xzzz/j5MmTeP7559GsWTNkZ2fDx8cHMTExdrfJzMzE9evXERUVBQDYt28fpFIp2rZtCwBQKBQwGo3OCJ+IXITJDRG5BYPBgOzsbBiNRty4cQNbtmxBSkoKHnzwQUyZMgVSqRQJCQkYPXo03n77bbRr1w7Xr1/Hpk2bMHr0aMTHxwMAVCoVpk6dioULF6KgoAAzZ87EuHHjEBERAQCIiYnB1q1bcfbsWYSEhECr1brytImoATC5ISK3sGXLFkRGRsLHxwdBQUHo1q0bPvjgA0ydOhVSqbl74KZNm/DKK6/g8ccfx82bNxEREYF7770X4eHhlv20bt0aY8aMwfDhw3Hr1i0MHz4cixcvtpRPnz4dO3bsQHx8PIqKirB9+/Yaa4KIyPNIBEEQXB0EEZEY5s+fj/Xr1/MxCkSNHEdLERERkVdhckNERERehc1SRERE5FVYc0NERERehckNEREReRUmN0RERORVmNwQERGRV2FyQ0RERF6FyQ0RERF5FSY3RERE5FWY3BAREZFX+f+ZTGbQFxLH5gAAAABJRU5ErkJggg==\n",
      "text/plain": [
       "<Figure size 640x480 with 1 Axes>"
      ]
     },
     "metadata": {},
     "output_type": "display_data"
    }
   ],
   "source": [
    "sns.scatterplot(x='depth', y='score', data=scores, hue='type')\n",
    "plt.xlabel('Depth')\n",
    "plt.ylabel('Score')\n",
    "plt.show()"
   ]
  },
  {
   "cell_type": "code",
   "execution_count": 212,
   "id": "6bc4aa80",
   "metadata": {},
   "outputs": [],
   "source": [
    "rfc_train = []\n",
    "rfc_val = []\n",
    "depth = []\n",
    "for i in range(2, 21):\n",
    "    rf = RandomForestClassifier(bootstrap=True, \n",
    "                                class_weight=None, \n",
    "                                criterion='gini',\n",
    "                                min_samples_leaf=3,\n",
    "                                n_estimators=100,\n",
    "                                max_depth=i, \n",
    "                                random_state=42)\n",
    "    \n",
    "    rf.fit(X_train, y_train)\n",
    "    \n",
    "    rfc_train.append(rf.score(X_train, y_train))\n",
    "    rfc_val.append(rf.score(X_val, y_val))\n",
    "    depth.append(i)"
   ]
  },
  {
   "cell_type": "code",
   "execution_count": 213,
   "id": "185bce77",
   "metadata": {},
   "outputs": [],
   "source": [
    "rfc_scores = pd.DataFrame({'score':rfc_train,\n",
    "                           'type':'train',\n",
    "                           'depth':depth})\n",
    "\n",
    "val_rfc_scores = pd.DataFrame({'score':rfc_val,\n",
    "                               'type':'val',\n",
    "                               'depth':depth})\n",
    "\n",
    "rfc_scores = rfc_scores.append(val_rfc_scores)"
   ]
  },
  {
   "cell_type": "code",
   "execution_count": 214,
   "id": "c98c1b1e",
   "metadata": {},
   "outputs": [
    {
     "data": {
      "image/png": "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\n",
      "text/plain": [
       "<Figure size 640x480 with 1 Axes>"
      ]
     },
     "metadata": {},
     "output_type": "display_data"
    }
   ],
   "source": [
    "sns.scatterplot(x='depth', y='score', data=rfc_scores, hue='type')\n",
    "plt.xlabel('Depth')\n",
    "plt.ylabel('Score')\n",
    "plt.show()"
   ]
  },
  {
   "cell_type": "code",
   "execution_count": 132,
   "id": "0d947d93",
   "metadata": {},
   "outputs": [
    {
     "name": "stdout",
     "output_type": "stream",
     "text": [
      "lbfgs\n",
      "Train:  0.4716672125777923\n",
      "Val:  0.4548133595284872\n"
     ]
    }
   ],
   "source": [
    "logit = LogisticRegression(C=1, random_state=42, solver='lbfgs')\n",
    "logit.fit(X_train, y_train)\n",
    "y_pred = logit.predict(X_train)\n",
    "print('lbfgs')\n",
    "print('Train: ', logit.score(X_train, y_train))\n",
    "print('Val: ', logit.score(X_val, y_val))"
   ]
  },
  {
   "cell_type": "code",
   "execution_count": 135,
   "id": "5dc057a3",
   "metadata": {},
   "outputs": [
    {
     "name": "stdout",
     "output_type": "stream",
     "text": [
      "newton-cg\n",
      "Train:  0.5450376678676712\n",
      "Val:  0.5275049115913556\n"
     ]
    }
   ],
   "source": [
    "logit = LogisticRegression(C=1, random_state=42, solver='newton-cg')\n",
    "logit.fit(X_train, y_train)\n",
    "y_pred = logit.predict(X_train)\n",
    "print('newton-cg')\n",
    "print('Train: ', logit.score(X_train, y_train))\n",
    "print('Val: ', logit.score(X_val, y_val))"
   ]
  },
  {
   "cell_type": "code",
   "execution_count": 140,
   "id": "ee8dfeb9",
   "metadata": {},
   "outputs": [
    {
     "name": "stdout",
     "output_type": "stream",
     "text": [
      "liblinear\n",
      "Train:  0.53422862757943\n",
      "Val:  0.537328094302554\n"
     ]
    }
   ],
   "source": [
    "logit = LogisticRegression(C=2, random_state=42, solver='liblinear')\n",
    "logit.fit(X_train, y_train)\n",
    "y_pred = logit.predict(X_train)\n",
    "print('liblinear')\n",
    "print('Train: ', logit.score(X_train, y_train))\n",
    "print('Val: ', logit.score(X_val, y_val))"
   ]
  },
  {
   "cell_type": "code",
   "execution_count": 138,
   "id": "96c1bec2",
   "metadata": {},
   "outputs": [
    {
     "name": "stdout",
     "output_type": "stream",
     "text": [
      "sag\n",
      "Train:  0.4818211595152309\n",
      "Val:  0.4538310412573674\n"
     ]
    }
   ],
   "source": [
    "logit = LogisticRegression(C=1, random_state=42, solver='sag')\n",
    "logit.fit(X_train, y_train)\n",
    "y_pred = logit.predict(X_train)\n",
    "print('sag')\n",
    "print('Train: ', logit.score(X_train, y_train))\n",
    "print('Val: ', logit.score(X_val, y_val))"
   ]
  },
  {
   "cell_type": "code",
   "execution_count": 139,
   "id": "7caf1095",
   "metadata": {},
   "outputs": [
    {
     "name": "stdout",
     "output_type": "stream",
     "text": [
      "saga\n",
      "Train:  0.4723223059285948\n",
      "Val:  0.44695481335952847\n"
     ]
    }
   ],
   "source": [
    "logit = LogisticRegression(C=1, random_state=42, solver='saga')\n",
    "logit.fit(X_train, y_train)\n",
    "y_pred = logit.predict(X_train)\n",
    "print('saga')\n",
    "print('Train: ', logit.score(X_train, y_train))\n",
    "print('Val: ', logit.score(X_val, y_val))"
   ]
  },
  {
   "cell_type": "code",
   "execution_count": 199,
   "id": "6ee3bddf",
   "metadata": {},
   "outputs": [],
   "source": [
    "knn_train = []\n",
    "knn_val = []\n",
    "depth = []\n",
    "\n",
    "for i in range(2, 51):\n",
    "    knn = KNeighborsClassifier(n_neighbors=i, weights='uniform')\n",
    "    knn.fit(X_train, y_train)\n",
    "    y_pred = knn.predict(X_train)\n",
    "    y_pred_proba = knn.predict_proba(X_train)\n",
    "    \n",
    "    depth.append(i)\n",
    "    knn_train.append(knn.score(X_train, y_train))\n",
    "    knn_val.append(knn.score(X_val, y_val))"
   ]
  },
  {
   "cell_type": "code",
   "execution_count": 200,
   "id": "1405708f",
   "metadata": {},
   "outputs": [],
   "source": [
    "knn_scores = pd.DataFrame({'score':knn_train,\n",
    "                           'type':'train',\n",
    "                           'depth':depth})\n",
    "\n",
    "val_knn_scores = pd.DataFrame({'score':knn_val,\n",
    "                               'type':'val',\n",
    "                               'depth':depth})\n",
    "\n",
    "knn_scores = knn_scores.append(val_knn_scores)"
   ]
  },
  {
   "cell_type": "code",
   "execution_count": 201,
   "id": "c1223e94",
   "metadata": {},
   "outputs": [
    {
     "data": {
      "image/png": "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\n",
      "text/plain": [
       "<Figure size 640x480 with 1 Axes>"
      ]
     },
     "metadata": {},
     "output_type": "display_data"
    }
   ],
   "source": [
    "sns.scatterplot(x='depth', y='score', data=knn_scores, hue='type')\n",
    "plt.xlabel('Depth')\n",
    "plt.ylabel('Score')\n",
    "plt.show()"
   ]
  },
  {
   "cell_type": "code",
   "execution_count": 215,
   "id": "b56a6630",
=======
   "execution_count": 16,
   "id": "8f21b9e5",
>>>>>>> 73ebcddb93bb525b463c0a5570a1f98e8f6179ec
   "metadata": {},
   "outputs": [
    {
     "data": {
      "text/html": [
       "<div>\n",
       "<style scoped>\n",
       "    .dataframe tbody tr th:only-of-type {\n",
       "        vertical-align: middle;\n",
       "    }\n",
       "\n",
       "    .dataframe tbody tr th {\n",
       "        vertical-align: top;\n",
       "    }\n",
       "\n",
       "    .dataframe thead th {\n",
       "        text-align: right;\n",
       "    }\n",
       "</style>\n",
       "<table border=\"1\" class=\"dataframe\">\n",
       "  <thead>\n",
       "    <tr style=\"text-align: right;\">\n",
       "      <th></th>\n",
       "      <th>score</th>\n",
       "      <th>type</th>\n",
       "      <th>depth</th>\n",
       "    </tr>\n",
       "  </thead>\n",
       "  <tbody>\n",
       "    <tr>\n",
<<<<<<< HEAD
       "      <th>3</th>\n",
       "      <td>0.598755</td>\n",
=======
       "      <th>0</th>\n",
       "      <td>0.529017</td>\n",
>>>>>>> 73ebcddb93bb525b463c0a5570a1f98e8f6179ec
       "      <td>train</td>\n",
       "      <td>5</td>\n",
       "    </tr>\n",
       "    <tr>\n",
<<<<<<< HEAD
       "      <th>3</th>\n",
       "      <td>0.560904</td>\n",
       "      <td>val</td>\n",
       "      <td>5</td>\n",
       "    </tr>\n",
       "  </tbody>\n",
       "</table>\n",
       "</div>"
      ],
      "text/plain": [
       "      score   type  depth\n",
       "3  0.598755  train      5\n",
       "3  0.560904    val      5"
      ]
     },
     "execution_count": 215,
     "metadata": {},
     "output_type": "execute_result"
    }
   ],
   "source": [
    "rfc_scores[rfc_scores['depth']==5]"
   ]
  },
  {
   "cell_type": "code",
   "execution_count": 216,
   "id": "557a1181",
   "metadata": {},
   "outputs": [
    {
     "data": {
      "text/html": [
       "<div>\n",
       "<style scoped>\n",
       "    .dataframe tbody tr th:only-of-type {\n",
       "        vertical-align: middle;\n",
       "    }\n",
       "\n",
       "    .dataframe tbody tr th {\n",
       "        vertical-align: top;\n",
       "    }\n",
       "\n",
       "    .dataframe thead th {\n",
       "        text-align: right;\n",
       "    }\n",
       "</style>\n",
       "<table border=\"1\" class=\"dataframe\">\n",
       "  <thead>\n",
       "    <tr style=\"text-align: right;\">\n",
       "      <th></th>\n",
       "      <th>score</th>\n",
       "      <th>type</th>\n",
       "      <th>depth</th>\n",
=======
       "      <th>1</th>\n",
       "      <td>0.541140</td>\n",
       "      <td>train</td>\n",
       "      <td>3</td>\n",
       "    </tr>\n",
       "    <tr>\n",
       "      <th>2</th>\n",
       "      <td>0.554295</td>\n",
       "      <td>train</td>\n",
       "      <td>4</td>\n",
>>>>>>> 73ebcddb93bb525b463c0a5570a1f98e8f6179ec
       "    </tr>\n",
       "  </thead>\n",
       "  <tbody>\n",
       "    <tr>\n",
       "      <th>3</th>\n",
       "      <td>0.569513</td>\n",
       "      <td>train</td>\n",
       "      <td>5</td>\n",
       "    </tr>\n",
       "    <tr>\n",
<<<<<<< HEAD
=======
       "      <th>4</th>\n",
       "      <td>0.602012</td>\n",
       "      <td>train</td>\n",
       "      <td>6</td>\n",
       "    </tr>\n",
       "    <tr>\n",
       "      <th>5</th>\n",
       "      <td>0.631932</td>\n",
       "      <td>train</td>\n",
       "      <td>7</td>\n",
       "    </tr>\n",
       "    <tr>\n",
       "      <th>6</th>\n",
       "      <td>0.666495</td>\n",
       "      <td>train</td>\n",
       "      <td>8</td>\n",
       "    </tr>\n",
       "    <tr>\n",
       "      <th>7</th>\n",
       "      <td>0.707506</td>\n",
       "      <td>train</td>\n",
       "      <td>9</td>\n",
       "    </tr>\n",
       "    <tr>\n",
       "      <th>8</th>\n",
       "      <td>0.746969</td>\n",
       "      <td>train</td>\n",
       "      <td>10</td>\n",
       "    </tr>\n",
       "    <tr>\n",
       "      <th>9</th>\n",
       "      <td>0.784627</td>\n",
       "      <td>train</td>\n",
       "      <td>11</td>\n",
       "    </tr>\n",
       "    <tr>\n",
       "      <th>10</th>\n",
       "      <td>0.820222</td>\n",
       "      <td>train</td>\n",
       "      <td>12</td>\n",
       "    </tr>\n",
       "    <tr>\n",
       "      <th>11</th>\n",
       "      <td>0.855300</td>\n",
       "      <td>train</td>\n",
       "      <td>13</td>\n",
       "    </tr>\n",
       "    <tr>\n",
       "      <th>12</th>\n",
       "      <td>0.885478</td>\n",
       "      <td>train</td>\n",
       "      <td>14</td>\n",
       "    </tr>\n",
       "    <tr>\n",
       "      <th>13</th>\n",
       "      <td>0.914625</td>\n",
       "      <td>train</td>\n",
       "      <td>15</td>\n",
       "    </tr>\n",
       "    <tr>\n",
       "      <th>14</th>\n",
       "      <td>0.934227</td>\n",
       "      <td>train</td>\n",
       "      <td>16</td>\n",
       "    </tr>\n",
       "    <tr>\n",
       "      <th>15</th>\n",
       "      <td>0.954346</td>\n",
       "      <td>train</td>\n",
       "      <td>17</td>\n",
       "    </tr>\n",
       "    <tr>\n",
       "      <th>16</th>\n",
       "      <td>0.970080</td>\n",
       "      <td>train</td>\n",
       "      <td>18</td>\n",
       "    </tr>\n",
       "    <tr>\n",
       "      <th>17</th>\n",
       "      <td>0.978592</td>\n",
       "      <td>train</td>\n",
       "      <td>19</td>\n",
       "    </tr>\n",
       "    <tr>\n",
       "      <th>18</th>\n",
       "      <td>0.988393</td>\n",
       "      <td>train</td>\n",
       "      <td>20</td>\n",
       "    </tr>\n",
       "    <tr>\n",
       "      <th>0</th>\n",
       "      <td>0.531734</td>\n",
       "      <td>val</td>\n",
       "      <td>2</td>\n",
       "    </tr>\n",
       "    <tr>\n",
       "      <th>1</th>\n",
       "      <td>0.527090</td>\n",
       "      <td>val</td>\n",
       "      <td>3</td>\n",
       "    </tr>\n",
       "    <tr>\n",
       "      <th>2</th>\n",
       "      <td>0.527090</td>\n",
       "      <td>val</td>\n",
       "      <td>4</td>\n",
       "    </tr>\n",
       "    <tr>\n",
>>>>>>> 73ebcddb93bb525b463c0a5570a1f98e8f6179ec
       "      <th>3</th>\n",
       "      <td>0.527864</td>\n",
       "      <td>val</td>\n",
       "      <td>5</td>\n",
       "    </tr>\n",
<<<<<<< HEAD
=======
       "    <tr>\n",
       "      <th>4</th>\n",
       "      <td>0.541022</td>\n",
       "      <td>val</td>\n",
       "      <td>6</td>\n",
       "    </tr>\n",
       "    <tr>\n",
       "      <th>5</th>\n",
       "      <td>0.515480</td>\n",
       "      <td>val</td>\n",
       "      <td>7</td>\n",
       "    </tr>\n",
       "    <tr>\n",
       "      <th>6</th>\n",
       "      <td>0.531734</td>\n",
       "      <td>val</td>\n",
       "      <td>8</td>\n",
       "    </tr>\n",
       "    <tr>\n",
       "      <th>7</th>\n",
       "      <td>0.534056</td>\n",
       "      <td>val</td>\n",
       "      <td>9</td>\n",
       "    </tr>\n",
       "    <tr>\n",
       "      <th>8</th>\n",
       "      <td>0.524768</td>\n",
       "      <td>val</td>\n",
       "      <td>10</td>\n",
       "    </tr>\n",
       "    <tr>\n",
       "      <th>9</th>\n",
       "      <td>0.542570</td>\n",
       "      <td>val</td>\n",
       "      <td>11</td>\n",
       "    </tr>\n",
       "    <tr>\n",
       "      <th>10</th>\n",
       "      <td>0.538700</td>\n",
       "      <td>val</td>\n",
       "      <td>12</td>\n",
       "    </tr>\n",
       "    <tr>\n",
       "      <th>11</th>\n",
       "      <td>0.537152</td>\n",
       "      <td>val</td>\n",
       "      <td>13</td>\n",
       "    </tr>\n",
       "    <tr>\n",
       "      <th>12</th>\n",
       "      <td>0.547214</td>\n",
       "      <td>val</td>\n",
       "      <td>14</td>\n",
       "    </tr>\n",
       "    <tr>\n",
       "      <th>13</th>\n",
       "      <td>0.549536</td>\n",
       "      <td>val</td>\n",
       "      <td>15</td>\n",
       "    </tr>\n",
       "    <tr>\n",
       "      <th>14</th>\n",
       "      <td>0.543344</td>\n",
       "      <td>val</td>\n",
       "      <td>16</td>\n",
       "    </tr>\n",
       "    <tr>\n",
       "      <th>15</th>\n",
       "      <td>0.551084</td>\n",
       "      <td>val</td>\n",
       "      <td>17</td>\n",
       "    </tr>\n",
       "    <tr>\n",
       "      <th>16</th>\n",
       "      <td>0.540248</td>\n",
       "      <td>val</td>\n",
       "      <td>18</td>\n",
       "    </tr>\n",
       "    <tr>\n",
       "      <th>17</th>\n",
       "      <td>0.547988</td>\n",
       "      <td>val</td>\n",
       "      <td>19</td>\n",
       "    </tr>\n",
       "    <tr>\n",
       "      <th>18</th>\n",
       "      <td>0.545666</td>\n",
       "      <td>val</td>\n",
       "      <td>20</td>\n",
       "    </tr>\n",
>>>>>>> 73ebcddb93bb525b463c0a5570a1f98e8f6179ec
       "  </tbody>\n",
       "</table>\n",
       "</div>"
      ],
      "text/plain": [
<<<<<<< HEAD
       "      score   type  depth\n",
       "3  0.560760  train      5\n",
       "3  0.532417    val      5"
      ]
     },
     "execution_count": 216,
=======
       "       score   type  depth\n",
       "0   0.529017  train      2\n",
       "1   0.541140  train      3\n",
       "2   0.554295  train      4\n",
       "3   0.569513  train      5\n",
       "4   0.602012  train      6\n",
       "5   0.631932  train      7\n",
       "6   0.666495  train      8\n",
       "7   0.707506  train      9\n",
       "8   0.746969  train     10\n",
       "9   0.784627  train     11\n",
       "10  0.820222  train     12\n",
       "11  0.855300  train     13\n",
       "12  0.885478  train     14\n",
       "13  0.914625  train     15\n",
       "14  0.934227  train     16\n",
       "15  0.954346  train     17\n",
       "16  0.970080  train     18\n",
       "17  0.978592  train     19\n",
       "18  0.988393  train     20\n",
       "0   0.531734    val      2\n",
       "1   0.527090    val      3\n",
       "2   0.527090    val      4\n",
       "3   0.527864    val      5\n",
       "4   0.541022    val      6\n",
       "5   0.515480    val      7\n",
       "6   0.531734    val      8\n",
       "7   0.534056    val      9\n",
       "8   0.524768    val     10\n",
       "9   0.542570    val     11\n",
       "10  0.538700    val     12\n",
       "11  0.537152    val     13\n",
       "12  0.547214    val     14\n",
       "13  0.549536    val     15\n",
       "14  0.543344    val     16\n",
       "15  0.551084    val     17\n",
       "16  0.540248    val     18\n",
       "17  0.547988    val     19\n",
       "18  0.545666    val     20"
      ]
     },
     "execution_count": 16,
>>>>>>> 73ebcddb93bb525b463c0a5570a1f98e8f6179ec
     "metadata": {},
     "output_type": "execute_result"
    }
   ],
   "source": [
    "scores[scores['depth']==5]"
   ]
  },
  {
   "cell_type": "code",
<<<<<<< HEAD
   "execution_count": 222,
   "id": "4589e542",
=======
   "execution_count": 17,
   "id": "5c10f11a",
>>>>>>> 73ebcddb93bb525b463c0a5570a1f98e8f6179ec
   "metadata": {},
   "outputs": [
    {
     "data": {
      "text/plain": [
       "0.6473477406679764"
      ]
     },
     "execution_count": 222,
     "metadata": {},
     "output_type": "execute_result"
    }
   ],
   "source": [
    "rf = RandomForestClassifier(bootstrap=True, \n",
    "                                class_weight=None, \n",
    "                                criterion='gini',\n",
    "                                min_samples_leaf=3,\n",
    "                                n_estimators=100,\n",
    "                                max_depth=i, \n",
    "                                random_state=42)\n",
    "    \n",
<<<<<<< HEAD
    "rf.fit(X_train, y_train)\n",
    "\n",
    "rf.score(X_test, y_test)"
=======
    "    rf.fit(X_train, y_train)\n",
    "    y_pred = rf.predict(X_train)\n",
    "    \n",
    "    rfc_train.append(rf.score(X_train, y_train))\n",
    "    rfc_val.append(rf.score(X_val, y_val))\n",
    "    depth.append(i)"
   ]
  },
  {
   "cell_type": "code",
   "execution_count": 18,
   "id": "4400c6db",
   "metadata": {},
   "outputs": [
    {
     "data": {
      "image/png": "iVBORw0KGgoAAAANSUhEUgAAAjcAAAGwCAYAAABVdURTAAAAOXRFWHRTb2Z0d2FyZQBNYXRwbG90bGliIHZlcnNpb24zLjYuMiwgaHR0cHM6Ly9tYXRwbG90bGliLm9yZy8o6BhiAAAACXBIWXMAAA9hAAAPYQGoP6dpAABOrElEQVR4nO3deXwTdf4/8FeaJmnaNOmdtrTQct8oLUqLgICWQzldwGM5FFB2VQREF5YfK7h+t7qyCB7gxaWywiqIuCJYV045xYIgyFlogZTSAk3PpE3n98dIMDQptE0zyfT1fDzy0MxnJnkPaTuvfObzmVEIgiCAiIiISCb8pC6AiIiIyJ0YboiIiEhWGG6IiIhIVhhuiIiISFYYboiIiEhWGG6IiIhIVhhuiIiISFb8pS7A06qqqnDx4kUEBwdDoVBIXQ4RERHdBkEQUFRUhNjYWPj51dw30+jCzcWLFxEfHy91GURERFQHOTk5iIuLq3GdRhdugoODAYj/OHq9XuJqiIiI6HaYzWbEx8fbj+M1aXTh5vqpKL1ez3BDRETkY25nSAkHFBMREZGsMNwQERGRrEgabrZv347BgwcjNjYWCoUC69evv+U227ZtQ1JSEgICAtC8eXO8++67DV8oERER+QxJx9yUlJSgS5cuePzxx/HQQw/dcv2srCwMGjQIkyZNwieffIIffvgBf/7znxEZGXlb29eGzWZDRUWFW1+zsVCpVFAqlVKXQUREjZSk4WbgwIEYOHDgba//7rvvomnTpli4cCEAoF27dvjxxx8xf/58t4UbQRCQm5uLa9euueX1GquQkBBER0fzWkJERORxPjVbavfu3UhLS3NY1r9/fyxduhQVFRVQqVTVtrFYLLBYLPbnZrO5xve4HmyioqIQGBjIg3MtCYKA0tJS5OXlAQBiYmIkroiIiBobnwo3ubm5MBqNDsuMRiMqKyuRn5/v9ECanp6OefPm3dbr22w2e7AJDw93S82NkVarBQDk5eUhKiqKp6iIiMijfG621M09KYIgOF1+3axZs1BYWGh/5OTkuHzt62NsAgMD3VRt43X935DjloiIyNN8qucmOjoaubm5Dsvy8vLg7+/vsqdFo9FAo9HU6n14Kqr++G9IRERS8amem5SUFGRkZDgs+/bbb5GcnOx0vA0RERF5jrXShkvmcuQXWexnVqQgac9NcXExTp06ZX+elZWFgwcPIiwsDE2bNsWsWbNw4cIFfPTRRwCAyZMn4+2338b06dMxadIk7N69G0uXLsWnn34q1S4QERE1eoIgIOdKKZb9cBYZRy8hQKXEuNRm6N8hGkZ9gMfrkTTc/Pjjj+jTp4/9+fTp0wEA48aNw4oVK2AymZCdnW1vT0xMxMaNGzFt2jS88847iI2NxZtvvun2a9wQERHR7TtXUIqh7/yAwrIb4yz/9uUv+OrQRbzzaFdEeTjgSBpu7r333hq7rVasWFFtWe/evfHTTz81YFWec++99+KOO+6wX7eHiIjI15RZK7F4yymHYHPd/rNXcfxSkcfDjU+NuSEiIiLvcq2sAt8cyXXZ/vmB8x4ff8NwI5Hx48dj27ZtWLRoERQKBRQKBfz9/TF//nyH9Y4cOQI/Pz+cPn0agDgLacmSJRg4cCC0Wi0SExPx2WefOWxz4cIFjB49GqGhoQgPD8fQoUNx9uxZT+0aERE1IgoooPJ3HScCVEqPz6BluJHIokWLkJKSgkmTJsFkMsFkMmHevHlYvny5w3rLli1Dz5490aJFC/uyOXPm4KGHHsKhQ4fwxz/+EY888giOHTsGACgtLUWfPn2g0+mwfft27Ny5EzqdDgMGDIDVavXoPhIRkfyF61QYlRznsn10crwHqxEx3EjEYDBArVYjMDAQ0dHRiI6OxhNPPIHjx49j3759AMQL4H3yySd44oknHLYdOXIkJk6ciNatW+Pvf/87kpOT8dZbbwEAVq9eDT8/P3z44Yfo1KkT2rVrh+XLlyM7Oxtbt2719G4SEZGXKLVWIrewDHlF5W49TaRSKjE2JQEJ4dUvgDsqKQ4JEZ6/MK5PXcRP7mJiYvDAAw9g2bJluOuuu/Df//4X5eXlGDlypMN6KSkp1Z4fPHgQAHDgwAGcOnUKwcHBDuuUl5fbT20REVHjUWmrwrmCUrz1/UlsO3EZugB/PNEjEYM6xbhtmnZsiBafTuqO3WcKsD7zAoIC/DGuewJaGXUIC6rdhXTdgeHGy0ycOBFjxozBG2+8geXLl2P06NG3dTuI6+czq6qqkJSUhFWrVlVbJzIy0u31EhGRdzuTX4Khb/+AsgobAOBqaQXmfXUU3/6SizcfuRORwe4JODEhWozoGocBHaPh7+cHdQ3jcBoaw42E1Go1bDabw7JBgwYhKCgIS5YswTfffIPt27dX227Pnj0YO3asw/M777wTANC1a1esWbMGUVFR0Ov1DbsDRETk1YrKK/DPTb/ag83v7T5zBWfyS9wWbq4LVEsfLTjmRkIJCQnYu3cvzp49i/z8fFRVVUGpVGL8+PGYNWsWWrZsWe0UFAB89tlnWLZsGU6cOIGXXnoJ+/btwzPPPAMAeOyxxxAREYGhQ4dix44dyMrKwrZt2/Dcc8/h/Pnznt5FIiKSUFF5Jb7/Nc9l+8afTR6sxnMYbiQ0Y8YMKJVKtG/fHpGRkfarMU+YMAFWq7XaQOLr5s2bh9WrV6Nz585YuXIlVq1ahfbt2wMQ78a9fft2NG3aFCNGjEC7du3wxBNPoKysjD05RESNjEIBaPyVLtuDNNL3sjQEee6Vj2jdujV2795dbbnJZIK/v7/Dqaffi42NxbfffuvydaOjo7Fy5Uq31UlERA2rvMIGc3kF/P38EBakdtvrhgdp8IfkOHy8+5zT9sFdYt32Xt6E4caLWCwW5OTkYM6cORg1ahSMRqPUJRERUQOqtFUh50op3t9+BjtO5cOgVeGp3i2Q0jwckcH1n2Wk9vfD5F7Nsf3EZZwrKHVoe/relogxeP6mlp7AcONFPv30U0yYMAF33HEHPv74Y6nLISKiBnb6cjGGvbPLPuD3/NUyTPk0E0O6xGDukA5umUbdJDQQqyd1x/5zV/HVoYsIDVThsbuboVlYIEIC3ddL5E0YbrzI+PHjMX78+BrX8fT9OYiIqGEUllXg7/895nQm04ZDJjzZq4XbrhETE6LFkBAtBnaMhlKhgJ+fZ2+H4GkcUExERCQBc1kFdp7Kd9le0yynulIp/WQfbACGGyIiIkn4KQBlDUFDreQhuq74L0dERCSBkEA1+ndwPXGkX7soD1YjLww3REREEgjS+OPF/m0Rqas+ruaZPi0Rpff8PZnkggOKiYiIJJIQEYQvnk7Fd0cvYfPRS4jQqTE+NREtIoNg0MpzJpMnMNxQNQkJCZg6dSqmTp0qdSlERLIXFxqIcakJGJkcD5VS2htOygXDjUzce++9uOOOO7Bw4cJ6v9b+/fsRFBRU/6KIiOi2KBQK2d4KQQr8l2wgtioB+7KuIK+oHFHBAbgrMazGUfENTRAE2Gw2+Pvf+iOPjIz0QEVERL7DWlkFfz/5Xx9GLtj31QA2HTHhnte+xyMf7MFzqw/ikQ/24J7XvsemIw1z99Xx48dj27ZtWLRoERQKBRQKBVasWAGFQoHNmzcjOTkZGo0GO3bswOnTpzF06FAYjUbodDp069YN3333ncPrJSQkOPQAKRQKfPjhhxg+fDgCAwPRqlUrbNiwoUH2hYjIm5y/WopVe8/hT6sO4G8bjuCoyYyi8gqpy6JbYLhxs01HTPjTJz/BVFjusDy3sBx/+uSnBgk4ixYtQkpKCiZNmgSTyQSTyYT4+HgAwIsvvoj09HQcO3YMnTt3RnFxMQYNGoTvvvsOmZmZ6N+/PwYPHmy/I7kr8+bNw6hRo/Dzzz9j0KBBeOyxx3DlyhW37wsRkbfIyi/G8Hd2YfYXR/C/Y3n4ZE82Bi3agfWZF1BiqZS6PKoBw40b2aoEzPvqKJzdIOH6snlfHYWtyr23UDAYDFCr1QgMDER0dDSio6OhVIq3uH/55Zdx//33o0WLFggPD0eXLl3w1FNPoVOnTmjVqhVeeeUVNG/e/JY9MePHj8cjjzyCli1b4h//+AdKSkqwb98+t+4HEZG3KCqvwN+/OorLxZZqbX/b8AsuF1VfTt6D4caN9mVdqdZj83sCAFNhOfZlea7HIzk52eF5SUkJXnzxRbRv3x4hISHQ6XT49ddfb9lz07lzZ/v/BwUFITg4GHl57r80OBGRN7haWoEtJy47bRMEYK8H/45T7XFAsRvlFbkONnVZzx1unvX0wgsvYPPmzZg/fz5atmwJrVaLP/zhD7BarTW+jkqlcniuUChQVVXl9nqJiLyBrUpATfcpLrPytJQ3Y7hxo6jgALeuVxtqtRo2W/U7y95sx44dGD9+PIYPHw4AKC4uxtmzZ91eDxGRL9MH+KN9jB5HTWan7d2bh3u4IqoNnpZyo7sSwxBjCICriYIKADEGcVq4uyUkJGDv3r04e/Ys8vPzXfaqtGzZEuvWrcPBgwdx6NAhPProo+yBISK6SbhOg1eGdYS/k6nfw+6IhVHv/i+p5D4MN26k9FPgpcHtAaBawLn+/KXB7RvkejczZsyAUqlE+/btERkZ6XIMzRtvvIHQ0FCkpqZi8ODB6N+/P7p27er2eoiIfF2HWD2+evYe9O8QjdBAFVpG6TD/D50x+4H2CA3irRG8mUIQajqrKD9msxkGgwGFhYXQ6/UObeXl5cjKykJiYiICAuqeyjcdMWHeV0cdBhfHGALw0uD2GNAxps6v60vc9W9JRCS1YksFissr4e/nh4hg3sxSKjUdv2/GMTcNYEDHGNzfPtqrrlBMRER1o9OooNOobr0ieQ2Gmwai9FMgpQUHnBEREXkax9wQERGRrDDcEBERkaww3BAREZGscMwNERH5pCslVuQXW5BdUIownRqxhgBEG7RSl0VegOGGiIh8Tm5hOWau/Rlbf3f/p2h9AFY+0Q1tomueJkzyx9NSRETkU8qslXjzfyccgg0A5JrL8diHe3HxWplElZG3YLghIiKfkl9sxecHLrhsO1dQ4uGKyNsw3BAA8d5UCxculLoMIqJbKq+wwWpzfU+88+y5afQYboiIyKcEapTQB7geMtoqUufBasgbMdw0lCobkLUDOPy5+N8qm9QVERHJQlRwAP50bwunbW2jg9EklDOmGjuGm4ZwdAOwsCOw8kFg7QTxvws7issbwHvvvYcmTZqgqsqxm3bIkCEYN24cTp8+jaFDh8JoNEKn06Fbt2747rvvGqQWIqKGplL6YVRyPKbd3xpalRIAoFAAfdpE4sNxyYgM5s16GzuGG3c7ugH4z1jAfNFxudkkLm+AgDNy5Ejk5+djy5Yt9mVXr17F5s2b8dhjj6G4uBiDBg3Cd999h8zMTPTv3x+DBw9Gdna222shIvKEcJ0Gf+rdHBnTeuGb53ri++d7Y9HDdyIuNFDq0sgLMNy4U5UN2PQXAIKTxt+WbZrp9lNUYWFhGDBgAP7973/bl3322WcICwtDv3790KVLFzz11FPo1KkTWrVqhVdeeQXNmzfHhg0N05NEROQJan8l4sIC0S5Gj8QIHfRa3rmbRAw37nRuV/UeGwcCYL4grudmjz32GNauXQuLxQIAWLVqFR5++GEolUqUlJTgxRdfRPv27RESEgKdTodff/2VPTdERCRLDDfuVHzJvevVwuDBg1FVVYWvv/4aOTk52LFjB/74xz8CAF544QWsXbsW//d//4cdO3bg4MGD6NSpE6xWq9vrICIikhpvv+BOOqN716sFrVaLESNGYNWqVTh16hRat26NpKQkAMCOHTswfvx4DB8+HABQXFyMs2fPur0GIiIib8Bw407NUgF9rDh42Om4G4XY3iy1Qd7+sccew+DBg/HLL7/Ye20AoGXLlli3bh0GDx4MhUKBOXPmVJtZRUREJBc8LeVOfkpgwGu/PVHc1Pjb8wGvius1gL59+yIsLAzHjx/Ho48+al/+xhtvIDQ0FKmpqRg8eDD69++Prl27NkgNREQAkFdUjp+yr2L1vmzsOHEZF6+VQRCcfekjcj+F0Mh+2sxmMwwGAwoLC6HXO945try8HFlZWUhMTERAQD2uk3B0gzhr6veDi/VNxGDTfkjdX9eHuO3fkoh8zoWrZZiwcj9+zS2yLwsLUuOTCXejXUwwFIqbv/wR3VpNx++b8bRUQ2g/BGj7gDgrqviSOMamWWqD9dgQEXkLc1kF5qw/7BBsAOBKiRXjlu/Dhmd6IMbAKwhTw2K4aSh+SiCxp9RVEBF5VEGJFVtOXHbadrnIgovXyhluqMFxzA0REbmNpcKGmgY7FBRbPFcMNVoMN0RE5Da6AH8EqV2fgm8WHuTBaqixYrhxopGNsW4Q/DckapyMeg2e7tPSadu9rSMRFazxcEXUGHHMze+oVOJ9SUpLS6HV8pxwfZSWlgK48W9KRI2DSqnE6G7x0KiUePN/J1FYVgGNvx/+kBSHZ/u2QmiQWuoSqRFguPkdpVKJkJAQ5OXlAQACAwM5ZbGWBEFAaWkp8vLyEBISAqWSM8SIGptwnQbjU5phYMdolForofFXIjJYgwAV/x6QZzDc3CQ6OhoA7AGH6iYkJMT+b0lEjY9S6YfYEPaAkzQYbm6iUCgQExODqKgoVFRUSF2OT1KpVOyxISIiyUgebhYvXozXX38dJpMJHTp0wMKFC9Gzp+vrw7zzzjt4++23cfbsWTRt2hSzZ8/G2LFj3V6XUqnkAZqIiMgHSRpu1qxZg6lTp2Lx4sXo0aMH3nvvPQwcOBBHjx5F06ZNq62/ZMkSzJo1Cx988AG6deuGffv2YdKkSQgNDcXgwYMl2AMiIiLyNpLeW+ruu+9G165dsWTJEvuydu3aYdiwYUhPT6+2fmpqKnr06IHXX3/dvmzq1Kn48ccfsXPnztt6z9rcm4KIiIi8Q22O35Jd58ZqteLAgQNIS0tzWJ6WloZdu3Y53cZisVS7CaNWq8W+fftcjo+xWCwwm80ODyIiIpIvycJNfn4+bDYbjEajw3Kj0Yjc3Fyn2/Tv3x8ffvghDhw4AEEQ8OOPP2LZsmWoqKhAfn6+023S09NhMBjsj/j4eLfvCxEREXkPya9QfPN1ZARBcHltmTlz5mDgwIHo3r07VCoVhg4divHjxwOAy8G/s2bNQmFhof2Rk5Pj1vqJiIjIu0gWbiIiIqBUKqv10uTl5VXrzblOq9Vi2bJlKC0txdmzZ5GdnY2EhAQEBwcjIiLC6TYajQZ6vd7hQURERPIlWbhRq9VISkpCRkaGw/KMjAykpqbWuK1KpUJcXByUSiVWr16NBx98EH5+kndCERERkReQdCr49OnTMWbMGCQnJyMlJQXvv/8+srOzMXnyZADiKaULFy7go48+AgCcOHEC+/btw913342rV69iwYIFOHLkCFauXCnlbhAREZEXkTTcjB49GgUFBXj55ZdhMpnQsWNHbNy4Ec2aNQMAmEwmZGdn29e32Wz417/+hePHj0OlUqFPnz7YtWsXEhISJNoDIiLfVGGzocxahQCVEmp/9nyTvEh6nRsp8Do3RNSYWSttyLlSho/3nMXP581oGRWEx3skollYIAI1kl+0nsil2hy/+ZNMRNSIZGZfwx+X7kWFTfxe+1P2VXx24DzeebQr7msfBTVvO0MywL5IIqJG4lJhOaauOWgPNtcJAvDCZ4dw2WyRqDIi92K4ISJqJK6UWmEqLHfaVmK1IddFG5GvYbghImokqm4xxNLWuIZgkowx3BARNRJhQWpE6NRO2zT+fogJ0Xq4IqKGwXBDRNRIGIMD8NpDneHsDjdzB3dAlE7j+aKIGgBnSxERNRJ+fgqktAjHf5+9B+9sOYWjF81IiAjC031aoo0xGBoVZ0qRPDDcEBE1IoFqf3SINWD+H7qgxFoJrcofugAeCkhe+BNNRNQIBWr8edE+ki2OuSEiIiJZYbghIiIiWWG4ISIiIllhuCEiIiJZYbghIiIiWWG4ISIiIllhuCEiIiJZYbghIiIiWWG4ISIiIllhuCEiIiJZYbghIiIiWeGNRYiIvMjVUisKii0oLKuAQatCeJAGoUFqqcsi8ikMN0REXuLitTLM+OwQdp0usC/r3jwMC0bdgdgQrYSVEfkWnpYiIvIC10qt+Mvanx2CDQDsOXMFL3x+CFdLrBJVRuR7GG6IiLxAQbEVO07mO2374VQBChhuiG4bww0RkRcoKq+oVzsR3cBwQ0TkBfRaVb3aiegGhhsiIi8QrlOjb5tIp233to5EBGdMEd02hhsiIi9g0KrxfyM6oV+7KIflfdtEIv2hTjAEMtwQ3S5OBSci8hIxBi0WjLoDBcUWmMsroQ/wR7hOAwNPSRHVCsMNEZEXMWhVDDNE9cTTUkRERCQrDDdEREQkKww3REREJCsMN0RERCQrDDdEREQkKww3REREJCsMN0RERCQrDDdEREQkKww3REREJCsMN0RERCQrDDdEREQkKww3REREJCsMN0RERCQrDDdEREQkKww3REREJCv+UhdAROQr8szlyDWXI89sQWyIFlF6DSJ0GqnLIqKbMNwQEd2GcwUleHz5fpzJL7Ev6xxnwJI/JqFJiFbCyojoZjwtRUR0C5eLLJi48keHYAMAP58vxMy1P6OwzCpRZUTkDMMNEdEt5BdbcDKv2GnbjpP5KChmuCHyJgw3RES3UFhaUWN7ibXSQ5UQ0e1guCEiuoXIYNeDhv39FNAHqDxYDRHdCsMNEdEthOvU6NMm0mnbqOR4RHLGFJFXYbghIrqFkEA10kd0xrA7YqH0UwAA1Eo/jE1phqn3t0KghhNPibyJQhAEQeoiPMlsNsNgMKCwsBB6vV7qcojIh5RYKnG5yIKyChuCNP6I1KmhVTPYEHlCbY7f/K0kIrpNQRp/BLGXhsjr8bQUERERyQrDDREREckKww0RERHJCsMNERERyQrDDREREcmK5OFm8eLFSExMREBAAJKSkrBjx44a11+1ahW6dOmCwMBAxMTE4PHHH0dBQYGHqiUiIiJvJ2m4WbNmDaZOnYrZs2cjMzMTPXv2xMCBA5Gdne10/Z07d2Ls2LGYMGECfvnlF3z22WfYv38/Jk6c6OHKiYiIyFtJGm4WLFiACRMmYOLEiWjXrh0WLlyI+Ph4LFmyxOn6e/bsQUJCAqZMmYLExETcc889eOqpp/Djjz96uHIiIiLyVpKFG6vVigMHDiAtLc1heVpaGnbt2uV0m9TUVJw/fx4bN26EIAi4dOkSPv/8czzwwAMu38discBsNjs8iIiISL4kCzf5+fmw2WwwGo0Oy41GI3Jzc51uk5qailWrVmH06NFQq9WIjo5GSEgI3nrrLZfvk56eDoPBYH/Ex8e7dT+IiIjIu0g+oFihUDg8FwSh2rLrjh49iilTpuBvf/sbDhw4gE2bNiErKwuTJ092+fqzZs1CYWGh/ZGTk+PW+omIiMi7SHaTlIiICCiVymq9NHl5edV6c65LT09Hjx498MILLwAAOnfujKCgIPTs2ROvvPIKYmJiqm2j0Wig0WjcvwNERETklSTruVGr1UhKSkJGRobD8oyMDKSmpjrdprS0FH5+jiUrlUoAYo8PERERkaSnpaZPn44PP/wQy5Ytw7FjxzBt2jRkZ2fbTzPNmjULY8eOta8/ePBgrFu3DkuWLMGZM2fwww8/YMqUKbjrrrsQGxsr1W4QERGRF5HstBQAjB49GgUFBXj55ZdhMpnQsWNHbNy4Ec2aNQMAmEwmh2vejB8/HkVFRXj77bfx/PPPIyQkBH379sVrr70m1S4QERGRl1EIjex8jtlshsFgQGFhIfR6vdTlEJGbWCttyCuywFpZBa1aCWNwAPz8nE9OICLfU5vjt6Q9N0RE7nDJXI4Ptp/Bqr3ZKKuwITxIjan3tcIDnWMQFsQJBUSNDcMNEfm0qyVW/L/1R5Bx9JJ9WUGJFXO+/AVlVhsevycBqt8mHhBR4yD5dW6IiOojv9jiEGx+783vTyHPbPFwRUQkNYYbIvJpZwtKXLYVWyphLq/0YDVE5A0YbojIp4UGqmtsD/Dnnzmixoa/9UTk02JDtIjQOQ84PVtFIEzHAcVEjQ3DDRH5tBhDAFY8fhf0Wsf5EYkRQfjH8E4waFUSVUZEUuFsKSLyaQqFAh1i9fhmSi/8mmtG9pVStI/RIyEiCEZ9gNTlEZEEGG6IyOcpFAo0CdWiSahW6lKIyAvwtBQRERHJSr3CjdVqxfHjx1FZyamWRERE5B3qFG5KS0sxYcIEBAYGokOHDvabW06ZMgWvvvqqWwskIiIiqo06hZtZs2bh0KFD2Lp1KwICbgzYu++++7BmzRq3FUdERERUW3UaULx+/XqsWbMG3bt3h0Jx46677du3x+nTp91WHBEREVFt1ann5vLly4iKiqq2vKSkxCHsEBEREXlancJNt27d8PXXX9ufXw80H3zwAVJSUtxTGREREVEd1Om0VHp6OgYMGICjR4+isrISixYtwi+//ILdu3dj27Zt7q6RiIiI6LbVqecmNTUVu3btQmlpKVq0aIFvv/0WRqMRu3fvRlJSkrtrJCIiIrptte65qaiowJNPPok5c+Zg5cqVDVETERERUZ3VuudGpVLhiy++aIhaiIiIiOqtTqelhg8fjvXr17u5FCIiIqL6q9OA4pYtW+Lvf/87du3ahaSkJAQFBTm0T5kyxS3FEREREdWWQhAEobYbJSYmun5BhQJnzpypV1ENyWw2w2AwoLCwEHq9XupyiIiI6DbU5vhdp56brKysOhVGRERE1NDqdVdwABAEAXXo/CEiIiJqEHUONx999BE6deoErVYLrVaLzp074+OPP3ZnbURERES1VqfTUgsWLMCcOXPwzDPPoEePHhAEAT/88AMmT56M/Px8TJs2zd11EpEPyzOX43KxBeayChj1AQjXqWHQqqUui4hkqs4DiufNm4exY8c6LF+5ciXmzp3r1WNyOKCYyLNO5RVj4sr9OFtQal82qGM05g7pgCh9gISVEZEvqc3xu06npUwmE1JTU6stT01NhclkqstLEpEMmQrLMGbpXodgAwAbj+TinS2nUF5hk6gyIpKzOoWbli1b4j//+U+15WvWrEGrVq3qXRQRyUPOlVKYCsudtq3en4PLRRYPV0REjUGdxtzMmzcPo0ePxvbt29GjRw8oFArs3LkT//vf/5yGHiJqnM5fLXPZZqmsYs8NETWIOvXcPPTQQ9i7dy8iIiKwfv16rFu3DhEREdi3bx+GDx/u7hqJyEclRAS5bAtSK6FVKz1YDRE1FnXquQGApKQkfPLJJ+6shYhkJi5EixaROpy+XFytbWLPRBj1GgmqIiK5q1PPzcaNG7F58+Zqyzdv3oxvvvmm3kURkTxE6QOw4vFuuCsx1L5MrfTDxHsSMaZ7AlRK9twQkfvVqedm5syZePXVV6stFwQBM2fOxMCBA+tdGBHJQ3xYIN77YzKulFhRarUhJFCFCJ0aWnWdO46JiGpUp78uJ0+eRPv27astb9u2LU6dOlXvoohIXkKD1AgN4kX7iMgz6nRaymAwOL3z96lTpxAU5HoAIREREVFDq1O4GTJkCKZOnYrTp0/bl506dQrPP/88hgwZ4rbiiIiIiGqrTuHm9ddfR1BQENq2bYvExEQkJiaibdu2CA8Px/z5891dIxEREdFtq9OYG4PBgF27diEjIwOHDh2CVqtFly5d0LNnT3fXR0RERFQrteq52bt3r32qt0KhQFpaGqKiojB//nw89NBDePLJJ2Gx8HLqREREJJ1ahZu5c+fi559/tj8/fPgwJk2ahPvvvx8zZ87EV199hfT0dLcXSURERHS7ahVuDh48iH79+tmfr169GnfddRc++OADTJ8+HW+++SbvLUVERESSqlW4uXr1KoxGo/35tm3bMGDAAPvzbt26IScnx33VEREREdVSrcKN0WhEVlYWAMBqteKnn35CSkqKvb2oqAgqlcq9FRIRERHVQq3CzYABAzBz5kzs2LEDs2bNQmBgoMMMqZ9//hktWrRwe5FEREREt6tWU8FfeeUVjBgxAr1794ZOp8PKlSuhVt+4pPqyZcuQlpbm9iKJiIiIbpdCEAShthsVFhZCp9NBedMdfa9cuQKdTucQeLyN2WyGwWBAYWEh9Hq91OUQERHRbajN8bvOF/FzJiwsrC4vR0REROQ2dbr9AhEREZG3YrghIiIiWWG4ISIiIllhuCEiIiJZYbghIiIiWanTbCkiko+8onJcKbaitMKG8CA1woPU0AXwSuNE5LsYbogasVN5RXjq4wM4fbkEAKD0U+DRu5tiSt9WiAzWSFwdEVHd8LQUUSNlulaGRz7Yaw82AGCrEvDx7nP4dF82Km1VElZHRFR3DDdEjdTJvGJcLrI4bftwxxnkuWgjIvJ2DDdEjdSpvGKXbebySpRX2DxYDRGR+zDcEDVSrYw6l216rT8CVEqX7URE3kzycLN48WIkJiYiICAASUlJ2LFjh8t1x48fD4VCUe3RoUMHD1ZMJA8tI3Uw6p0PGp7cqwWiOKCYiHyUpOFmzZo1mDp1KmbPno3MzEz07NkTAwcORHZ2ttP1Fy1aBJPJZH/k5OQgLCwMI0eO9HDlRL4vJkSLTyd1RxtjsH2Zv58CE+5JxKhu8fBXSv7dh4ioThSCIAhSvfndd9+Nrl27YsmSJfZl7dq1w7Bhw5Cenn7L7devX48RI0YgKysLzZo1u633rM0t04kag/xiCwqKrSirsCEsUIUInQaBGl4lgoi8S22O35L9BbNarThw4ABmzpzpsDwtLQ27du26rddYunQp7rvvvhqDjcVigcVyY9aH2WyuW8FEMhWh0yBCx1NQRCQfkvU75+fnw2azwWg0Oiw3Go3Izc295fYmkwnffPMNJk6cWON66enpMBgM9kd8fHy96iYiIiLvJvlJdYVC4fBcEIRqy5xZsWIFQkJCMGzYsBrXmzVrFgoLC+2PnJyc+pRLREREXk6y01IRERFQKpXVemny8vKq9ebcTBAELFu2DGPGjIFara5xXY1GA42GXe5ERESNhWQ9N2q1GklJScjIyHBYnpGRgdTU1Bq33bZtG06dOoUJEyY0ZIlERETkgySdEjF9+nSMGTMGycnJSElJwfvvv4/s7GxMnjwZgHhK6cKFC/joo48ctlu6dCnuvvtudOzYUYqyiYiIyItJGm5Gjx6NgoICvPzyyzCZTOjYsSM2btxon/1kMpmqXfOmsLAQa9euxaJFi6QomYiIiLycpNe5kQKvc0NEROR7anP8lny2FBEREZE7MdwQERGRrDDcEBERkaww3BAREZGsMNwQERGRrDDcEBERkaww3BAREZGsMNwQERGRrDDcEBERkaww3BAREZGsMNwQERGRrDDcEBERkaxIeldwIqqZuawCBSVWWCttCA5QwagPgNJPIXVZRERejeGGyEtlXynF7C8OY8fJfABAWJAaswa2xf3tjQgJVEtcHRGR9+JpKSIvlFtYhkc/2GMPNgBwpcSKFz7/GbtOF0hYGRGR92O4IfJCxy8V4fzVMqdt6d8cQ5653MMVERH5DoYbIi/007mrLttyrpShvLLKg9UQEfkWhhsiL9QsPMhlmz7AH/4cVExE5BLDDZEX6pYQhgCV81/PJ+5JRFSwxsMVERH5DoYbIi8UYwjAxxPuRrDGcULjgA5GPHpXU/gr+atLROQKp4ITeSF/pR/ujA/Bpmm9cDa/BFdLrWhtDEakToPQIE4DJyKqCcMNkZfyV/qhSYgWTUK0UpdCRORT2LdNREREssJwQ0RERLLCcENERESywnBDREREssJwQ0RERLLCcENERESywnBDREREssJwQ0RERLLCcENERESywnBDREREssJwQ0RERLLCcENERESywnBDREREssJwQ0RERLLCcENERESy4i91AUS+yFxegdzCcmw4eBEFJVYM6GBE2xg9jPoAqUsjImr0GG6IaqmovAKfHziPl786al/26b5stI0OxvLx3RATopWwOiIi4mkpolrKLSx3CDbX/ZpbhGU/ZMFaaZOgKiIiuo7hhqiWNh42uWz7995sFJRYPVgNERHdjOGGqJaulla4bCutsEEQPFgMERFVw3BDVEtp7Y0u21JbhCNIw6FsRERSYrghqqWWUTp0bqKvtlylVOCvg9rBoFVJUBUREV3HcENUS1H6ALw/thue6dMSeq0//BRAz1YR+PLpHmgVpZO6PCKiRk8hCI1rhIDZbIbBYEBhYSH0+urfvoluV6WtCvnFVgiCgCCNP/TssSEiajC1OX5zcABRHfkr/RBt4EX7iIi8DU9LERERkaww3BAREZGsMNwQERGRrDDcEBERkaww3BAREZGsMNwQERGRrDDcEBERkaww3BAREZGsMNwQERGRrDDcEBERkaww3BAREZGs8N5SJDuVtirkFVmQay6HpcKGJiFahOs0CNLwx52IqDHgX3uSFWulDT+eu4o/ffITCssqAAD+fgr8uU9LPJ7aDKFBGokrJCKihib5aanFixcjMTERAQEBSEpKwo4dO2pc32KxYPbs2WjWrBk0Gg1atGiBZcuWeaha8nYXr5Vj/LL99mADAJVVAt7830nsOl0gYWVEROQpkvbcrFmzBlOnTsXixYvRo0cPvPfeexg4cCCOHj2Kpk2bOt1m1KhRuHTpEpYuXYqWLVsiLy8PlZWVHq6cvNXXh02w2qqctr3x3UncnRiOiGD23hARyZmk4WbBggWYMGECJk6cCABYuHAhNm/ejCVLliA9Pb3a+ps2bcK2bdtw5swZhIWFAQASEhI8WTJ5MUEQcMxkdtmec6UUFS6CDxERyYdkp6WsVisOHDiAtLQ0h+VpaWnYtWuX0202bNiA5ORk/POf/0STJk3QunVrzJgxA2VlZS7fx2KxwGw2OzxInhQKBbolhLlsbxMdDI1K6cGKiIhICpKFm/z8fNhsNhiNRoflRqMRubm5Trc5c+YMdu7ciSNHjuCLL77AwoUL8fnnn+Ppp592+T7p6ekwGAz2R3x8vFv3g7xL37ZR0LmYFfXigDYIC1J7uCIiIvI0yQcUKxQKh+eCIFRbdl1VVRUUCgVWrVqFu+66C4MGDcKCBQuwYsUKl703s2bNQmFhof2Rk5Pj9n0g79EkRIs1T3VHi8gg+zK91h/zR3ZB5yYh0hVGREQeI9mYm4iICCiVymq9NHl5edV6c66LiYlBkyZNYDAY7MvatWsHQRBw/vx5tGrVqto2Go0GGg0HkDYWfn4KdIg1YPWTKbhSYkWlrQqhQWoYgzVQKiXP8kRE5AGS/bVXq9VISkpCRkaGw/KMjAykpqY63aZHjx64ePEiiouL7ctOnDgBPz8/xMXFNWi95FsigzVoEx2MDk0MiA3RMtgQETUikv7Fnz59Oj788EMsW7YMx44dw7Rp05CdnY3JkycDEE8pjR071r7+o48+ivDwcDz++OM4evQotm/fjhdeeAFPPPEEtFqtVLtBREREXkTSqeCjR49GQUEBXn75ZZhMJnTs2BEbN25Es2bNAAAmkwnZ2dn29XU6HTIyMvDss88iOTkZ4eHhGDVqFF555RWpdoGIiIi8jEIQBEHqIjzJbDbDYDCgsLAQer1e6nKIiIjoNtTm+M2BCERERCQrDDdEREQkKww3REREJCsMN0RERCQrDDdEREQkKww3REREJCsMN0RERCQrDDdEREQkKww3REREJCsMN0RERCQrkt5bihqnS4XlKCi1wlZVhbAgDYzBGvjzrt1EROQmDDfkMRWVVfj5/DU8+2kmLhaWAwD0Af6YN7QD+rUzQh+gkrhCIiKSA35dJo+5cK0Mj3641x5sAMBcXolpaw7huKlIwsqIiEhOGG7IIwRBwBeZF2CprHLa/q+M4zCXVXi4KiIikiOGG/IIa2UVDuVcc9l+8lIxSq02zxVERESyxXBDHqFS+qFdjN5le0JEEAJU/HEkIqL649GEPMLPT4E/JMfB30/htH3afa0REqj2cFVERCRHDDfkMXEhWix/vBtCAm/MitL4+2HukPbo2MR1rw4REVFtcCo4eYxGpURK83BsnNITl4ssqKyqQpQ+AJE6DQJUSqnLIyIimWC4IY/yV/ohNkSL2BCt1KUQEZFM8bQUERERyQp7bsiu1FKJy8UWHL5QiMoqAV2aGBARrEEwrxxMREQ+hOGGAADmsgp8kXkBL//3KGxVAgBAoQD+3LslJvZMRGgQZzIREZFv4GkpAgCcLSjBSxt+sQcbABAE4J2tp/DzhWvSFUZEJCWbDSg8D+QdBa6cAcrNUldEt4E9NwRrZRWW7sxy2f7OllO4Mz4Uei1PTxHRbRIEoMgEVJYDShWgixb/60tKrwBH1gJb/g8ouyp2Z7dKAwbNB0KaSl0d1YDhhmCptOHC1TKX7bmFFlgqbQB87A8TEUmj9ApwYjPw/cuA+SKgCQbuegq4axIQHC11dbdHEIDjG4GNMxyXndgs9uCM+woIjpGuvrooNwOWIjGkBUUBSvlGAPnuGd22QJUSqS3C8eO5q07buyWEQhfAHxUi2SjOAwovAFezAEMTwNAU0LvpQG2rBA5/Dnzzwo1lliJgx3wg/yQweBEQGOqe92pIRSbg+787b8s/CRSc8Z1wU2kVa/7ub8CZrWLY7DYJSH4c0MdKXV2D4BGLoFT64aGkOCzdmYWSm25eqVIqMLl3C2hV/FEhkoVr2cCnjwCXjtxYFtIM+ONaIKJV/V+/yARsecV527Evgb6zfSPcVJQCRbmu2y8eBBJ6eKycesk/DnzQF7BZxedlV4Ht/wROZQCPrHZfb1pFmRiciy8BSjUQFCkGQD/PD+/lgGICAMSFBuKzyanoHGewL2sVpcPqJ1PQLDxQwsqIyG3KrgLr/+wYbADg2jng04eBokv1fw9LIVBe6Lq94FT93+Nmtkr3v6ZSA6hq+NsXmuD+92wIZYXAt3NuBJvfu5gJXD7unvcpvQLsfR94pxuw9H7g/d7iI2cPYKtwz3vUAr+OEwBA6adA+1g9VjzeDddKKyAIgCFQhQidRurSiG5PRbn4jdFmEQ9KuhhAydt6OCjJB87ucN5WcEr89ws21u89lAE1t2vd2GtzLRs4mQGc/h8QmgjcOQYIiQPUuvq/ti4KSBoP7FlcvU0TDMR0qv97eIK1CMja6rr92FdA8971f5/sPeJpr98ruQx8PAz48x4grHn936MWGG58yNVSKwpLxQRsCFQhtAHuoh0WpEFYkAwCTUU5UJoPCFXiHyJ3/kEl71OUC2z/F5D5kTg7RxsK9H4R6DQKCIqQujrvYS2pub3M+bi7WgkKBxJ7AVnbq7cFhrlvltHlE8Dy/mKPwXV73gGGfwC0exBQ1fMWL/4aoMcUcazKqYwby7Wh4ik8fZP6vb6nKPzEsGcpct4eGFb/9yjJF2eUOVNpAX75Eug5rf7vUwsMNz6g0laFE5eKMXv9YWRmXwMA3Nk0BP83rBNaG3XwV/LsooNrOcD2+cDPn4q/WM3uAQakA5FtAX9ejFB2Sq8AG6YAJzffWFZ2Fdg0Swy5qc/63hTkhqINEf8tXJ0mcMegYm0oMOQt4KOhwNWzN5ardcCjnwHBbhjAWnoV+GqKY7ABxNlMX/4JiO/mntNGwTHA8PfEHq3Lv4pBOTRRDDbuHEdSkg+YL4iniQIjgOhO4mehdMPfq6BIoOt4YPdbzts7DK//e1RaxBlkrpgygaoqj469YbjxAeevluGhJbtQVnFjsG9m9jX84d1d2DilJxIigiSszssUXgA+GuL4i3ZuJ/BhX+DJbYCxg3S1UcMoznMMNr+3419Apz+4r7egOE8cMFucJ84y0UWJBw9foYsCkicAe9+t3tZmkPv2JTQBePwbIP8EcOEn8ZREk67uCwVlV4Ds3c7bbBVA7mH3jYkJChcfxvbueb2bFeUC6/8EnP7+xjL/AOCRT8UvZvX9QqZUAd1/e/28Xxzb7v+7e2ZL+QcAEa0B00Hn7XHdPD6omOHGy1krbfh4zzmHYHNdqdWGVXvP4cUBbaDi2ALR+R+df4OwVQD/+zsw4n0gQO/5uqjh1PSN0Vpc8+DWWr1Pljjo9vKvN5bF3QWMXA4Y4tzzHgBQdk08pVpuFn9WAyMBreGWm90WVSDQ83nxYLTvPXF2i1IFdH4Y6DPbvadv9bHio/m97nvN66puMYD4VqffvIWtQhyE+/tgA4inVv89Gnh6HxCWWP/3MTQRT6VdOgIc/VLsgeo0SgybAW742QoKB/r9DfhkRPU2VSDQdnD936OWGG68XLGlErtPF7hs33W6AMXlNoQGMdxAEMSppq5kbRXPOzPcyEtgeM3t9R17AYg9NWsecww2AHB+H7DhOeAPS8VTPvVlvgj8dzpw4psby1oPBB78l/vGeOiigD5/BZKfEMOfOkhcVtPMIG8TYBBPD111cWX1Jl09W09dFV8C9r/vvM1mFQd/uyPcAOJpLn0M0Op+97zezZokAQ++Ic7MshaLy0KaAn9wc/i/TQw3Xk7j74eIYDVgct4eGayB2p9jbgCIV93U1XC9Bm0o4McQWE1lOVB8WfwWqQ6q/2wZTwuJA3RG8UBxsxb9xJ6P+iq5DFz6xXnb6e/EMRP1DTdl14D/TgNObHJcfuIb4KtKYMQH7utZ8dcAoc3c81pSCI4GHlwIfDJM/FLze0mPi1ff9QVVla4H+gLi+EFfoQ0RZ6u1vF/sefRTiT06El3okEdFLxekUWFyrxYu25/q1QJBGmZUuzsfc91212Tf+aPnKeaLwOY5wNvJwFt3Asv6A79+LV4bw1cEx4pd7jfP+ohsAwxe6J5TOjcPXL3Z9W+q9VGSXz3YXHcyQ2ynG+K7ARO3iAE2wCB+3iPeFy8S6I5eNE9QBdZ84cRmqZ6rxR2UKiAkHoi9E4juKOkVnHlUdAdL0Y1vdn7+QFQ78SCqdk83b7tYPZ7p0xJvb3G8+NWzfVuibXSwW95DNvRxQNo/gG//6rg8oSfQZbQkV8qsM1ulOHi14LQ4+yeqrdhD4Y6pm4B4quU/48RTK9ddzQJWPwqM/gRo5/nz5HWiUADGjsBTO8TpwdfOiYM/Q5q578qruhpCsZ/SPeMWyq/dot2HAqcnqIOAJneKY54sxb/dnNPHvrzoosS/V/8eWb0tvIU4w5PqhOGmvkqvAPs/BLami9dUAcRfsgcWAO2HAwH1Dx+hgWo81as5RnRtgn1Z4jfIuxLDEKnTIJh36nakNQBdxwCt7gN+3SgeENoMFM9b+9IfPlslcH4/8O9RgMV8Y3m7IcCg191z0L6W7Rhsfm/zX8UZDr5yk0OFQjyv31Dn9oMixR6C0/+r3tblUff8bN1qLJiGY8WcCjC4J1xKpendwKiPgc2zgMLz4nVp2g4G+r/ivvt9NUIMN/VlOlj94kW2CmDDs0BMF/HhBsFaFYK1KjSPdMOVN71BVRUAoWHGwAToxUdkG/e/tqeYLwCfDBdns/zesQ3idPaeM+p/R9/z+123Xct2z6kWuQgMA4a+LV4759gG8YuMnz9wxx+BPrPEXoR6v0cEkHiv86vJJvTkxQjlKsAAtB8ifpmwFIlTvwMjAI1M/tZLhOGmPsquQdg+HwoXzcKeJVAMftN9F44rLRAvXgWIAwuDbjFLpE7vcUU8BSIIYi+Iu6/hUZIvXub9x+XijenueAyI7eI7d9f1lOzd1YPNdXsWiwP3DPWcPVNTr4xSJQ4IpBv0sWLAue8l8TSIJlg8Teim088IDAOGvQN88RRwdueN5c3uAYa/677TkeSd9DEA+HfQXRhu6sNmgcJ80WWz4upZcSZKfcONrVK8+NJXz4lXsASA2K7iYMmoDvX/Bg+IPSmXjwFfTb1xqiK6kzgjIbqzewJayWXgu3lA5sc3lh3bIA4+e/jf7rmYlFzUdO2W8kL33Igutqt4vZPK8uptHUcCOh+6OJ2naILFR0MxxImnKEoui18ytCHiF4xbTXcnIgc+NLrS+5QqAlERfafL9vImKahQuuEaG9fOibNYrgcbALj4E7BsgNjmDtff4/djMHIPA8sHur6WRG3ln3QMNtddzASOrP3tVBUBEC8O50pognuu3aKPAR5ZI04L/j1jJ3HGibuue1JlE6e0ntgs9tjl7Hc+bZtEgWHiKdWm3cUBpQw2RLXGnpt6KKlSo6rrszAe/1L8A/57qkBcaz0SOpsCqvr07ldagX3vOz9FUVEqDma+b179elaqbMCh1c6vt2CzAjsXAQ/8C1DX44BqqwT2fei6ff9S8YqZvnaNlYZyfbaPs/B63zz3/Dsp1eJU06f3Azl7xGnh8d3FwdfuGkhcVSWOS/t4uONsn5guYm+dBBf3IiL5Y89NPQQH+GOTKRB5w//jeDt3Y0eYRqzDznwttOp6Dpi1FAHnfnDdfnaneEv7+rCWOB/EeF3O7vq/h2ADKmoYoFpRemO2GYmn6MZ+CTTve2NZYDgw9B0gsbf73sdfLV7MrfNo4J5pQLMU986QMl8APh5RfRqz6dBvVzL1kcvkE5FPYc9NPQSolOjRNg7jPs3DlLuWo5XeBigUOJjvhw83F+L9sUYo/VwNN75N/prfrrp72Hl7cIw4bqK+76Gv4Ru0Lqr+d6f11wBdHhFPTTjTbggHTN4sLFG8hkfpFcBmEacCB0f71lWWC065vn7LsS+Bfi8BYbzxKxG5F8NNPTULC8RrD3XG/1t/BD+fF7+dpjQPw5uPdEV8qBvGRWh0wD1TgVMZztt7PFf/aaj+GqD7n4Ejnztvv+d591zxM/5uIKo9kHfUcbk2FEh5uvrYDxL/3X3laqvOFOe6bquyOR/MTERUTww39aTy90PnuBCsePwumMsqoFAAIYEqGLRumv4NiIGgz2xg6z9u3EdFoQDu/avY5g7hLYD+/wC+/X+Op4dSp4g3RHMHfSzw2OfAwVXAgeXiga3dUDGghSa45z3Iu9T08xkYxmt5EFGDUAjCzXcdkzez2QyDwYDCwkLo9T50xc9yszg9NGev+Dz+bnGKqDvvcG0pBkryxNksVRW/vUeUe+7N83s2m7gvqAK0YYCqnqfVpFR8WRxPFBDi2/vRUErygf+MAc7tqt724BtA13G+dZqNiCRTm+M3ww1RXRRdAk5+C+x5RwyerdKA1GfFHigerB2ZLwJbXwUOfSrOvguKBPr+P46zIqJaYbipAcMN1VvxZWD9n4FT3zouV+uASd/79m0fGoq1TOwVtFkAle63gdGcrElEt682x2/+dSGqrSunqwcbQLwX0//mOb9eUGOn1opTziNaA4ZYBhsialD8C0NUW0e/dN12/Jvq13QhIiKPYrghqq2ariukVAEub6VKRESewHBDVFsdRrhu6/wIB8kSEUmM4YaotkLixIsO3swQB/Sc7p6bWhIRUZ3xIn5EtaUNBXrOEKcy731PvL1A+2FAy368ESQRkRdguCGqi8AwoGl3ILYrUFUJqAOlroiIiH7DcENUH/5qAG681QYREdUbx9wQERGRrEgebhYvXozExEQEBAQgKSkJO3bscLnu1q1boVAoqj1+/fVXD1ZMRERE3kzScLNmzRpMnToVs2fPRmZmJnr27ImBAwciOzu7xu2OHz8Ok8lkf7Rq1cpDFRMREZG3kzTcLFiwABMmTMDEiRPRrl07LFy4EPHx8ViyZEmN20VFRSE6Otr+UCp5o0IiIiISSRZurFYrDhw4gLS0NIflaWlp2LVrV43b3nnnnYiJiUG/fv2wZcuWGte1WCwwm80ODyIiIpIvycJNfn4+bDYbjEajw3Kj0Yjc3Fyn28TExOD999/H2rVrsW7dOrRp0wb9+vXD9u3bXb5Peno6DAaD/REfH+/W/SAiIiLvIvlUcIXC8T48giBUW3ZdmzZt0KZNG/vzlJQU5OTkYP78+ejVq5fTbWbNmoXp06fbn5vNZgYcIiIiGZOs5yYiIgJKpbJaL01eXl613pyadO/eHSdPnnTZrtFooNfrHR5EREQkX5KFG7VajaSkJGRkZDgsz8jIQGpq6m2/TmZmJmJiYtxdHhEREfkoSU9LTZ8+HWPGjEFycjJSUlLw/vvvIzs7G5MnTwYgnlK6cOECPvroIwDAwoULkZCQgA4dOsBqteKTTz7B2rVrsXbtWil3g4iIiLyIpOFm9OjRKCgowMsvvwyTyYSOHTti48aNaNasGQDAZDI5XPPGarVixowZuHDhArRaLTp06ICvv/4agwYNuu33FAQBADhrioiIyIdcP25fP47XRCHczloycv78eQ4oJiIi8lE5OTmIi4urcZ1GF26qqqpw8eJFBAcHu5yV5SnXZ27l5OQ0uoHO3PfGt++Ndb8B7ntj3PfGut9Aw+27IAgoKipCbGws/PxqHjIs+VRwT/Pz87tl4vO0xjyLi/ve+Pa9se43wH1vjPveWPcbaJh9NxgMt7We5DfOJCIiInInhhsiIiKSFYYbCWk0Grz00kvQaDRSl+Jx3PfGt++Ndb8B7ntj3PfGut+Ad+x7oxtQTERERPLGnhsiIiKSFYYbIiIikhWGGyIiIpIVhhsiIiKSFYabBpKeno5u3bohODgYUVFRGDZsGI4fP17jNlu3boVCoaj2+PXXXz1UtXvMnTu32j5ER0fXuM22bduQlJSEgIAANG/eHO+++66HqnWvhIQEp5/h008/7XR9X/3Mt2/fjsGDByM2NhYKhQLr1693aBcEAXPnzkVsbCy0Wi3uvfde/PLLL7d83bVr16J9+/bQaDRo3749vvjiiwbag7qrad8rKirwl7/8BZ06dUJQUBBiY2MxduxYXLx4scbXXLFihdOfg/Ly8gbem9q51ec+fvz4avvQvXv3W76ut3/ut9pvZ5+dQqHA66+/7vI1feEzv53jmLf+rjPcNJBt27bh6aefxp49e5CRkYHKykqkpaWhpKTkltseP34cJpPJ/mjVqpUHKnavDh06OOzD4cOHXa6blZWFQYMGoWfPnsjMzMRf//pXTJkyxSfv9r5//36H/c7IyAAAjBw5ssbtfO0zLykpQZcuXfD22287bf/nP/+JBQsW4O2338b+/fsRHR2N+++/H0VFRS5fc/fu3Rg9ejTGjBmDQ4cOYcyYMRg1ahT27t3bULtRJzXte2lpKX766SfMmTMHP/30E9atW4cTJ05gyJAht3xdvV7v8DNgMpkQEBDQELtQZ7f63AFgwIABDvuwcePGGl/TFz73W+33zZ/bsmXLoFAo8NBDD9X4ut7+md/Occxrf9cF8oi8vDwBgLBt2zaX62zZskUAIFy9etVzhTWAl156SejSpcttr//iiy8Kbdu2dVj21FNPCd27d3dzZZ733HPPCS1atBCqqqqctsvhMwcgfPHFF/bnVVVVQnR0tPDqq6/al5WXlwsGg0F49913Xb7OqFGjhAEDBjgs69+/v/Dwww+7vWZ3uXnfndm3b58AQDh37pzLdZYvXy4YDAb3FtfAnO37uHHjhKFDh9bqdXztc7+dz3zo0KFC3759a1zHFz/zm49j3vy7zp4bDyksLAQAhIWF3XLdO++8EzExMejXrx+2bNnS0KU1iJMnTyI2NhaJiYl4+OGHcebMGZfr7t69G2lpaQ7L+vfvjx9//BEVFRUNXWqDsVqt+OSTT/DEE0/c8iatcvjMr8vKykJubq7DZ6rRaNC7d2/s2rXL5Xaufg5q2sYXFBYWQqFQICQkpMb1iouL0axZM8TFxeHBBx9EZmamZwp0s61btyIqKgqtW7fGpEmTkJeXV+P6cvvcL126hK+//hoTJky45bq+9pnffBzz5t91hhsPEAQB06dPxz333IOOHTu6XC8mJgbvv/8+1q5di3Xr1qFNmzbo168ftm/f7sFq6+/uu+/GRx99hM2bN+ODDz5Abm4uUlNTUVBQ4HT93NxcGI1Gh2VGoxGVlZXIz8/3RMkNYv369bh27RrGjx/vch25fOa/l5ubCwBOP9Prba62q+023q68vBwzZ87Eo48+WuMNBNu2bYsVK1Zgw4YN+PTTTxEQEIAePXrg5MmTHqy2/gYOHIhVq1bh+++/x7/+9S/s378fffv2hcVicbmN3D73lStXIjg4GCNGjKhxPV/7zJ0dx7z5d73R3RVcCs888wx+/vln7Ny5s8b12rRpgzZt2tifp6SkICcnB/Pnz0evXr0auky3GThwoP3/O3XqhJSUFLRo0QIrV67E9OnTnW5zc8+G8NuFs2/V4+HNli5dioEDByI2NtblOnL5zJ1x9pne6vOsyzbeqqKiAg8//DCqqqqwePHiGtft3r27w8DbHj16oGvXrnjrrbfw5ptvNnSpbjN69Gj7/3fs2BHJyclo1qwZvv766xoP9nL63JctW4bHHnvslmNnfO0zr+k45o2/6+y5aWDPPvssNmzYgC1btiAuLq7W23fv3t1rk/ztCgoKQqdOnVzuR3R0dLXEnpeXB39/f4SHh3uiRLc7d+4cvvvuO0ycOLHW2/r6Z359Zpyzz/Tmb2s3b1fbbbxVRUUFRo0ahaysLGRkZNTYa+OMn58funXr5tM/B4DYM9msWbMa90NOn/uOHTtw/PjxOv3ee/Nn7uo45s2/6ww3DUQQBDzzzDNYt24dvv/+eyQmJtbpdTIzMxETE+Pm6jzLYrHg2LFjLvcjJSXFPqvoum+//RbJyclQqVSeKNHtli9fjqioKDzwwAO13tbXP/PExERER0c7fKZWqxXbtm1Damqqy+1c/RzUtI03uh5sTp48ie+++65OAV0QBBw8eNCnfw4AoKCgADk5OTXuh1w+d0DsrU1KSkKXLl1qva03fua3Oo559e+624Ymk4M//elPgsFgELZu3SqYTCb7o7S01L7OzJkzhTFjxtifv/HGG8IXX3whnDhxQjhy5Igwc+ZMAYCwdu1aKXahzp5//nlh69atwpkzZ4Q9e/YIDz74oBAcHCycPXtWEITq+33mzBkhMDBQmDZtmnD06FFh6dKlgkqlEj7//HOpdqFebDab0LRpU+Evf/lLtTa5fOZFRUVCZmamkJmZKQAQFixYIGRmZtpnBL366quCwWAQ1q1bJxw+fFh45JFHhJiYGMFsNttfY8yYMcLMmTPtz3/44QdBqVQKr776qnDs2DHh1VdfFfz9/YU9e/Z4fP9qUtO+V1RUCEOGDBHi4uKEgwcPOvzuWywW+2vcvO9z584VNm3aJJw+fVrIzMwUHn/8ccHf31/Yu3evFLvoUk37XlRUJDz//PPCrl27hKysLGHLli1CSkqK0KRJE5//3G/18y4IglBYWCgEBgYKS5YscfoavviZ385xzFt/1xluGggAp4/ly5fb1xk3bpzQu3dv+/PXXntNaNGihRAQECCEhoYK99xzj/D11197vvh6Gj16tBATEyOoVCohNjZWGDFihPDLL7/Y22/eb0EQhK1btwp33nmnoFarhYSEBJd/IHzB5s2bBQDC8ePHq7XJ5TO/PoX95se4ceMEQRCniL700ktCdHS0oNFohF69egmHDx92eI3evXvb17/us88+E9q0aSOoVCqhbdu2Xhnyatr3rKwsl7/7W7Zssb/Gzfs+depUoWnTpoJarRYiIyOFtLQ0YdeuXZ7fuVuoad9LS0uFtLQ0ITIyUlCpVELTpk2FcePGCdnZ2Q6v4Yuf+61+3gVBEN577z1Bq9UK165dc/oavviZ385xzFt/1xW/7QARERGRLHDMDREREckKww0RERHJCsMNERERyQrDDREREckKww0RERHJCsMNERERyQrDDREREckKww0RERHJCsMNETV6Z8+ehUKhwMGDB6UuhYjcgOGGiCQ3fvx4KBQKKBQKqFQqGI1G3H///Vi2bBmqqqrc/l7Dhg1z62sSkXdhuCEirzBgwACYTCacPXsW33zzDfr06YPnnnsODz74ICorK6Uuj4h8CMMNEXkFjUaD6OhoNGnSBF27dsVf//pXfPnll/jmm2+wYsUKAEBhYSGefPJJREVFQa/Xo2/fvjh06JD9NebOnYs77rgD7733HuLj4xEYGIiRI0fi2rVr9vaVK1fiyy+/tPcUbd261b79mTNn0KdPHwQGBqJLly7YvXu3B/8FiMhdGG6IyGv17dsXXbp0wbp16yAIAh544AHk5uZi48aNOHDgALp27Yp+/frhypUr9m1OnTqF//znP/jqq6+wadMmHDx4EE8//TQAYMaMGRg1apS9l8hkMiE1NdW+7ezZszFjxgwcPHgQrVu3xiOPPMJeIyIfxHBDRF6tbdu2OHv2LLZs2YLDhw/js88+Q3JyMlq1aoX58+cjJCQEn3/+uX398vJyrFy5EnfccQd69eqFt956C6tXr0Zubi50Oh20Wq29lyg6Ohpqtdq+7YwZM/DAAw+gdevWmDdvHs6dO4dTp05JsdtEVA8MN0Tk1QRBgEKhwIEDB1BcXIzw8HDodDr7IysrC6dPn7av37RpU8TFxdmfp6SkoKqqCsePH7/le3Xu3Nn+/zExMQCAvLw8N+4NEXmCv9QFEBHV5NixY0hMTERVVRViYmIcxshcFxIS4nJ7hULh8N+aqFSqatu5e7YWETU8hhsi8lrff/89Dh8+jGnTpiEuLg65ubnw9/dHQkKCy22ys7Nx8eJFxMbGAgB2794NPz8/tG7dGgCgVqths9k8UT4RSYThhoi8gsViQW5uLmw2Gy5duoRNmzYhPT0dDz74IMaOHQs/Pz+kpKRg2LBheO2119CmTRtcvHgRGzduxLBhw5CcnAwACAgIwLhx4zB//nyYzWZMmTIFo0aNQnR0NAAgISEBmzdvxvHjxxEeHg6DwSDlbhNRA2C4ISKvsGnTJsTExMDf3x+hoaHo0qUL3nzzTYwbNw5+fuLwwI0bN2L27Nl44okncPnyZURHR6NXr14wGo3212nZsiVGjBiBQYMG4cqVKxg0aBAWL15sb580aRK2bt2K5ORkFBcXY8uWLTX2BBGR71EIgiBIXQQRkTvMnTsX69ev520UiBo5zpYiIiIiWWG4ISIiIlnhaSkiIiKSFfbcEBERkaww3BAREZGsMNwQERGRrDDcEBERkaww3BAREZGsMNwQERGRrDDcEBERkaww3BAREZGs/H9lwsbOpWskYwAAAABJRU5ErkJggg==\n",
      "text/plain": [
       "<Figure size 640x480 with 1 Axes>"
      ]
     },
     "metadata": {},
     "output_type": "display_data"
    }
   ],
   "source": [
    "sns.scatterplot(x='depth', y='score', data=scores, hue='type')\n",
    "plt.xlabel('Depth')\n",
    "plt.ylabel('Score')\n",
    "plt.show()"
   ]
  },
  {
   "cell_type": "code",
   "execution_count": 19,
   "id": "a6689268",
   "metadata": {},
   "outputs": [],
   "source": [
    "rfc_scores = pd.DataFrame({'score':rfc_train,\n",
    "                           'type':'train',\n",
    "                           'depth':depth})\n",
    "\n",
    "val_rfc_scores = pd.DataFrame({'score':rfc_val,\n",
    "                               'type':'val',\n",
    "                               'depth':depth})\n",
    "\n",
    "rfc_scores = rfc_scores.append(val_rfc_scores)"
   ]
  },
  {
   "cell_type": "code",
   "execution_count": 20,
   "id": "80cdb71b",
   "metadata": {},
   "outputs": [
    {
     "data": {
      "image/png": "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\n",
      "text/plain": [
       "<Figure size 640x480 with 1 Axes>"
      ]
     },
     "metadata": {},
     "output_type": "display_data"
    }
   ],
   "source": [
    "sns.scatterplot(x='depth', y='score', data=rfc_scores, hue='type')\n",
    "plt.xlabel('Depth')\n",
    "plt.ylabel('Score')\n",
    "plt.show()"
   ]
  },
  {
   "cell_type": "code",
   "execution_count": 21,
   "id": "d6059e1e",
   "metadata": {},
   "outputs": [
    {
     "name": "stdout",
     "output_type": "stream",
     "text": [
      "lbfgs\n",
      "Train:  0.4725303069383544\n",
      "Val:  0.48297213622291024\n"
     ]
    }
   ],
   "source": [
    "logit = LogisticRegression(C=1, random_state=42, solver='lbfgs')\n",
    "logit.fit(X_train, y_train)\n",
    "y_pred = logit.predict(X_train)\n",
    "print('lbfgs')\n",
    "print('Train: ', logit.score(X_train, y_train))\n",
    "print('Val: ', logit.score(X_val, y_val))"
   ]
  },
  {
   "cell_type": "code",
   "execution_count": 22,
   "id": "2b0c1c9c",
   "metadata": {},
   "outputs": [
    {
     "name": "stdout",
     "output_type": "stream",
     "text": [
      "newton-cg\n",
      "Train:  0.542687645086407\n",
      "Val:  0.5363777089783281\n"
     ]
    }
   ],
   "source": [
    "logit = LogisticRegression(C=1, random_state=42, solver='newton-cg')\n",
    "logit.fit(X_train, y_train)\n",
    "y_pred = logit.predict(X_train)\n",
    "print('newton-cg')\n",
    "print('Train: ', logit.score(X_train, y_train))\n",
    "print('Val: ', logit.score(X_val, y_val))"
   ]
  },
  {
   "cell_type": "code",
   "execution_count": 23,
   "id": "b6bb2be8",
   "metadata": {},
   "outputs": [
    {
     "name": "stdout",
     "output_type": "stream",
     "text": [
      "liblinear\n",
      "Train:  0.5354655661594016\n",
      "Val:  0.5348297213622291\n"
     ]
    }
   ],
   "source": [
    "logit = LogisticRegression(C=2, random_state=42, solver='liblinear')\n",
    "logit.fit(X_train, y_train)\n",
    "y_pred = logit.predict(X_train)\n",
    "print('liblinear')\n",
    "print('Train: ', logit.score(X_train, y_train))\n",
    "print('Val: ', logit.score(X_val, y_val))"
   ]
  },
  {
   "cell_type": "code",
   "execution_count": 24,
   "id": "bfa76107",
   "metadata": {},
   "outputs": [
    {
     "name": "stdout",
     "output_type": "stream",
     "text": [
      "sag\n",
      "Train:  0.4846530822801135\n",
      "Val:  0.4969040247678019\n"
     ]
    }
   ],
   "source": [
    "logit = LogisticRegression(C=1, random_state=42, solver='sag')\n",
    "logit.fit(X_train, y_train)\n",
    "y_pred = logit.predict(X_train)\n",
    "print('sag')\n",
    "print('Train: ', logit.score(X_train, y_train))\n",
    "print('Val: ', logit.score(X_val, y_val))"
   ]
  },
  {
   "cell_type": "code",
   "execution_count": 25,
   "id": "5a06e46e",
   "metadata": {},
   "outputs": [
    {
     "name": "stdout",
     "output_type": "stream",
     "text": [
      "saga\n",
      "Train:  0.4686613360846015\n",
      "Val:  0.49226006191950467\n"
     ]
    }
   ],
   "source": [
    "logit = LogisticRegression(C=1, random_state=42, solver='saga')\n",
    "logit.fit(X_train, y_train)\n",
    "y_pred = logit.predict(X_train)\n",
    "print('saga')\n",
    "print('Train: ', logit.score(X_train, y_train))\n",
    "print('Val: ', logit.score(X_val, y_val))"
   ]
  },
  {
   "cell_type": "code",
   "execution_count": 26,
   "id": "2244bd4d",
   "metadata": {},
   "outputs": [],
   "source": [
    "knn_train = []\n",
    "knn_val = []\n",
    "depth = []\n",
    "\n",
    "for i in range(2, 51):\n",
    "    knn = KNeighborsClassifier(n_neighbors=i, weights='uniform')\n",
    "    knn.fit(X_train, y_train)\n",
    "    y_pred = knn.predict(X_train)\n",
    "    y_pred_proba = knn.predict_proba(X_train)\n",
    "    \n",
    "    depth.append(i)\n",
    "    knn_train.append(knn.score(X_train, y_train))\n",
    "    knn_val.append(knn.score(X_val, y_val))"
   ]
  },
  {
   "cell_type": "code",
   "execution_count": 27,
   "id": "3dc7aa2c",
   "metadata": {},
   "outputs": [],
   "source": [
    "knn_scores = pd.DataFrame({'score':knn_train,\n",
    "                           'type':'train',\n",
    "                           'depth':depth})\n",
    "\n",
    "val_knn_scores = pd.DataFrame({'score':knn_val,\n",
    "                               'type':'val',\n",
    "                               'depth':depth})\n",
    "\n",
    "knn_scores = knn_scores.append(val_knn_scores)"
   ]
  },
  {
   "cell_type": "code",
   "execution_count": 28,
   "id": "3ba2e888",
   "metadata": {},
   "outputs": [
    {
     "data": {
      "image/png": "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\n",
      "text/plain": [
       "<Figure size 640x480 with 1 Axes>"
      ]
     },
     "metadata": {},
     "output_type": "display_data"
    }
   ],
   "source": [
    "sns.scatterplot(x='depth', y='score', data=knn_scores, hue='type')\n",
    "plt.xlabel('Depth')\n",
    "plt.ylabel('Score')\n",
    "plt.show()"
>>>>>>> 73ebcddb93bb525b463c0a5570a1f98e8f6179ec
   ]
  },
  {
   "cell_type": "code",
   "execution_count": null,
   "id": "7b684d9d",
   "metadata": {},
   "outputs": [],
   "source": []
  }
 ],
 "metadata": {
  "kernelspec": {
   "display_name": "Python 3 (ipykernel)",
   "language": "python",
   "name": "python3"
  },
  "language_info": {
   "codemirror_mode": {
    "name": "ipython",
    "version": 3
   },
   "file_extension": ".py",
   "mimetype": "text/x-python",
   "name": "python",
   "nbconvert_exporter": "python",
   "pygments_lexer": "ipython3",
   "version": "3.9.13"
  }
 },
 "nbformat": 4,
 "nbformat_minor": 5
}
