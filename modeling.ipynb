{
 "cells": [
  {
   "cell_type": "code",
   "execution_count": 114,
   "id": "369abfaa",
   "metadata": {},
   "outputs": [],
   "source": [
    "import pandas as pd\n",
    "import numpy as np\n",
    "import matplotlib.pyplot as plt\n",
    "import seaborn as sns\n",
    "import prepare as prep\n",
    "\n",
    "import warnings\n",
    "warnings.filterwarnings('ignore')\n",
    "\n",
    "from scipy import stats\n",
    "\n",
    "from sklearn.tree import DecisionTreeClassifier, plot_tree\n",
    "from sklearn.metrics import classification_report\n",
    "from sklearn.metrics import confusion_matrix\n",
    "from sklearn.ensemble import RandomForestClassifier\n",
    "from sklearn.linear_model import LogisticRegression\n",
    "from sklearn.neighbors import KNeighborsClassifier"
   ]
  },
  {
   "cell_type": "code",
   "execution_count": 115,
   "id": "273f2c30",
   "metadata": {},
   "outputs": [],
   "source": [
    "df = pd.read_csv('wine_df.csv')\n",
    "df.drop(columns=['Unnamed: 0', 'Unnamed: 0.1', 'sulphates'], inplace=True)\n",
    "df.rename(columns={'fixed acidity':'fixed','volatile acidity':'volatile','citric acid':'citric',\n",
    "           'residual sugar':'sugar','free sulfur dioxide':'fso2','total sulfur dioxide':'tso2'}, inplace=True)"
   ]
  },
  {
   "cell_type": "code",
   "execution_count": 116,
   "id": "316bb299",
   "metadata": {},
   "outputs": [],
   "source": [
    "col_list = df.select_dtypes(include=['float64','int64']).columns[:-1]"
   ]
  },
  {
   "cell_type": "code",
   "execution_count": 117,
   "id": "7a39a09e",
   "metadata": {},
   "outputs": [
    {
     "name": "stdout",
     "output_type": "stream",
     "text": [
      "quality column ignored\n",
      "type column ignored\n"
     ]
    }
   ],
   "source": [
    "df, var_fences = p.remove_outliers(df)"
   ]
  },
  {
   "cell_type": "code",
   "execution_count": 118,
   "id": "97596ca4",
   "metadata": {},
   "outputs": [
    {
     "data": {
      "text/html": [
       "<div>\n",
       "<style scoped>\n",
       "    .dataframe tbody tr th:only-of-type {\n",
       "        vertical-align: middle;\n",
       "    }\n",
       "\n",
       "    .dataframe tbody tr th {\n",
       "        vertical-align: top;\n",
       "    }\n",
       "\n",
       "    .dataframe thead th {\n",
       "        text-align: right;\n",
       "    }\n",
       "</style>\n",
       "<table border=\"1\" class=\"dataframe\">\n",
       "  <thead>\n",
       "    <tr style=\"text-align: right;\">\n",
       "      <th></th>\n",
       "      <th>fixed</th>\n",
       "      <th>volatile</th>\n",
       "      <th>citric</th>\n",
       "      <th>sugar</th>\n",
       "      <th>chlorides</th>\n",
       "      <th>fso2</th>\n",
       "      <th>tso2</th>\n",
       "      <th>density</th>\n",
       "      <th>pH</th>\n",
       "      <th>alcohol</th>\n",
       "      <th>quality</th>\n",
       "      <th>type</th>\n",
       "    </tr>\n",
       "  </thead>\n",
       "  <tbody>\n",
       "    <tr>\n",
       "      <th>1</th>\n",
       "      <td>6.3</td>\n",
       "      <td>0.30</td>\n",
       "      <td>0.34</td>\n",
       "      <td>1.6</td>\n",
       "      <td>0.049</td>\n",
       "      <td>14.0</td>\n",
       "      <td>132.0</td>\n",
       "      <td>0.9940</td>\n",
       "      <td>3.30</td>\n",
       "      <td>9.5</td>\n",
       "      <td>6</td>\n",
       "      <td>white</td>\n",
       "    </tr>\n",
       "    <tr>\n",
       "      <th>2</th>\n",
       "      <td>8.1</td>\n",
       "      <td>0.28</td>\n",
       "      <td>0.40</td>\n",
       "      <td>6.9</td>\n",
       "      <td>0.050</td>\n",
       "      <td>30.0</td>\n",
       "      <td>97.0</td>\n",
       "      <td>0.9951</td>\n",
       "      <td>3.26</td>\n",
       "      <td>10.1</td>\n",
       "      <td>6</td>\n",
       "      <td>white</td>\n",
       "    </tr>\n",
       "    <tr>\n",
       "      <th>3</th>\n",
       "      <td>7.2</td>\n",
       "      <td>0.23</td>\n",
       "      <td>0.32</td>\n",
       "      <td>8.5</td>\n",
       "      <td>0.058</td>\n",
       "      <td>47.0</td>\n",
       "      <td>186.0</td>\n",
       "      <td>0.9956</td>\n",
       "      <td>3.19</td>\n",
       "      <td>9.9</td>\n",
       "      <td>6</td>\n",
       "      <td>white</td>\n",
       "    </tr>\n",
       "    <tr>\n",
       "      <th>4</th>\n",
       "      <td>7.2</td>\n",
       "      <td>0.23</td>\n",
       "      <td>0.32</td>\n",
       "      <td>8.5</td>\n",
       "      <td>0.058</td>\n",
       "      <td>47.0</td>\n",
       "      <td>186.0</td>\n",
       "      <td>0.9956</td>\n",
       "      <td>3.19</td>\n",
       "      <td>9.9</td>\n",
       "      <td>6</td>\n",
       "      <td>white</td>\n",
       "    </tr>\n",
       "    <tr>\n",
       "      <th>5</th>\n",
       "      <td>8.1</td>\n",
       "      <td>0.28</td>\n",
       "      <td>0.40</td>\n",
       "      <td>6.9</td>\n",
       "      <td>0.050</td>\n",
       "      <td>30.0</td>\n",
       "      <td>97.0</td>\n",
       "      <td>0.9951</td>\n",
       "      <td>3.26</td>\n",
       "      <td>10.1</td>\n",
       "      <td>6</td>\n",
       "      <td>white</td>\n",
       "    </tr>\n",
       "  </tbody>\n",
       "</table>\n",
       "</div>"
      ],
      "text/plain": [
       "   fixed  volatile  citric  sugar  chlorides  fso2   tso2  density    pH  \\\n",
       "1    6.3      0.30    0.34    1.6      0.049  14.0  132.0   0.9940  3.30   \n",
       "2    8.1      0.28    0.40    6.9      0.050  30.0   97.0   0.9951  3.26   \n",
       "3    7.2      0.23    0.32    8.5      0.058  47.0  186.0   0.9956  3.19   \n",
       "4    7.2      0.23    0.32    8.5      0.058  47.0  186.0   0.9956  3.19   \n",
       "5    8.1      0.28    0.40    6.9      0.050  30.0   97.0   0.9951  3.26   \n",
       "\n",
       "   alcohol  quality   type  \n",
       "1      9.5        6  white  \n",
       "2     10.1        6  white  \n",
       "3      9.9        6  white  \n",
       "4      9.9        6  white  \n",
       "5     10.1        6  white  "
      ]
     },
     "execution_count": 118,
     "metadata": {},
     "output_type": "execute_result"
    }
   ],
   "source": [
    "df.head()"
   ]
  },
  {
   "cell_type": "code",
   "execution_count": 119,
   "id": "f44593fa",
   "metadata": {},
   "outputs": [],
   "source": [
    "df = df[(df['quality']!=3) & (df['quality']!=9)]"
   ]
  },
  {
   "cell_type": "code",
   "execution_count": 120,
   "id": "c1c90d1a",
   "metadata": {},
   "outputs": [],
   "source": [
    "baseline_table = pd.get_dummies(df, columns=['quality'])\n",
    "baseline_table.drop(columns=['fixed','volatile','citric','sugar','chlorides',\n",
    "                             'fso2','tso2','density','pH','alcohol'], inplace=True)"
   ]
  },
  {
   "cell_type": "code",
   "execution_count": 121,
   "id": "8f102fe9",
   "metadata": {},
   "outputs": [
    {
     "data": {
      "text/plain": [
       "(0.9724896836313618, 0.6995480448025152, 0.5494203183336608, 0.812340341913932)"
      ]
     },
     "execution_count": 121,
     "metadata": {},
     "output_type": "execute_result"
    }
   ],
   "source": [
    "qual_4 = (baseline_table['quality_4']==0).mean()\n",
    "qual_5 = (baseline_table['quality_5']==0).mean()\n",
    "qual_6 = (baseline_table['quality_6']==0).mean()\n",
    "qual_7 = (baseline_table['quality_7']==0).mean()\n",
    "\n",
    "qual_4, qual_5, qual_6, qual_7"
   ]
  },
  {
   "cell_type": "code",
   "execution_count": 122,
   "id": "b07534a5",
   "metadata": {},
   "outputs": [],
   "source": [
    "df = pd.get_dummies(df, columns=['type'])"
   ]
  },
  {
   "cell_type": "code",
   "execution_count": 123,
   "id": "18510698",
   "metadata": {},
   "outputs": [],
   "source": [
    "X_train, y_train, X_val, y_val, X_test, y_test= prep.x_y_split(df, 'quality')"
   ]
  },
  {
   "cell_type": "code",
   "execution_count": 124,
   "id": "ccdfd420",
   "metadata": {},
   "outputs": [
    {
     "data": {
      "text/html": [
       "<div>\n",
       "<style scoped>\n",
       "    .dataframe tbody tr th:only-of-type {\n",
       "        vertical-align: middle;\n",
       "    }\n",
       "\n",
       "    .dataframe tbody tr th {\n",
       "        vertical-align: top;\n",
       "    }\n",
       "\n",
       "    .dataframe thead th {\n",
       "        text-align: right;\n",
       "    }\n",
       "</style>\n",
       "<table border=\"1\" class=\"dataframe\">\n",
       "  <thead>\n",
       "    <tr style=\"text-align: right;\">\n",
       "      <th></th>\n",
       "      <th>fixed</th>\n",
       "      <th>volatile</th>\n",
       "      <th>citric</th>\n",
       "      <th>sugar</th>\n",
       "      <th>chlorides</th>\n",
       "      <th>fso2</th>\n",
       "      <th>tso2</th>\n",
       "      <th>density</th>\n",
       "      <th>pH</th>\n",
       "      <th>alcohol</th>\n",
       "      <th>type_red</th>\n",
       "      <th>type_white</th>\n",
       "    </tr>\n",
       "  </thead>\n",
       "  <tbody>\n",
       "    <tr>\n",
       "      <th>3498</th>\n",
       "      <td>6.4</td>\n",
       "      <td>0.30</td>\n",
       "      <td>0.36</td>\n",
       "      <td>2.00</td>\n",
       "      <td>0.052</td>\n",
       "      <td>18.0</td>\n",
       "      <td>141.0</td>\n",
       "      <td>0.99273</td>\n",
       "      <td>3.38</td>\n",
       "      <td>10.5</td>\n",
       "      <td>0</td>\n",
       "      <td>1</td>\n",
       "    </tr>\n",
       "    <tr>\n",
       "      <th>2089</th>\n",
       "      <td>7.9</td>\n",
       "      <td>0.17</td>\n",
       "      <td>0.32</td>\n",
       "      <td>1.60</td>\n",
       "      <td>0.053</td>\n",
       "      <td>47.0</td>\n",
       "      <td>150.0</td>\n",
       "      <td>0.99480</td>\n",
       "      <td>3.29</td>\n",
       "      <td>9.6</td>\n",
       "      <td>0</td>\n",
       "      <td>1</td>\n",
       "    </tr>\n",
       "    <tr>\n",
       "      <th>4934</th>\n",
       "      <td>7.8</td>\n",
       "      <td>0.60</td>\n",
       "      <td>0.14</td>\n",
       "      <td>2.40</td>\n",
       "      <td>0.086</td>\n",
       "      <td>3.0</td>\n",
       "      <td>15.0</td>\n",
       "      <td>0.99750</td>\n",
       "      <td>3.42</td>\n",
       "      <td>10.8</td>\n",
       "      <td>1</td>\n",
       "      <td>0</td>\n",
       "    </tr>\n",
       "    <tr>\n",
       "      <th>446</th>\n",
       "      <td>5.8</td>\n",
       "      <td>0.28</td>\n",
       "      <td>0.27</td>\n",
       "      <td>2.60</td>\n",
       "      <td>0.054</td>\n",
       "      <td>30.0</td>\n",
       "      <td>156.0</td>\n",
       "      <td>0.99140</td>\n",
       "      <td>3.53</td>\n",
       "      <td>12.4</td>\n",
       "      <td>0</td>\n",
       "      <td>1</td>\n",
       "    </tr>\n",
       "    <tr>\n",
       "      <th>3392</th>\n",
       "      <td>6.7</td>\n",
       "      <td>0.38</td>\n",
       "      <td>0.26</td>\n",
       "      <td>9.55</td>\n",
       "      <td>0.036</td>\n",
       "      <td>35.0</td>\n",
       "      <td>91.0</td>\n",
       "      <td>0.99190</td>\n",
       "      <td>2.98</td>\n",
       "      <td>12.4</td>\n",
       "      <td>0</td>\n",
       "      <td>1</td>\n",
       "    </tr>\n",
       "  </tbody>\n",
       "</table>\n",
       "</div>"
      ],
      "text/plain": [
       "      fixed  volatile  citric  sugar  chlorides  fso2   tso2  density    pH  \\\n",
       "3498    6.4      0.30    0.36   2.00      0.052  18.0  141.0  0.99273  3.38   \n",
       "2089    7.9      0.17    0.32   1.60      0.053  47.0  150.0  0.99480  3.29   \n",
       "4934    7.8      0.60    0.14   2.40      0.086   3.0   15.0  0.99750  3.42   \n",
       "446     5.8      0.28    0.27   2.60      0.054  30.0  156.0  0.99140  3.53   \n",
       "3392    6.7      0.38    0.26   9.55      0.036  35.0   91.0  0.99190  2.98   \n",
       "\n",
       "      alcohol  type_red  type_white  \n",
       "3498     10.5         0           1  \n",
       "2089      9.6         0           1  \n",
       "4934     10.8         1           0  \n",
       "446      12.4         0           1  \n",
       "3392     12.4         0           1  "
      ]
     },
     "execution_count": 124,
     "metadata": {},
     "output_type": "execute_result"
    }
   ],
   "source": [
    "X_train.head()"
   ]
  },
  {
   "cell_type": "code",
   "execution_count": 152,
   "id": "2342fca3",
   "metadata": {},
   "outputs": [],
   "source": [
    "tree_train = []\n",
    "tree_val = []\n",
    "depth = []\n",
    "for i in range(2, 21):\n",
    "    train_tree = DecisionTreeClassifier(max_depth=i, random_state=42)\n",
    "    train_tree = train_tree.fit(X_train, y_train)\n",
    "    \n",
    "    y_pred = train_tree.predict(X_train)\n",
    "    y_pred_prob = train_tree.predict_proba(X_train)\n",
    "    \n",
    "    tree_train.append(train_tree.score(X_train, y_train))\n",
    "    tree_val.append(train_tree.score(X_val, y_val))\n",
    "    depth.append(i)"
   ]
  },
  {
   "cell_type": "code",
   "execution_count": 180,
   "id": "962c987a",
   "metadata": {},
   "outputs": [],
   "source": [
    "scores = pd.DataFrame({'score':tree_train,\n",
    "                       'type':'train',\n",
    "                       'depth':depth})"
   ]
  },
  {
   "cell_type": "code",
   "execution_count": 181,
   "id": "dc3aed86",
   "metadata": {},
   "outputs": [],
   "source": [
    "val_scores = pd.DataFrame({'score':tree_val,\n",
    "                           'type':'val',\n",
    "                           'depth':depth})"
   ]
  },
  {
   "cell_type": "code",
   "execution_count": 182,
   "id": "5a1235be",
   "metadata": {},
   "outputs": [],
   "source": [
    "scores = scores.append(val_scores)"
   ]
  },
  {
   "cell_type": "code",
   "execution_count": 202,
   "id": "8f21b9e5",
   "metadata": {},
   "outputs": [
    {
     "data": {
      "text/html": [
       "<div>\n",
       "<style scoped>\n",
       "    .dataframe tbody tr th:only-of-type {\n",
       "        vertical-align: middle;\n",
       "    }\n",
       "\n",
       "    .dataframe tbody tr th {\n",
       "        vertical-align: top;\n",
       "    }\n",
       "\n",
       "    .dataframe thead th {\n",
       "        text-align: right;\n",
       "    }\n",
       "</style>\n",
       "<table border=\"1\" class=\"dataframe\">\n",
       "  <thead>\n",
       "    <tr style=\"text-align: right;\">\n",
       "      <th></th>\n",
       "      <th>score</th>\n",
       "      <th>type</th>\n",
       "      <th>depth</th>\n",
       "    </tr>\n",
       "  </thead>\n",
       "  <tbody>\n",
       "    <tr>\n",
       "      <th>0</th>\n",
       "      <td>0.527023</td>\n",
       "      <td>train</td>\n",
       "      <td>2</td>\n",
       "    </tr>\n",
       "    <tr>\n",
       "      <th>1</th>\n",
       "      <td>0.547986</td>\n",
       "      <td>train</td>\n",
       "      <td>3</td>\n",
       "    </tr>\n",
       "    <tr>\n",
       "      <th>2</th>\n",
       "      <td>0.552571</td>\n",
       "      <td>train</td>\n",
       "      <td>4</td>\n",
       "    </tr>\n",
       "    <tr>\n",
       "      <th>3</th>\n",
       "      <td>0.560760</td>\n",
       "      <td>train</td>\n",
       "      <td>5</td>\n",
       "    </tr>\n",
       "    <tr>\n",
       "      <th>4</th>\n",
       "      <td>0.594825</td>\n",
       "      <td>train</td>\n",
       "      <td>6</td>\n",
       "    </tr>\n",
       "    <tr>\n",
       "      <th>5</th>\n",
       "      <td>0.622011</td>\n",
       "      <td>train</td>\n",
       "      <td>7</td>\n",
       "    </tr>\n",
       "    <tr>\n",
       "      <th>6</th>\n",
       "      <td>0.673764</td>\n",
       "      <td>train</td>\n",
       "      <td>8</td>\n",
       "    </tr>\n",
       "    <tr>\n",
       "      <th>7</th>\n",
       "      <td>0.715689</td>\n",
       "      <td>train</td>\n",
       "      <td>9</td>\n",
       "    </tr>\n",
       "    <tr>\n",
       "      <th>8</th>\n",
       "      <td>0.760563</td>\n",
       "      <td>train</td>\n",
       "      <td>10</td>\n",
       "    </tr>\n",
       "    <tr>\n",
       "      <th>9</th>\n",
       "      <td>0.804455</td>\n",
       "      <td>train</td>\n",
       "      <td>11</td>\n",
       "    </tr>\n",
       "    <tr>\n",
       "      <th>10</th>\n",
       "      <td>0.846708</td>\n",
       "      <td>train</td>\n",
       "      <td>12</td>\n",
       "    </tr>\n",
       "    <tr>\n",
       "      <th>11</th>\n",
       "      <td>0.882411</td>\n",
       "      <td>train</td>\n",
       "      <td>13</td>\n",
       "    </tr>\n",
       "    <tr>\n",
       "      <th>12</th>\n",
       "      <td>0.912873</td>\n",
       "      <td>train</td>\n",
       "      <td>14</td>\n",
       "    </tr>\n",
       "    <tr>\n",
       "      <th>13</th>\n",
       "      <td>0.940714</td>\n",
       "      <td>train</td>\n",
       "      <td>15</td>\n",
       "    </tr>\n",
       "    <tr>\n",
       "      <th>14</th>\n",
       "      <td>0.962005</td>\n",
       "      <td>train</td>\n",
       "      <td>16</td>\n",
       "    </tr>\n",
       "    <tr>\n",
       "      <th>15</th>\n",
       "      <td>0.975762</td>\n",
       "      <td>train</td>\n",
       "      <td>17</td>\n",
       "    </tr>\n",
       "    <tr>\n",
       "      <th>16</th>\n",
       "      <td>0.986571</td>\n",
       "      <td>train</td>\n",
       "      <td>18</td>\n",
       "    </tr>\n",
       "    <tr>\n",
       "      <th>17</th>\n",
       "      <td>0.992794</td>\n",
       "      <td>train</td>\n",
       "      <td>19</td>\n",
       "    </tr>\n",
       "    <tr>\n",
       "      <th>18</th>\n",
       "      <td>0.995087</td>\n",
       "      <td>train</td>\n",
       "      <td>20</td>\n",
       "    </tr>\n",
       "    <tr>\n",
       "      <th>0</th>\n",
       "      <td>0.527505</td>\n",
       "      <td>val</td>\n",
       "      <td>2</td>\n",
       "    </tr>\n",
       "    <tr>\n",
       "      <th>1</th>\n",
       "      <td>0.528487</td>\n",
       "      <td>val</td>\n",
       "      <td>3</td>\n",
       "    </tr>\n",
       "    <tr>\n",
       "      <th>2</th>\n",
       "      <td>0.528487</td>\n",
       "      <td>val</td>\n",
       "      <td>4</td>\n",
       "    </tr>\n",
       "    <tr>\n",
       "      <th>3</th>\n",
       "      <td>0.532417</td>\n",
       "      <td>val</td>\n",
       "      <td>5</td>\n",
       "    </tr>\n",
       "    <tr>\n",
       "      <th>4</th>\n",
       "      <td>0.527505</td>\n",
       "      <td>val</td>\n",
       "      <td>6</td>\n",
       "    </tr>\n",
       "    <tr>\n",
       "      <th>5</th>\n",
       "      <td>0.527505</td>\n",
       "      <td>val</td>\n",
       "      <td>7</td>\n",
       "    </tr>\n",
       "    <tr>\n",
       "      <th>6</th>\n",
       "      <td>0.540275</td>\n",
       "      <td>val</td>\n",
       "      <td>8</td>\n",
       "    </tr>\n",
       "    <tr>\n",
       "      <th>7</th>\n",
       "      <td>0.536346</td>\n",
       "      <td>val</td>\n",
       "      <td>9</td>\n",
       "    </tr>\n",
       "    <tr>\n",
       "      <th>8</th>\n",
       "      <td>0.565815</td>\n",
       "      <td>val</td>\n",
       "      <td>10</td>\n",
       "    </tr>\n",
       "    <tr>\n",
       "      <th>9</th>\n",
       "      <td>0.573674</td>\n",
       "      <td>val</td>\n",
       "      <td>11</td>\n",
       "    </tr>\n",
       "    <tr>\n",
       "      <th>10</th>\n",
       "      <td>0.569745</td>\n",
       "      <td>val</td>\n",
       "      <td>12</td>\n",
       "    </tr>\n",
       "    <tr>\n",
       "      <th>11</th>\n",
       "      <td>0.556974</td>\n",
       "      <td>val</td>\n",
       "      <td>13</td>\n",
       "    </tr>\n",
       "    <tr>\n",
       "      <th>12</th>\n",
       "      <td>0.564833</td>\n",
       "      <td>val</td>\n",
       "      <td>14</td>\n",
       "    </tr>\n",
       "    <tr>\n",
       "      <th>13</th>\n",
       "      <td>0.559921</td>\n",
       "      <td>val</td>\n",
       "      <td>15</td>\n",
       "    </tr>\n",
       "    <tr>\n",
       "      <th>14</th>\n",
       "      <td>0.573674</td>\n",
       "      <td>val</td>\n",
       "      <td>16</td>\n",
       "    </tr>\n",
       "    <tr>\n",
       "      <th>15</th>\n",
       "      <td>0.571709</td>\n",
       "      <td>val</td>\n",
       "      <td>17</td>\n",
       "    </tr>\n",
       "    <tr>\n",
       "      <th>16</th>\n",
       "      <td>0.568762</td>\n",
       "      <td>val</td>\n",
       "      <td>18</td>\n",
       "    </tr>\n",
       "    <tr>\n",
       "      <th>17</th>\n",
       "      <td>0.571709</td>\n",
       "      <td>val</td>\n",
       "      <td>19</td>\n",
       "    </tr>\n",
       "    <tr>\n",
       "      <th>18</th>\n",
       "      <td>0.572692</td>\n",
       "      <td>val</td>\n",
       "      <td>20</td>\n",
       "    </tr>\n",
       "  </tbody>\n",
       "</table>\n",
       "</div>"
      ],
      "text/plain": [
       "       score   type  depth\n",
       "0   0.527023  train      2\n",
       "1   0.547986  train      3\n",
       "2   0.552571  train      4\n",
       "3   0.560760  train      5\n",
       "4   0.594825  train      6\n",
       "5   0.622011  train      7\n",
       "6   0.673764  train      8\n",
       "7   0.715689  train      9\n",
       "8   0.760563  train     10\n",
       "9   0.804455  train     11\n",
       "10  0.846708  train     12\n",
       "11  0.882411  train     13\n",
       "12  0.912873  train     14\n",
       "13  0.940714  train     15\n",
       "14  0.962005  train     16\n",
       "15  0.975762  train     17\n",
       "16  0.986571  train     18\n",
       "17  0.992794  train     19\n",
       "18  0.995087  train     20\n",
       "0   0.527505    val      2\n",
       "1   0.528487    val      3\n",
       "2   0.528487    val      4\n",
       "3   0.532417    val      5\n",
       "4   0.527505    val      6\n",
       "5   0.527505    val      7\n",
       "6   0.540275    val      8\n",
       "7   0.536346    val      9\n",
       "8   0.565815    val     10\n",
       "9   0.573674    val     11\n",
       "10  0.569745    val     12\n",
       "11  0.556974    val     13\n",
       "12  0.564833    val     14\n",
       "13  0.559921    val     15\n",
       "14  0.573674    val     16\n",
       "15  0.571709    val     17\n",
       "16  0.568762    val     18\n",
       "17  0.571709    val     19\n",
       "18  0.572692    val     20"
      ]
     },
     "execution_count": 202,
     "metadata": {},
     "output_type": "execute_result"
    }
   ],
   "source": [
    "scores"
   ]
  },
  {
   "cell_type": "code",
   "execution_count": 153,
   "id": "5c10f11a",
   "metadata": {},
   "outputs": [],
   "source": [
    "rfc_train = []\n",
    "rfc_val = []\n",
    "depth = []\n",
    "for i in range(2, 21):\n",
    "    rf = RandomForestClassifier(bootstrap=True, \n",
    "                                class_weight=None, \n",
    "                                criterion='gini',\n",
    "                                min_samples_leaf=3,\n",
    "                                n_estimators=100,\n",
    "                                max_depth=i, \n",
    "                                random_state=77)\n",
    "    \n",
    "    rf.fit(X_train, y_train)\n",
    "    y_pred = rf.predict(X_train)\n",
    "    \n",
    "    rfc_train.append(rf.score(X_train, y_train))\n",
    "    rfc_val.append(rf.score(X_val, y_val))\n",
    "    depth.append(i)"
   ]
  },
  {
   "cell_type": "code",
   "execution_count": 185,
   "id": "4400c6db",
   "metadata": {},
   "outputs": [
    {
     "data": {
      "image/png": "[encoded data removed]",
      "text/plain": [
       "<Figure size 640x480 with 1 Axes>"
      ]
     },
     "metadata": {},
     "output_type": "display_data"
    }
   ],
   "source": [
    "sns.scatterplot(x='depth', y='score', data=scores, hue='type')\n",
    "plt.xlabel('Depth')\n",
    "plt.ylabel('Score')\n",
    "plt.show()"
   ]
  },
  {
   "cell_type": "code",
   "execution_count": 184,
   "id": "a6689268",
   "metadata": {},
   "outputs": [],
   "source": [
    "rfc_scores = pd.DataFrame({'score':rfc_train,\n",
    "                           'type':'train',\n",
    "                           'depth':depth})\n",
    "\n",
    "val_rfc_scores = pd.DataFrame({'score':rfc_val,\n",
    "                               'type':'val',\n",
    "                               'depth':depth})\n",
    "\n",
    "rfc_scores = rfc_scores.append(val_rfc_scores)"
   ]
  },
  {
   "cell_type": "code",
   "execution_count": 186,
   "id": "80cdb71b",
   "metadata": {},
   "outputs": [
    {
     "data": {
      "image/png": "[encoded data removed]",
      "text/plain": [
       "<Figure size 640x480 with 1 Axes>"
      ]
     },
     "metadata": {},
     "output_type": "display_data"
    }
   ],
   "source": [
    "sns.scatterplot(x='depth', y='score', data=rfc_scores, hue='type')\n",
    "plt.xlabel('Depth')\n",
    "plt.ylabel('Score')\n",
    "plt.show()"
   ]
  },
  {
   "cell_type": "code",
   "execution_count": 132,
   "id": "d6059e1e",
   "metadata": {},
   "outputs": [
    {
     "name": "stdout",
     "output_type": "stream",
     "text": [
      "lbfgs\n",
      "Train:  0.4716672125777923\n",
      "Val:  0.4548133595284872\n"
     ]
    }
   ],
   "source": [
    "logit = LogisticRegression(C=1, random_state=42, solver='lbfgs')\n",
    "logit.fit(X_train, y_train)\n",
    "y_pred = logit.predict(X_train)\n",
    "print('lbfgs')\n",
    "print('Train: ', logit.score(X_train, y_train))\n",
    "print('Val: ', logit.score(X_val, y_val))"
   ]
  },
  {
   "cell_type": "code",
   "execution_count": 135,
   "id": "2b0c1c9c",
   "metadata": {},
   "outputs": [
    {
     "name": "stdout",
     "output_type": "stream",
     "text": [
      "newton-cg\n",
      "Train:  0.5450376678676712\n",
      "Val:  0.5275049115913556\n"
     ]
    }
   ],
   "source": [
    "logit = LogisticRegression(C=1, random_state=42, solver='newton-cg')\n",
    "logit.fit(X_train, y_train)\n",
    "y_pred = logit.predict(X_train)\n",
    "print('newton-cg')\n",
    "print('Train: ', logit.score(X_train, y_train))\n",
    "print('Val: ', logit.score(X_val, y_val))"
   ]
  },
  {
   "cell_type": "code",
   "execution_count": 140,
   "id": "b6bb2be8",
   "metadata": {},
   "outputs": [
    {
     "name": "stdout",
     "output_type": "stream",
     "text": [
      "liblinear\n",
      "Train:  0.53422862757943\n",
      "Val:  0.537328094302554\n"
     ]
    }
   ],
   "source": [
    "logit = LogisticRegression(C=2, random_state=42, solver='liblinear')\n",
    "logit.fit(X_train, y_train)\n",
    "y_pred = logit.predict(X_train)\n",
    "print('liblinear')\n",
    "print('Train: ', logit.score(X_train, y_train))\n",
    "print('Val: ', logit.score(X_val, y_val))"
   ]
  },
  {
   "cell_type": "code",
   "execution_count": 138,
   "id": "bfa76107",
   "metadata": {},
   "outputs": [
    {
     "name": "stdout",
     "output_type": "stream",
     "text": [
      "sag\n",
      "Train:  0.4818211595152309\n",
      "Val:  0.4538310412573674\n"
     ]
    }
   ],
   "source": [
    "logit = LogisticRegression(C=1, random_state=42, solver='sag')\n",
    "logit.fit(X_train, y_train)\n",
    "y_pred = logit.predict(X_train)\n",
    "print('sag')\n",
    "print('Train: ', logit.score(X_train, y_train))\n",
    "print('Val: ', logit.score(X_val, y_val))"
   ]
  },
  {
   "cell_type": "code",
   "execution_count": 139,
   "id": "5a06e46e",
   "metadata": {},
   "outputs": [
    {
     "name": "stdout",
     "output_type": "stream",
     "text": [
      "saga\n",
      "Train:  0.4723223059285948\n",
      "Val:  0.44695481335952847\n"
     ]
    }
   ],
   "source": [
    "logit = LogisticRegression(C=1, random_state=42, solver='saga')\n",
    "logit.fit(X_train, y_train)\n",
    "y_pred = logit.predict(X_train)\n",
    "print('saga')\n",
    "print('Train: ', logit.score(X_train, y_train))\n",
    "print('Val: ', logit.score(X_val, y_val))"
   ]
  },
  {
   "cell_type": "code",
   "execution_count": 199,
   "id": "2244bd4d",
   "metadata": {},
   "outputs": [],
   "source": [
    "knn_train = []\n",
    "knn_val = []\n",
    "depth = []\n",
    "\n",
    "for i in range(2, 51):\n",
    "    knn = KNeighborsClassifier(n_neighbors=i, weights='uniform')\n",
    "    knn.fit(X_train, y_train)\n",
    "    y_pred = knn.predict(X_train)\n",
    "    y_pred_proba = knn.predict_proba(X_train)\n",
    "    \n",
    "    depth.append(i)\n",
    "    knn_train.append(knn.score(X_train, y_train))\n",
    "    knn_val.append(knn.score(X_val, y_val))"
   ]
  },
  {
   "cell_type": "code",
   "execution_count": 200,
   "id": "3dc7aa2c",
   "metadata": {},
   "outputs": [],
   "source": [
    "knn_scores = pd.DataFrame({'score':knn_train,\n",
    "                           'type':'train',\n",
    "                           'depth':depth})\n",
    "\n",
    "val_knn_scores = pd.DataFrame({'score':knn_val,\n",
    "                               'type':'val',\n",
    "                               'depth':depth})\n",
    "\n",
    "knn_scores = knn_scores.append(val_knn_scores)"
   ]
  },
  {
   "cell_type": "code",
   "execution_count": 201,
   "id": "3ba2e888",
   "metadata": {},
   "outputs": [
    {
     "data": {
      "image/png": "[encoded data removed]",
      "text/plain": [
       "<Figure size 640x480 with 1 Axes>"
      ]
     },
     "metadata": {},
     "output_type": "display_data"
    }
   ],
   "source": [
    "sns.scatterplot(x='depth', y='score', data=knn_scores, hue='type')\n",
    "plt.xlabel('Depth')\n",
    "plt.ylabel('Score')\n",
    "plt.show()"
   ]
  },
  {
   "cell_type": "code",
   "execution_count": null,
   "id": "b96ebeb5",
   "metadata": {},
   "outputs": [],
   "source": []
  }
 ],
 "metadata": {
  "kernelspec": {
   "display_name": "Python 3 (ipykernel)",
   "language": "python",
   "name": "python3"
  },
  "language_info": {
   "codemirror_mode": {
    "name": "ipython",
    "version": 3
   },
   "file_extension": ".py",
   "mimetype": "text/x-python",
   "name": "python",
   "nbconvert_exporter": "python",
   "pygments_lexer": "ipython3",
   "version": "3.9.13"
  }
 },
 "nbformat": 4,
 "nbformat_minor": 5
}
