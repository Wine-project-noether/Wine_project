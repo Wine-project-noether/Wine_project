{
 "cells": [
  {
   "cell_type": "code",
   "execution_count": 1,
   "id": "e16c7b14",
   "metadata": {},
   "outputs": [],
   "source": [
    "import pandas as pd\n",
    "import numpy as np\n",
    "import matplotlib.pyplot as plt\n",
    "import seaborn as sns\n",
    "import prepare as prep\n",
    "\n",
    "import warnings\n",
    "warnings.filterwarnings('ignore')\n",
    "\n",
    "from scipy import stats\n",
    "\n",
    "from sklearn.cluster import KMeans\n",
    "from sklearn.cluster import DBSCAN"
   ]
  },
  {
   "cell_type": "code",
   "execution_count": 2,
   "id": "2ecd64dc",
   "metadata": {},
   "outputs": [],
   "source": [
    "def find_k(X_train, cluster_vars, k_range):\n",
    "    sse = []\n",
    "    for k in k_range:\n",
    "        kmeans = KMeans(n_clusters=k)\n",
    "\n",
    "        # X[0] is our X_train dataframe..the first dataframe in the list of dataframes stored in X. \n",
    "        kmeans.fit(X_train[cluster_vars])\n",
    "\n",
    "        # inertia: Sum of squared distances of samples to their closest cluster center.\n",
    "        sse.append(kmeans.inertia_) \n",
    "\n",
    "    # compute the difference from one k to the next\n",
    "    delta = [round(sse[i] - sse[i+1],0) for i in range(len(sse)-1)]\n",
    "\n",
    "    # compute the percent difference from one k to the next\n",
    "    pct_delta = [round(((sse[i] - sse[i+1])/sse[i])*100, 1) for i in range(len(sse)-1)]\n",
    "\n",
    "    # create a dataframe with all of our metrics to compare them across values of k: SSE, delta, pct_delta\n",
    "    k_comparisons_df = pd.DataFrame(dict(k=k_range[0:-1], \n",
    "                             sse=sse[0:-1], \n",
    "                             delta=delta, \n",
    "                             pct_delta=pct_delta))\n",
    "\n",
    "    # plot k with inertia\n",
    "    plt.plot(k_comparisons_df.k, k_comparisons_df.sse, 'bx-')\n",
    "    plt.xlabel('k')\n",
    "    plt.ylabel('SSE')\n",
    "    plt.title('The Elbow Method to find the optimal k\\nFor which k values do we see large decreases in SSE?')\n",
    "    plt.show()\n",
    "\n",
    "    # plot k with pct_delta\n",
    "    plt.plot(k_comparisons_df.k, k_comparisons_df.pct_delta, 'bx-')\n",
    "    plt.xlabel('k')\n",
    "    plt.ylabel('Percent Change')\n",
    "    plt.title('For which k values are we seeing increased changes (%) in SSE?')\n",
    "    plt.show()\n",
    "\n",
    "    # plot k with delta\n",
    "    plt.plot(k_comparisons_df.k, k_comparisons_df.delta, 'bx-')\n",
    "    plt.xlabel('k')\n",
    "    plt.ylabel('Absolute Change in SSE')\n",
    "    plt.title('For which k values are we seeing increased changes (absolute) in SSE?')\n",
    "    plt.show()\n",
    "\n",
    "    return k_comparisons_df\n",
    "\n"
   ]
  },
  {
   "cell_type": "code",
   "execution_count": 3,
   "id": "121459ce",
   "metadata": {},
   "outputs": [],
   "source": [
    "def create_clusters(X, k, cluster_vars):\n",
    "    # create kmean object\n",
    "    kmeans = KMeans(n_clusters=k, random_state = 42)\n",
    "\n",
    "    # fit to train and assign cluster ids to observations\n",
    "    kmeans.fit(X[0][cluster_vars])\n",
    "\n",
    "    return kmeans\n",
    "\n"
   ]
  },
  {
   "cell_type": "code",
   "execution_count": 4,
   "id": "906c355f",
   "metadata": {},
   "outputs": [],
   "source": [
    "def get_centroids(kmeans, cluster_vars, cluster_name):\n",
    "    # get the centroids for each distinct cluster...\n",
    "\n",
    "    centroid_col_names = ['centroid_' + i for i in cluster_vars]\n",
    "\n",
    "    centroid_df = pd.DataFrame(kmeans.cluster_centers_, \n",
    "                               columns=centroid_col_names).reset_index().rename(columns={'index': cluster_name})\n",
    "\n",
    "    return centroid_df\n",
    "\n"
   ]
  },
  {
   "cell_type": "code",
   "execution_count": 5,
   "id": "d01c61ed",
   "metadata": {},
   "outputs": [],
   "source": [
    "def assign_clusters(kmeans, cluster_vars, cluster_name, centroid_df, X):\n",
    "    for i in range(len(X)):\n",
    "        clusters = pd.DataFrame(kmeans.predict(X[i][cluster_vars]), \n",
    "                            columns=[cluster_name], index=X[i].index)\n",
    "\n",
    "        clusters_centroids = clusters.merge(centroid_df, on=cluster_name, copy=False).set_index(clusters.index.values)\n",
    "\n",
    "        X[i] = pd.concat([X[i], clusters_centroids], axis=1)\n",
    "    return X\n",
    "\n"
   ]
  },
  {
   "cell_type": "code",
   "execution_count": 7,
   "id": "811407b8",
   "metadata": {},
   "outputs": [],
   "source": [
    "def cluster_so2(X):\n",
    "    \n",
    "    cluster_vars = ['fso2', 'tso2']\n",
    "    cluster_name = 'so2'\n",
    "    \n",
    "    k = 5\n",
    "    \n",
    "    kmeans = create_clusters(X[0], k, cluster_vars)\n",
    "    \n",
    "    centroid_df_so2 = get_centroids(kmeans, cluster_vars, cluster_name)\n",
    "    \n",
    "    X = assign_clusters(kmeans, cluster_vars, cluster_name, centroid_df_so2)\n",
    "    \n",
    "    return X"
   ]
  },
  {
   "cell_type": "code",
   "execution_count": 8,
   "id": "1c347d4d",
   "metadata": {},
   "outputs": [],
   "source": [
    "def cluster_acids(X):\n",
    "    \n",
    "    cluster_vars = ['fixed', 'volatile', 'citric']\n",
    "    cluster_name = 'acids'\n",
    "    \n",
    "    k = 3\n",
    "    \n",
    "    kmeans = create_clusters(X[0], k, cluster_vars)\n",
    "    \n",
    "    centroid_df_acid = get_centroids(kmeans, cluster_vars, cluster_name)\n",
    "    \n",
    "    X = assign_clusters(kmeans, cluster_vars, cluster_name, centroid_df_acid)\n",
    "    \n",
    "    return X"
   ]
  },
  {
   "cell_type": "code",
   "execution_count": 9,
   "id": "c0343814",
   "metadata": {},
   "outputs": [],
   "source": [
    "def cluster_visc(X):\n",
    "    \n",
    "    cluster_vars = ['density', 'alcohol']\n",
    "    cluster_name = 'visc'\n",
    "    \n",
    "    k = 5 \n",
    "    \n",
    "    kmeans = create_clusters(X[0], k, cluster_vars)\n",
    "    \n",
    "    centroid_df_visc = get_centroids(kmeans, cluster_vars, cluster_name)\n",
    "    \n",
    "    X = assign_clusters(kmeans, cluster_vars, cluster_name, centroid_df_visc)\n",
    "    \n",
    "    return X"
   ]
  },
  {
   "cell_type": "code",
   "execution_count": null,
   "id": "eb1156e5",
   "metadata": {},
   "outputs": [],
   "source": []
  }
 ],
 "metadata": {
  "kernelspec": {
   "display_name": "Python 3 (ipykernel)",
   "language": "python",
   "name": "python3"
  },
  "language_info": {
   "codemirror_mode": {
    "name": "ipython",
    "version": 3
   },
   "file_extension": ".py",
   "mimetype": "text/x-python",
   "name": "python",
   "nbconvert_exporter": "python",
   "pygments_lexer": "ipython3",
   "version": "3.9.13"
  }
 },
 "nbformat": 4,
 "nbformat_minor": 5
}
